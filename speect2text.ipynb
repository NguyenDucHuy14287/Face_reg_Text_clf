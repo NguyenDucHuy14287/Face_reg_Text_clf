{
 "cells": [
  {
   "cell_type": "code",
   "execution_count": 5,
   "id": "48f27382",
   "metadata": {},
   "outputs": [
    {
     "ename": "ModuleNotFoundError",
     "evalue": "No module named 'google.cloud'",
     "output_type": "error",
     "traceback": [
      "\u001b[1;31m---------------------------------------------------------------------------\u001b[0m",
      "\u001b[1;31mModuleNotFoundError\u001b[0m                       Traceback (most recent call last)",
      "Input \u001b[1;32mIn [5]\u001b[0m, in \u001b[0;36m<cell line: 1>\u001b[1;34m()\u001b[0m\n\u001b[1;32m----> 1\u001b[0m \u001b[38;5;28;01mfrom\u001b[39;00m \u001b[38;5;21;01mgoogle\u001b[39;00m\u001b[38;5;21;01m.\u001b[39;00m\u001b[38;5;21;01mcloud\u001b[39;00m \u001b[38;5;28;01mimport\u001b[39;00m speech_v1p1beta1\n\u001b[0;32m      2\u001b[0m \u001b[38;5;28;01mimport\u001b[39;00m \u001b[38;5;21;01mos\u001b[39;00m\n\u001b[0;32m      3\u001b[0m \u001b[38;5;28;01mimport\u001b[39;00m \u001b[38;5;21;01mio\u001b[39;00m\n",
      "\u001b[1;31mModuleNotFoundError\u001b[0m: No module named 'google.cloud'"
     ]
    }
   ],
   "source": [
    "from google.cloud import speech_v1p1beta1\n",
    "import os\n",
    "import io\n",
    "\n",
    "os.environ[\"GOOGLE_APPLICATION_CREDENTIALS\"] = 'bk-tiktok-29e9951ff1b8.json'"
   ]
  },
  {
   "cell_type": "code",
   "execution_count": null,
   "id": "2ae68817",
   "metadata": {},
   "outputs": [],
   "source": [
    "def speech_to_text(file):\n",
    "    # Creates google client\n",
    "    client = speech_v1p1beta1.SpeechClient()\n",
    "\n",
    "    # Full path of the audio file, Replace with your file name\n",
    "    file_name = os.path.join(os.path.dirname(__file__), \"mp3/\" + file)\n",
    "\n",
    "    # Loads the audio file into memory\n",
    "    with io.open(file_name, \"rb\") as audio_file:\n",
    "        content = audio_file.read()\n",
    "        audio = speech_v1p1beta1.RecognitionAudio(content=content)\n",
    "\n",
    "    config = speech_v1p1beta1.RecognitionConfig(\n",
    "        encoding=speech_v1p1beta1.RecognitionConfig.AudioEncoding.MP3,\n",
    "        audio_channel_count=2,\n",
    "        language_code=\"vi-VN\",\n",
    "        alternative_language_codes=[\"en-US\", \"vi-VN\"],\n",
    "        model=\"command_and_search\",\n",
    "        sample_rate_hertz=16000,\n",
    "    )\n",
    "\n",
    "    try:\n",
    "        # Sends the request to google to transcribe the audio\n",
    "        response = client.recognize(request={\"config\": config, \"audio\": audio})\n",
    "\n",
    "        # Reads the response\n",
    "        _text = \"\"\n",
    "        for result in response.results:\n",
    "            print(\"Transcript: {}\".format(result.alternatives[0].transcript))\n",
    "            _text = _text + \" \" + format(result.alternatives[0].transcript)\n",
    "        return _text\n",
    "    except:\n",
    "        return ''"
   ]
  },
  {
   "cell_type": "code",
   "execution_count": null,
   "id": "58c5142a",
   "metadata": {},
   "outputs": [],
   "source": [
    "text = speech_to_text('7086795403257072411.mp3')\n",
    "print('text')"
   ]
  }
 ],
 "metadata": {
  "kernelspec": {
   "display_name": "Python 3 (ipykernel)",
   "language": "python",
   "name": "python3"
  },
  "language_info": {
   "codemirror_mode": {
    "name": "ipython",
    "version": 3
   },
   "file_extension": ".py",
   "mimetype": "text/x-python",
   "name": "python",
   "nbconvert_exporter": "python",
   "pygments_lexer": "ipython3",
   "version": "3.8.13"
  }
 },
 "nbformat": 4,
 "nbformat_minor": 5
}
