{
 "cells": [
  {
   "cell_type": "code",
   "execution_count": 1,
   "id": "cd931c7f",
   "metadata": {},
   "outputs": [],
   "source": [
    "import warnings\n",
    "warnings.filterwarnings('ignore')\n",
    "import pandas as pd\n",
    "import numpy as np\n",
    "import pickle"
   ]
  },
  {
   "cell_type": "code",
   "execution_count": 2,
   "id": "15af4a76",
   "metadata": {},
   "outputs": [],
   "source": [
    "def write_pickle(object, file_name):\n",
    "    with open(file_name, \"wb\") as handle:\n",
    "        pickle.dump(object, handle, protocol=pickle.HIGHEST_PROTOCOL)\n",
    "\n",
    "def read_pickle(path):\n",
    "    with open(path, 'rb') as handle:\n",
    "        return pickle.load(handle)"
   ]
  },
  {
   "cell_type": "markdown",
   "id": "de9d56a2",
   "metadata": {},
   "source": [
    "# Load raw data"
   ]
  },
  {
   "cell_type": "code",
   "execution_count": 139,
   "id": "7b335d95",
   "metadata": {
    "scrolled": true
   },
   "outputs": [],
   "source": [
    "df_web = pd.read_csv('text_website.csv', header=None).rename(columns={0: \"label\", 1: \"text\"})\n",
    "df_tiktok = pd.read_csv('text_tiktok.csv', header=None).rename(columns={0: \"label\", 1: \"text\"})"
   ]
  },
  {
   "cell_type": "code",
   "execution_count": 140,
   "id": "d16e4441",
   "metadata": {},
   "outputs": [
    {
     "data": {
      "text/html": [
       "<div>\n",
       "<style scoped>\n",
       "    .dataframe tbody tr th:only-of-type {\n",
       "        vertical-align: middle;\n",
       "    }\n",
       "\n",
       "    .dataframe tbody tr th {\n",
       "        vertical-align: top;\n",
       "    }\n",
       "\n",
       "    .dataframe thead th {\n",
       "        text-align: right;\n",
       "    }\n",
       "</style>\n",
       "<table border=\"1\" class=\"dataframe\">\n",
       "  <thead>\n",
       "    <tr style=\"text-align: right;\">\n",
       "      <th></th>\n",
       "      <th>label</th>\n",
       "      <th>text</th>\n",
       "    </tr>\n",
       "  </thead>\n",
       "  <tbody>\n",
       "    <tr>\n",
       "      <th>0</th>\n",
       "      <td>1</td>\n",
       "      <td>Với quyết định trên Hà Nội là địa phương đầu t...</td>\n",
       "    </tr>\n",
       "    <tr>\n",
       "      <th>1</th>\n",
       "      <td>1</td>\n",
       "      <td>Sáng 254 Ủy ban Thường vụ Quốc hội cho ý kiến ...</td>\n",
       "    </tr>\n",
       "    <tr>\n",
       "      <th>2</th>\n",
       "      <td>1</td>\n",
       "      <td>Theo thông cáo chiều 214 tại kỳ họp thứ 14 192...</td>\n",
       "    </tr>\n",
       "    <tr>\n",
       "      <th>3</th>\n",
       "      <td>1</td>\n",
       "      <td>Thường trực Ban Bí thư Võ Văn Thưởng vừa ký kế...</td>\n",
       "    </tr>\n",
       "    <tr>\n",
       "      <th>4</th>\n",
       "      <td>1</td>\n",
       "      <td>Theo thông cáo của Văn phòng Trung ương Đảng c...</td>\n",
       "    </tr>\n",
       "  </tbody>\n",
       "</table>\n",
       "</div>"
      ],
      "text/plain": [
       "   label                                               text\n",
       "0      1  Với quyết định trên Hà Nội là địa phương đầu t...\n",
       "1      1  Sáng 254 Ủy ban Thường vụ Quốc hội cho ý kiến ...\n",
       "2      1  Theo thông cáo chiều 214 tại kỳ họp thứ 14 192...\n",
       "3      1  Thường trực Ban Bí thư Võ Văn Thưởng vừa ký kế...\n",
       "4      1  Theo thông cáo của Văn phòng Trung ương Đảng c..."
      ]
     },
     "execution_count": 140,
     "metadata": {},
     "output_type": "execute_result"
    }
   ],
   "source": [
    "df_web.head()"
   ]
  },
  {
   "cell_type": "code",
   "execution_count": 141,
   "id": "a8eeeaff",
   "metadata": {},
   "outputs": [
    {
     "data": {
      "text/html": [
       "<div>\n",
       "<style scoped>\n",
       "    .dataframe tbody tr th:only-of-type {\n",
       "        vertical-align: middle;\n",
       "    }\n",
       "\n",
       "    .dataframe tbody tr th {\n",
       "        vertical-align: top;\n",
       "    }\n",
       "\n",
       "    .dataframe thead th {\n",
       "        text-align: right;\n",
       "    }\n",
       "</style>\n",
       "<table border=\"1\" class=\"dataframe\">\n",
       "  <thead>\n",
       "    <tr style=\"text-align: right;\">\n",
       "      <th></th>\n",
       "      <th>label</th>\n",
       "      <th>text</th>\n",
       "    </tr>\n",
       "  </thead>\n",
       "  <tbody>\n",
       "    <tr>\n",
       "      <th>0</th>\n",
       "      <td>1</td>\n",
       "      <td>12 luật cấm kỳ lạ ở Triều Tiên khiến cả thế g...</td>\n",
       "    </tr>\n",
       "    <tr>\n",
       "      <th>1</th>\n",
       "      <td>1</td>\n",
       "      <td>Việt Nam ơi giống vùng kín Ngàn Năm lưu dành ...</td>\n",
       "    </tr>\n",
       "    <tr>\n",
       "      <th>2</th>\n",
       "      <td>1</td>\n",
       "      <td>dưới cờ đỏ sao vàng thiêng liêng của tổ quốc ...</td>\n",
       "    </tr>\n",
       "    <tr>\n",
       "      <th>3</th>\n",
       "      <td>1</td>\n",
       "      <td>quốc gia nào trong khu vực Đông Nam Á được th...</td>\n",
       "    </tr>\n",
       "    <tr>\n",
       "      <th>4</th>\n",
       "      <td>1</td>\n",
       "      <td>không là người yêu cũ của ai cả Bởi vì nếu nh...</td>\n",
       "    </tr>\n",
       "  </tbody>\n",
       "</table>\n",
       "</div>"
      ],
      "text/plain": [
       "   label                                               text\n",
       "0      1   12 luật cấm kỳ lạ ở Triều Tiên khiến cả thế g...\n",
       "1      1   Việt Nam ơi giống vùng kín Ngàn Năm lưu dành ...\n",
       "2      1   dưới cờ đỏ sao vàng thiêng liêng của tổ quốc ...\n",
       "3      1   quốc gia nào trong khu vực Đông Nam Á được th...\n",
       "4      1   không là người yêu cũ của ai cả Bởi vì nếu nh..."
      ]
     },
     "execution_count": 141,
     "metadata": {},
     "output_type": "execute_result"
    }
   ],
   "source": [
    "df_tiktok.head()"
   ]
  },
  {
   "cell_type": "markdown",
   "id": "c7e4ef94",
   "metadata": {},
   "source": [
    "# Preprocessing"
   ]
  },
  {
   "cell_type": "code",
   "execution_count": 1,
   "id": "05de5fe9",
   "metadata": {},
   "outputs": [],
   "source": [
    "import re\n",
    "from underthesea import word_tokenize\n",
    "# vncorenlp\n",
    "# from pyvi import ViTokenizer\n",
    "\n",
    "def is_number(text):\n",
    "    try:\n",
    "        float(text)\n",
    "        return True\n",
    "    except ValueError:\n",
    "        return False\n",
    "\n",
    "def preprocess_text(text):    \n",
    "    text = re.sub(r'<[^>]*>', '', text)\n",
    "    text = text.lower()\n",
    "    text = word_tokenize(text, format=\"text\")\n",
    "    text = re.sub(r'[^\\s\\wáàảãạăắằẳẵặâấầẩẫậéèẻẽẹêếềểễệóòỏõọôốồổỗộơớờởỡợíìỉĩịúùủũụưứừửữựýỳỷỹỵđ_\\[\\]]',' ', text)\n",
    "    text = re.sub(r'\\s+', ' ', text).strip()\n",
    "    text = ' '.join(map(lambda x: '<number>' if is_number(x) else x, text.split()))\n",
    "    return text"
   ]
  },
  {
   "cell_type": "code",
   "execution_count": 124,
   "id": "9cd1c14a",
   "metadata": {},
   "outputs": [],
   "source": [
    "# df_web['preprocessed_text'] = df_web['text'].apply(preprocess_text)\n",
    "# df_tiktok['preprocessed_text'] = df_tiktok['text'].apply(preprocess_text)"
   ]
  },
  {
   "cell_type": "code",
   "execution_count": null,
   "id": "6086b403",
   "metadata": {},
   "outputs": [],
   "source": []
  },
  {
   "cell_type": "code",
   "execution_count": 128,
   "id": "00afc275",
   "metadata": {},
   "outputs": [],
   "source": [
    "# df_web[['label', 'preprocessed_text']].to_csv('preprocessed_web.csv', index=False)\n",
    "# df_tiktok[['label', 'preprocessed_text']].to_csv('preprocessed_tiktok.csv', index=False)"
   ]
  },
  {
   "cell_type": "markdown",
   "id": "94c84310",
   "metadata": {},
   "source": [
    "# Load preprocessed data"
   ]
  },
  {
   "cell_type": "code",
   "execution_count": 4,
   "id": "a9f101e4",
   "metadata": {},
   "outputs": [],
   "source": [
    "df_web = pd.read_csv('preprocessed_web.csv')\n",
    "df_tiktok = pd.read_csv('preprocessed_tiktok.csv')"
   ]
  },
  {
   "cell_type": "code",
   "execution_count": 6,
   "id": "6743a3b5",
   "metadata": {},
   "outputs": [
    {
     "data": {
      "text/html": [
       "<div>\n",
       "<style scoped>\n",
       "    .dataframe tbody tr th:only-of-type {\n",
       "        vertical-align: middle;\n",
       "    }\n",
       "\n",
       "    .dataframe tbody tr th {\n",
       "        vertical-align: top;\n",
       "    }\n",
       "\n",
       "    .dataframe thead th {\n",
       "        text-align: right;\n",
       "    }\n",
       "</style>\n",
       "<table border=\"1\" class=\"dataframe\">\n",
       "  <thead>\n",
       "    <tr style=\"text-align: right;\">\n",
       "      <th></th>\n",
       "      <th>label</th>\n",
       "      <th>preprocessed_text</th>\n",
       "    </tr>\n",
       "  </thead>\n",
       "  <tbody>\n",
       "    <tr>\n",
       "      <th>0</th>\n",
       "      <td>1</td>\n",
       "      <td>với quyết_định trên hà_nội là địa_phương đầu_t...</td>\n",
       "    </tr>\n",
       "    <tr>\n",
       "      <th>1</th>\n",
       "      <td>1</td>\n",
       "      <td>sáng 254_ủy_ban thường_vụ quốc_hội cho ý_kiến ...</td>\n",
       "    </tr>\n",
       "    <tr>\n",
       "      <th>2</th>\n",
       "      <td>1</td>\n",
       "      <td>theo thông_cáo chiều &lt;number&gt; tại kỳ họp thứ &lt;...</td>\n",
       "    </tr>\n",
       "    <tr>\n",
       "      <th>3</th>\n",
       "      <td>1</td>\n",
       "      <td>thường trực_ban bí_thư võ văn thưởng vừa ký_kế...</td>\n",
       "    </tr>\n",
       "    <tr>\n",
       "      <th>4</th>\n",
       "      <td>1</td>\n",
       "      <td>theo thông_cáo của văn_phòng trung_ương đảng c...</td>\n",
       "    </tr>\n",
       "  </tbody>\n",
       "</table>\n",
       "</div>"
      ],
      "text/plain": [
       "   label                                  preprocessed_text\n",
       "0      1  với quyết_định trên hà_nội là địa_phương đầu_t...\n",
       "1      1  sáng 254_ủy_ban thường_vụ quốc_hội cho ý_kiến ...\n",
       "2      1  theo thông_cáo chiều <number> tại kỳ họp thứ <...\n",
       "3      1  thường trực_ban bí_thư võ văn thưởng vừa ký_kế...\n",
       "4      1  theo thông_cáo của văn_phòng trung_ương đảng c..."
      ]
     },
     "execution_count": 6,
     "metadata": {},
     "output_type": "execute_result"
    }
   ],
   "source": [
    "df_web.head()"
   ]
  },
  {
   "cell_type": "code",
   "execution_count": 7,
   "id": "6c725794",
   "metadata": {},
   "outputs": [
    {
     "data": {
      "text/html": [
       "<div>\n",
       "<style scoped>\n",
       "    .dataframe tbody tr th:only-of-type {\n",
       "        vertical-align: middle;\n",
       "    }\n",
       "\n",
       "    .dataframe tbody tr th {\n",
       "        vertical-align: top;\n",
       "    }\n",
       "\n",
       "    .dataframe thead th {\n",
       "        text-align: right;\n",
       "    }\n",
       "</style>\n",
       "<table border=\"1\" class=\"dataframe\">\n",
       "  <thead>\n",
       "    <tr style=\"text-align: right;\">\n",
       "      <th></th>\n",
       "      <th>label</th>\n",
       "      <th>preprocessed_text</th>\n",
       "    </tr>\n",
       "  </thead>\n",
       "  <tbody>\n",
       "    <tr>\n",
       "      <th>0</th>\n",
       "      <td>1</td>\n",
       "      <td>&lt;number&gt; luật cấm kỳ_lạ ở triều tiên khiến cả ...</td>\n",
       "    </tr>\n",
       "    <tr>\n",
       "      <th>1</th>\n",
       "      <td>1</td>\n",
       "      <td>việt nam ơi giống vùng kín ngàn năm lưu dành s...</td>\n",
       "    </tr>\n",
       "    <tr>\n",
       "      <th>2</th>\n",
       "      <td>1</td>\n",
       "      <td>dưới cờ đỏ sao_vàng thiêng_liêng của tổ_quốc t...</td>\n",
       "    </tr>\n",
       "    <tr>\n",
       "      <th>3</th>\n",
       "      <td>1</td>\n",
       "      <td>quốc_gia nào trong khu_vực đông nam á được thể...</td>\n",
       "    </tr>\n",
       "    <tr>\n",
       "      <th>4</th>\n",
       "      <td>1</td>\n",
       "      <td>không là người_yêu cũ của ai cả bởi_vì nếu_như...</td>\n",
       "    </tr>\n",
       "  </tbody>\n",
       "</table>\n",
       "</div>"
      ],
      "text/plain": [
       "   label                                  preprocessed_text\n",
       "0      1  <number> luật cấm kỳ_lạ ở triều tiên khiến cả ...\n",
       "1      1  việt nam ơi giống vùng kín ngàn năm lưu dành s...\n",
       "2      1  dưới cờ đỏ sao_vàng thiêng_liêng của tổ_quốc t...\n",
       "3      1  quốc_gia nào trong khu_vực đông nam á được thể...\n",
       "4      1  không là người_yêu cũ của ai cả bởi_vì nếu_như..."
      ]
     },
     "execution_count": 7,
     "metadata": {},
     "output_type": "execute_result"
    }
   ],
   "source": [
    "df_tiktok.head()"
   ]
  },
  {
   "cell_type": "code",
   "execution_count": 8,
   "id": "fee3984d",
   "metadata": {},
   "outputs": [],
   "source": [
    "from sklearn.model_selection import train_test_split\n",
    "\n",
    "df_web_train, df_web_test = train_test_split(df_web, test_size=0.2, random_state=2022, stratify=df_web['label'])\n",
    "df_tiktok_train, df_tiktok_test = train_test_split(df_tiktok, test_size=0.2, random_state=2022, stratify=df_tiktok['label'])"
   ]
  },
  {
   "cell_type": "code",
   "execution_count": 9,
   "id": "b7349da2",
   "metadata": {},
   "outputs": [],
   "source": [
    "df_train = pd.concat([df_web_train, df_tiktok_train], axis=0)\n",
    "df_test = pd.concat([df_web_test, df_tiktok_test], axis=0)"
   ]
  },
  {
   "cell_type": "markdown",
   "id": "70a9d14d",
   "metadata": {},
   "source": [
    "### Prepare data for fasttext"
   ]
  },
  {
   "cell_type": "code",
   "execution_count": 54,
   "id": "0449e990",
   "metadata": {},
   "outputs": [],
   "source": [
    "df_train['fasttext_label'] = '__label__' + df_train['label'].astype(str) "
   ]
  },
  {
   "cell_type": "code",
   "execution_count": 55,
   "id": "6c5f2097",
   "metadata": {},
   "outputs": [
    {
     "data": {
      "text/html": [
       "<div>\n",
       "<style scoped>\n",
       "    .dataframe tbody tr th:only-of-type {\n",
       "        vertical-align: middle;\n",
       "    }\n",
       "\n",
       "    .dataframe tbody tr th {\n",
       "        vertical-align: top;\n",
       "    }\n",
       "\n",
       "    .dataframe thead th {\n",
       "        text-align: right;\n",
       "    }\n",
       "</style>\n",
       "<table border=\"1\" class=\"dataframe\">\n",
       "  <thead>\n",
       "    <tr style=\"text-align: right;\">\n",
       "      <th></th>\n",
       "      <th>fasttext_label</th>\n",
       "      <th>preprocessed_text</th>\n",
       "    </tr>\n",
       "  </thead>\n",
       "  <tbody>\n",
       "    <tr>\n",
       "      <th>3857</th>\n",
       "      <td>__label__0</td>\n",
       "      <td>do lượng đăng_ký dự vm quy_nhơn tăng mạnh nhữn...</td>\n",
       "    </tr>\n",
       "    <tr>\n",
       "      <th>6572</th>\n",
       "      <td>__label__0</td>\n",
       "      <td>cầu_thủ saudi arabia áo trắng trong vòng_vây c...</td>\n",
       "    </tr>\n",
       "    <tr>\n",
       "      <th>11904</th>\n",
       "      <td>__label__0</td>\n",
       "      <td>mức lợi_nhuận hợp_nhất nửa đầu năm mà ngân_hàn...</td>\n",
       "    </tr>\n",
       "    <tr>\n",
       "      <th>5113</th>\n",
       "      <td>__label__1</td>\n",
       "      <td>với &lt;number&gt; lượt ý_kiến thảo_luận tại tổ và h...</td>\n",
       "    </tr>\n",
       "    <tr>\n",
       "      <th>12600</th>\n",
       "      <td>__label__0</td>\n",
       "      <td>thủ_tướng phạm minh chính tiếp đoàn doanh_nghi...</td>\n",
       "    </tr>\n",
       "  </tbody>\n",
       "</table>\n",
       "</div>"
      ],
      "text/plain": [
       "      fasttext_label                                  preprocessed_text\n",
       "3857      __label__0  do lượng đăng_ký dự vm quy_nhơn tăng mạnh nhữn...\n",
       "6572      __label__0  cầu_thủ saudi arabia áo trắng trong vòng_vây c...\n",
       "11904     __label__0  mức lợi_nhuận hợp_nhất nửa đầu năm mà ngân_hàn...\n",
       "5113      __label__1  với <number> lượt ý_kiến thảo_luận tại tổ và h...\n",
       "12600     __label__0  thủ_tướng phạm minh chính tiếp đoàn doanh_nghi..."
      ]
     },
     "execution_count": 55,
     "metadata": {},
     "output_type": "execute_result"
    }
   ],
   "source": [
    "df_train[['fasttext_label', 'preprocessed_text']].head()"
   ]
  },
  {
   "cell_type": "code",
   "execution_count": 57,
   "id": "6a5d44ac",
   "metadata": {},
   "outputs": [],
   "source": [
    "df_train[['fasttext_label', 'preprocessed_text']].to_csv('train.txt', header=None, index=None, sep='#')"
   ]
  },
  {
   "cell_type": "markdown",
   "id": "144ede07",
   "metadata": {},
   "source": [
    "# Featurize (tf-idf)"
   ]
  },
  {
   "cell_type": "code",
   "execution_count": 117,
   "id": "ec38b582",
   "metadata": {},
   "outputs": [],
   "source": [
    "from sklearn.feature_extraction.text import TfidfVectorizer\n",
    "# https://scikit-learn.org/0.24/modules/generated/sklearn.feature_extraction.text.TfidfVectorizer.html?highlight=tfidf#sklearn.feature_extraction.text.TfidfVectorizer"
   ]
  },
  {
   "cell_type": "code",
   "execution_count": 135,
   "id": "c61507fa",
   "metadata": {},
   "outputs": [],
   "source": [
    "corpus = pd.concat([df_web['preprocessed_text'], df_tiktok['preprocessed_text']])"
   ]
  },
  {
   "cell_type": "code",
   "execution_count": 137,
   "id": "4c9e9af7",
   "metadata": {},
   "outputs": [
    {
     "data": {
      "text/plain": [
       "TfidfVectorizer()"
      ]
     },
     "execution_count": 137,
     "metadata": {},
     "output_type": "execute_result"
    }
   ],
   "source": [
    "vectorizer = TfidfVectorizer()\n",
    "vectorizer.fit(corpus)"
   ]
  },
  {
   "cell_type": "code",
   "execution_count": 141,
   "id": "7d1db3a3",
   "metadata": {},
   "outputs": [],
   "source": [
    "# write_pickle(vectorizer, 'model_text/tfidfVectorizer')"
   ]
  },
  {
   "cell_type": "markdown",
   "id": "1f2bed5b",
   "metadata": {},
   "source": [
    "# Model"
   ]
  },
  {
   "cell_type": "code",
   "execution_count": 10,
   "id": "3b78118d",
   "metadata": {},
   "outputs": [],
   "source": [
    "vectorizer = read_pickle('model_text/tfidfVectorizer')"
   ]
  },
  {
   "cell_type": "code",
   "execution_count": 11,
   "id": "02c07597",
   "metadata": {},
   "outputs": [],
   "source": [
    "x_train = vectorizer.transform(df_train['preprocessed_text'])\n",
    "y_train = df_train['label']\n",
    "\n",
    "x_test = vectorizer.transform(df_test['preprocessed_text'])\n",
    "y_test = df_test['label']"
   ]
  },
  {
   "cell_type": "markdown",
   "id": "201f4ff3",
   "metadata": {},
   "source": [
    "## Random forest"
   ]
  },
  {
   "cell_type": "code",
   "execution_count": 11,
   "id": "22964786",
   "metadata": {},
   "outputs": [],
   "source": [
    "from sklearn.ensemble import RandomForestClassifier"
   ]
  },
  {
   "cell_type": "code",
   "execution_count": 12,
   "id": "02080c37",
   "metadata": {},
   "outputs": [
    {
     "data": {
      "text/plain": [
       "RandomForestClassifier(random_state=2022)"
      ]
     },
     "execution_count": 12,
     "metadata": {},
     "output_type": "execute_result"
    }
   ],
   "source": [
    "clf = RandomForestClassifier(random_state=2022)\n",
    "clf.fit(x_train, y_train)"
   ]
  },
  {
   "cell_type": "code",
   "execution_count": 164,
   "id": "14c5a20a",
   "metadata": {},
   "outputs": [],
   "source": [
    "# write_pickle(clf, 'model_text/rf_clf')"
   ]
  },
  {
   "cell_type": "markdown",
   "id": "6ccf8e9d",
   "metadata": {},
   "source": [
    "## Logistic Regression"
   ]
  },
  {
   "cell_type": "code",
   "execution_count": 13,
   "id": "0e81dc13",
   "metadata": {},
   "outputs": [],
   "source": [
    "from sklearn.linear_model import LogisticRegression"
   ]
  },
  {
   "cell_type": "code",
   "execution_count": 14,
   "id": "d25d09e3",
   "metadata": {},
   "outputs": [
    {
     "data": {
      "text/plain": [
       "LogisticRegression(random_state=0)"
      ]
     },
     "execution_count": 14,
     "metadata": {},
     "output_type": "execute_result"
    }
   ],
   "source": [
    "clf = LogisticRegression(random_state=0)\n",
    "clf.fit(x_train, y_train)"
   ]
  },
  {
   "cell_type": "code",
   "execution_count": 15,
   "id": "8a0442bc",
   "metadata": {},
   "outputs": [],
   "source": [
    "# write_pickle(clf, 'model_text/lr_clf')"
   ]
  },
  {
   "cell_type": "markdown",
   "id": "ad323e37",
   "metadata": {},
   "source": [
    "## Naive Bayes"
   ]
  },
  {
   "cell_type": "code",
   "execution_count": 18,
   "id": "e5c01b14",
   "metadata": {},
   "outputs": [],
   "source": [
    "from sklearn.naive_bayes import MultinomialNB"
   ]
  },
  {
   "cell_type": "code",
   "execution_count": 19,
   "id": "0a3953c4",
   "metadata": {},
   "outputs": [
    {
     "data": {
      "text/plain": [
       "MultinomialNB()"
      ]
     },
     "execution_count": 19,
     "metadata": {},
     "output_type": "execute_result"
    }
   ],
   "source": [
    "clf = MultinomialNB()\n",
    "clf.fit(x_train, y_train)"
   ]
  },
  {
   "cell_type": "code",
   "execution_count": 27,
   "id": "fcd7fc85",
   "metadata": {},
   "outputs": [],
   "source": [
    "# write_pickle(clf, 'model_text/nb_clf')"
   ]
  },
  {
   "cell_type": "markdown",
   "id": "cfab4cad",
   "metadata": {},
   "source": [
    "## SVM"
   ]
  },
  {
   "cell_type": "code",
   "execution_count": 28,
   "id": "645965ab",
   "metadata": {},
   "outputs": [],
   "source": [
    "from sklearn.svm import SVC"
   ]
  },
  {
   "cell_type": "code",
   "execution_count": 29,
   "id": "02842330",
   "metadata": {},
   "outputs": [
    {
     "data": {
      "text/plain": [
       "SVC()"
      ]
     },
     "execution_count": 29,
     "metadata": {},
     "output_type": "execute_result"
    }
   ],
   "source": [
    "clf = SVC(gamma='scale')\n",
    "clf.fit(x_train, y_train)"
   ]
  },
  {
   "cell_type": "code",
   "execution_count": 30,
   "id": "6ebc0703",
   "metadata": {},
   "outputs": [],
   "source": [
    "# write_pickle(clf, 'model_text/svm_clf')"
   ]
  },
  {
   "cell_type": "markdown",
   "id": "57cf7b6f",
   "metadata": {},
   "source": [
    "## Fasttext"
   ]
  },
  {
   "cell_type": "code",
   "execution_count": 4,
   "id": "e9f558e1",
   "metadata": {},
   "outputs": [],
   "source": [
    "import fasttext"
   ]
  },
  {
   "cell_type": "code",
   "execution_count": 91,
   "id": "932b86f1",
   "metadata": {},
   "outputs": [],
   "source": [
    "clf = fasttext.train_supervised(\n",
    "                                input='train.txt',\n",
    "                                dim=100,\n",
    "                                epoch=5,\n",
    "                                lr=0.1,\n",
    "                                wordNgrams=1,\n",
    "                                label='__label__',\n",
    "                                minCount=5)"
   ]
  },
  {
   "cell_type": "code",
   "execution_count": 60,
   "id": "4a09ffb7",
   "metadata": {},
   "outputs": [],
   "source": [
    "clf.quantize(input='train.txt', retrain=True)\n",
    "clf.save_model(\"model_text/fasttext.ftz\")"
   ]
  },
  {
   "cell_type": "markdown",
   "id": "e8746a91",
   "metadata": {},
   "source": [
    "## Evaluation"
   ]
  },
  {
   "cell_type": "code",
   "execution_count": 36,
   "id": "d688ded6",
   "metadata": {},
   "outputs": [],
   "source": [
    "from sklearn.metrics import accuracy_score, confusion_matrix, f1_score\n",
    "# from utils import calculate_accuracy, calculate_f1_score"
   ]
  },
  {
   "cell_type": "markdown",
   "id": "6cc1cf11",
   "metadata": {},
   "source": [
    "### sklearn model"
   ]
  },
  {
   "cell_type": "code",
   "execution_count": 31,
   "id": "5950ab0d",
   "metadata": {},
   "outputs": [],
   "source": [
    "# clf = read_pickle('model_text/rf_clf') \n",
    "# clf = read_pickle('model_text/lr_clf')\n",
    "# clf = read_pickle('model_text/nb_clf')\n",
    "clf = read_pickle('model_text/svm_clf')\n",
    "\n",
    "y_pred = clf.predict(x_test)"
   ]
  },
  {
   "cell_type": "code",
   "execution_count": 34,
   "id": "2fa5c827",
   "metadata": {},
   "outputs": [
    {
     "data": {
      "text/plain": [
       "0.9562540505508749"
      ]
     },
     "execution_count": 34,
     "metadata": {},
     "output_type": "execute_result"
    }
   ],
   "source": [
    "accuracy_score(y_test, y_pred)"
   ]
  },
  {
   "cell_type": "code",
   "execution_count": 35,
   "id": "ca6d10e8",
   "metadata": {},
   "outputs": [
    {
     "data": {
      "text/plain": [
       "0.9540972458347501"
      ]
     },
     "execution_count": 35,
     "metadata": {},
     "output_type": "execute_result"
    }
   ],
   "source": [
    "f1_score(y_test, y_pred)"
   ]
  },
  {
   "cell_type": "code",
   "execution_count": 2,
   "id": "bee798fd",
   "metadata": {
    "scrolled": true
   },
   "outputs": [],
   "source": [
    "# tn, fp, fn, tp = confusion_matrix(y_test, y_pred).ravel()\n",
    "# confusion_matrix(y_test, y_pred).ravel()"
   ]
  },
  {
   "cell_type": "markdown",
   "id": "b5645c32",
   "metadata": {},
   "source": [
    "### fasttext"
   ]
  },
  {
   "cell_type": "code",
   "execution_count": 119,
   "id": "8bba299f",
   "metadata": {},
   "outputs": [
    {
     "name": "stderr",
     "output_type": "stream",
     "text": [
      "Warning : `load_model` does not return WordVectorModel or SupervisedModel any more, but a `FastText` object which is very similar.\n"
     ]
    }
   ],
   "source": [
    "clf = fasttext.load_model(\"model_text/fasttext.ftz\")"
   ]
  },
  {
   "cell_type": "code",
   "execution_count": 120,
   "id": "8f6c3f79",
   "metadata": {},
   "outputs": [],
   "source": [
    "def predict_fasttext(text):\n",
    "    prediction = clf.predict(text)\n",
    "    return int(prediction[0][0][-1])"
   ]
  },
  {
   "cell_type": "code",
   "execution_count": null,
   "id": "5376090e",
   "metadata": {},
   "outputs": [],
   "source": [
    "y_pred = df_test['preprocessed_text'].apply(predict_fasttext)"
   ]
  },
  {
   "cell_type": "code",
   "execution_count": 121,
   "id": "6c36f0b6",
   "metadata": {},
   "outputs": [
    {
     "data": {
      "text/plain": [
       "0.949449125081011"
      ]
     },
     "execution_count": 121,
     "metadata": {},
     "output_type": "execute_result"
    }
   ],
   "source": [
    "accuracy_score(df_test['prediction'], df_test['label'])"
   ]
  },
  {
   "cell_type": "code",
   "execution_count": 122,
   "id": "44c31058",
   "metadata": {},
   "outputs": [
    {
     "data": {
      "text/plain": [
       "0.9475806451612904"
      ]
     },
     "execution_count": 122,
     "metadata": {},
     "output_type": "execute_result"
    }
   ],
   "source": [
    "f1_score(df_test['prediction'], df_test['label'])"
   ]
  },
  {
   "cell_type": "code",
   "execution_count": 3,
   "id": "586188df",
   "metadata": {},
   "outputs": [],
   "source": [
    "# tn, fp, fn, tp = confusion_matrix(y_test, y_pred).ravel()\n",
    "# confusion_matrix(df_test['prediction'], df_test['label']).ravel()"
   ]
  },
  {
   "cell_type": "markdown",
   "id": "cf20785b",
   "metadata": {},
   "source": [
    "# Prediction"
   ]
  },
  {
   "cell_type": "markdown",
   "id": "82bd21e4",
   "metadata": {},
   "source": [
    "### Random Forest, Logistic Regression, SVM, NB"
   ]
  },
  {
   "cell_type": "code",
   "execution_count": null,
   "id": "ec95300a",
   "metadata": {},
   "outputs": [],
   "source": [
    "vectorizer = read_pickle('model_text/tfidfVectorizer') # load vectorizer\n",
    "# clf = read_pickle('model_text/rf_clf') \n",
    "# clf = read_pickle('model_text/lr_clf')\n",
    "# clf = read_pickle('model_text/nb_clf')\n",
    "clf = read_pickle('model_text/svm_clf')"
   ]
  },
  {
   "cell_type": "code",
   "execution_count": 42,
   "id": "0106f087",
   "metadata": {},
   "outputs": [],
   "source": [
    "# raw_text = 'Không bao giờ chia sẻ về thu nhập của mình Đức Bảo sẽ là một trong 3 người dẫn các chương trình'\n",
    "raw_text = 'Phó Thủ tướng Lê Minh khái vừa ký quyết định số 547 do Bộ Tài chính thức cấp không thu tiền 139608 tấn gạo từ nguồn dự trữ quốc gia cho 2 tỉnh Tuyên Quang Quảng Trị để hỗ trợ nhân dân trong thời gian rất hạn đầu năm 2022 theo quyết định tỉnh Tuyên quanh được sức cấp 3108 tấn gạo tỉnh Quảng Trị 108528 tấn gạo Phó Thủ tướng yêu cầu Bộ Tài chính Bộ Lao động Thương binh và xã hội xử lý cụ thể theo quy định chịu trách nhiệm về thông tin và số liệu báo cáo Ủy ban Nhân dân hai tỉnh Tuyên quanh Quảng Trị chịu trách nhiệm về tính chính xác của số liệu báo cáo và thực hiện hỗ trợ kịp thời đúng đối tượng định mức theo quy định'\n",
    "preprocessed_text = preprocess_text(raw_text)\n",
    "vector_tf_idf = vectorizer.transform([preprocessed_text])"
   ]
  },
  {
   "cell_type": "code",
   "execution_count": 43,
   "id": "7bec730f",
   "metadata": {},
   "outputs": [
    {
     "data": {
      "text/plain": [
       "array([1], dtype=int64)"
      ]
     },
     "execution_count": 43,
     "metadata": {},
     "output_type": "execute_result"
    }
   ],
   "source": [
    "clf.predict(vector_tf_idf)"
   ]
  },
  {
   "cell_type": "markdown",
   "id": "8e8f1ede",
   "metadata": {},
   "source": [
    "### Fasttext"
   ]
  },
  {
   "cell_type": "code",
   "execution_count": 6,
   "id": "ecd629ea",
   "metadata": {},
   "outputs": [
    {
     "name": "stderr",
     "output_type": "stream",
     "text": [
      "Warning : `load_model` does not return WordVectorModel or SupervisedModel any more, but a `FastText` object which is very similar.\n"
     ]
    }
   ],
   "source": [
    "clf = fasttext.load_model(\"model_text/fasttext.ftz\")"
   ]
  },
  {
   "cell_type": "code",
   "execution_count": 8,
   "id": "bbcc3f2d",
   "metadata": {},
   "outputs": [
    {
     "ename": "NameError",
     "evalue": "name 'preprocess_text' is not defined",
     "output_type": "error",
     "traceback": [
      "\u001b[0;31m---------------------------------------------------------------------------\u001b[0m",
      "\u001b[0;31mNameError\u001b[0m                                 Traceback (most recent call last)",
      "\u001b[0;32m<ipython-input-8-2abe3485f314>\u001b[0m in \u001b[0;36m<module>\u001b[0;34m\u001b[0m\n\u001b[1;32m      1\u001b[0m \u001b[0;31m# raw_text = 'Không bao giờ chia sẻ về thu nhập của mình Đức Bảo sẽ là một trong 3 người dẫn các chương trình'\u001b[0m\u001b[0;34m\u001b[0m\u001b[0;34m\u001b[0m\u001b[0;34m\u001b[0m\u001b[0m\n\u001b[1;32m      2\u001b[0m \u001b[0mraw_text\u001b[0m \u001b[0;34m=\u001b[0m \u001b[0;34m'Phó Thủ tướng Lê Minh khái vừa ký quyết định số 547 do Bộ Tài chính thức cấp không thu tiền 139608 tấn gạo từ nguồn dự trữ quốc gia cho 2 tỉnh Tuyên Quang Quảng Trị để hỗ trợ nhân dân trong thời gian rất hạn đầu năm 2022 theo quyết định tỉnh Tuyên quanh được sức cấp 3108 tấn gạo tỉnh Quảng Trị 108528 tấn gạo Phó Thủ tướng yêu cầu Bộ Tài chính Bộ Lao động Thương binh và xã hội xử lý cụ thể theo quy định chịu trách nhiệm về thông tin và số liệu báo cáo Ủy ban Nhân dân hai tỉnh Tuyên quanh Quảng Trị chịu trách nhiệm về tính chính xác của số liệu báo cáo và thực hiện hỗ trợ kịp thời đúng đối tượng định mức theo quy định'\u001b[0m\u001b[0;34m\u001b[0m\u001b[0;34m\u001b[0m\u001b[0m\n\u001b[0;32m----> 3\u001b[0;31m \u001b[0mpreprocessed_text\u001b[0m \u001b[0;34m=\u001b[0m \u001b[0mpreprocess_text\u001b[0m\u001b[0;34m(\u001b[0m\u001b[0mraw_text\u001b[0m\u001b[0;34m)\u001b[0m\u001b[0;34m\u001b[0m\u001b[0;34m\u001b[0m\u001b[0m\n\u001b[0m\u001b[1;32m      4\u001b[0m \u001b[0mclf\u001b[0m\u001b[0;34m.\u001b[0m\u001b[0mpredict\u001b[0m\u001b[0;34m(\u001b[0m\u001b[0mpreprocessed_text\u001b[0m\u001b[0;34m)\u001b[0m\u001b[0;34m\u001b[0m\u001b[0;34m\u001b[0m\u001b[0m\n",
      "\u001b[0;31mNameError\u001b[0m: name 'preprocess_text' is not defined"
     ]
    }
   ],
   "source": [
    "# raw_text = 'Không bao giờ chia sẻ về thu nhập của mình Đức Bảo sẽ là một trong 3 người dẫn các chương trình'\n",
    "raw_text = 'Phó Thủ tướng Lê Minh khái vừa ký quyết định số 547 do Bộ Tài chính thức cấp không thu tiền 139608 tấn gạo từ nguồn dự trữ quốc gia cho 2 tỉnh Tuyên Quang Quảng Trị để hỗ trợ nhân dân trong thời gian rất hạn đầu năm 2022 theo quyết định tỉnh Tuyên quanh được sức cấp 3108 tấn gạo tỉnh Quảng Trị 108528 tấn gạo Phó Thủ tướng yêu cầu Bộ Tài chính Bộ Lao động Thương binh và xã hội xử lý cụ thể theo quy định chịu trách nhiệm về thông tin và số liệu báo cáo Ủy ban Nhân dân hai tỉnh Tuyên quanh Quảng Trị chịu trách nhiệm về tính chính xác của số liệu báo cáo và thực hiện hỗ trợ kịp thời đúng đối tượng định mức theo quy định'\n",
    "preprocessed_text = preprocess_text(raw_text)\n",
    "clf.predict(preprocessed_text)"
   ]
  }
 ],
 "metadata": {
  "kernelspec": {
   "display_name": "Python 3 (ipykernel)",
   "language": "python",
   "name": "python3"
  },
  "language_info": {
   "codemirror_mode": {
    "name": "ipython",
    "version": 3
   },
   "file_extension": ".py",
   "mimetype": "text/x-python",
   "name": "python",
   "nbconvert_exporter": "python",
   "pygments_lexer": "ipython3",
   "version": "3.8.13"
  }
 },
 "nbformat": 4,
 "nbformat_minor": 5
}
