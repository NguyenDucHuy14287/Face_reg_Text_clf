{
 "cells": [
  {
   "cell_type": "code",
   "execution_count": 1,
   "id": "cd931c7f",
   "metadata": {},
   "outputs": [],
   "source": [
    "import warnings\n",
    "warnings.filterwarnings('ignore')\n",
    "import pandas as pd\n",
    "import numpy as np\n",
    "import pickle"
   ]
  },
  {
   "cell_type": "code",
   "execution_count": 14,
   "id": "fbf0c3d4",
   "metadata": {},
   "outputs": [],
   "source": [
    "def write_pickle(object, file_name):\n",
    "    with open(file_name, \"wb\") as handle:\n",
    "        pickle.dump(object, handle, protocol=pickle.HIGHEST_PROTOCOL)"
   ]
  },
  {
   "cell_type": "markdown",
   "id": "de9d56a2",
   "metadata": {},
   "source": [
    "# Load raw data"
   ]
  },
  {
   "cell_type": "code",
   "execution_count": 2,
   "id": "20ac0a24",
   "metadata": {},
   "outputs": [],
   "source": [
    "train_set_1 = pd.read_csv('train_set_1.csv', dtype={'id': str})\n",
    "train_set_2 = pd.read_csv('train_set_2.csv', dtype={'id': str})\n",
    "test_set = pd.read_csv('test_set.csv', dtype={'id': str})"
   ]
  },
  {
   "cell_type": "code",
   "execution_count": 3,
   "id": "2ec37fa1",
   "metadata": {},
   "outputs": [
    {
     "data": {
      "text/html": [
       "<div>\n",
       "<style scoped>\n",
       "    .dataframe tbody tr th:only-of-type {\n",
       "        vertical-align: middle;\n",
       "    }\n",
       "\n",
       "    .dataframe tbody tr th {\n",
       "        vertical-align: top;\n",
       "    }\n",
       "\n",
       "    .dataframe thead th {\n",
       "        text-align: right;\n",
       "    }\n",
       "</style>\n",
       "<table border=\"1\" class=\"dataframe\">\n",
       "  <thead>\n",
       "    <tr style=\"text-align: right;\">\n",
       "      <th></th>\n",
       "      <th>label</th>\n",
       "      <th>id</th>\n",
       "      <th>text</th>\n",
       "      <th>text_non_hastag</th>\n",
       "    </tr>\n",
       "  </thead>\n",
       "  <tbody>\n",
       "  </tbody>\n",
       "</table>\n",
       "</div>"
      ],
      "text/plain": [
       "Empty DataFrame\n",
       "Columns: [label, id, text, text_non_hastag]\n",
       "Index: []"
      ]
     },
     "execution_count": 3,
     "metadata": {},
     "output_type": "execute_result"
    }
   ],
   "source": [
    "train_set_1[train_set_1['text'].isna()]"
   ]
  },
  {
   "cell_type": "code",
   "execution_count": 4,
   "id": "0df32ccf",
   "metadata": {},
   "outputs": [
    {
     "data": {
      "text/html": [
       "<div>\n",
       "<style scoped>\n",
       "    .dataframe tbody tr th:only-of-type {\n",
       "        vertical-align: middle;\n",
       "    }\n",
       "\n",
       "    .dataframe tbody tr th {\n",
       "        vertical-align: top;\n",
       "    }\n",
       "\n",
       "    .dataframe thead th {\n",
       "        text-align: right;\n",
       "    }\n",
       "</style>\n",
       "<table border=\"1\" class=\"dataframe\">\n",
       "  <thead>\n",
       "    <tr style=\"text-align: right;\">\n",
       "      <th></th>\n",
       "      <th>label</th>\n",
       "      <th>id</th>\n",
       "      <th>text</th>\n",
       "      <th>text_non_hastag</th>\n",
       "    </tr>\n",
       "  </thead>\n",
       "  <tbody>\n",
       "  </tbody>\n",
       "</table>\n",
       "</div>"
      ],
      "text/plain": [
       "Empty DataFrame\n",
       "Columns: [label, id, text, text_non_hastag]\n",
       "Index: []"
      ]
     },
     "execution_count": 4,
     "metadata": {},
     "output_type": "execute_result"
    }
   ],
   "source": [
    "train_set_2[train_set_2['text'].isna()]"
   ]
  },
  {
   "cell_type": "code",
   "execution_count": 5,
   "id": "16b4224e",
   "metadata": {},
   "outputs": [
    {
     "data": {
      "text/html": [
       "<div>\n",
       "<style scoped>\n",
       "    .dataframe tbody tr th:only-of-type {\n",
       "        vertical-align: middle;\n",
       "    }\n",
       "\n",
       "    .dataframe tbody tr th {\n",
       "        vertical-align: top;\n",
       "    }\n",
       "\n",
       "    .dataframe thead th {\n",
       "        text-align: right;\n",
       "    }\n",
       "</style>\n",
       "<table border=\"1\" class=\"dataframe\">\n",
       "  <thead>\n",
       "    <tr style=\"text-align: right;\">\n",
       "      <th></th>\n",
       "      <th>label</th>\n",
       "      <th>id</th>\n",
       "      <th>text</th>\n",
       "      <th>text_non_hastag</th>\n",
       "    </tr>\n",
       "  </thead>\n",
       "  <tbody>\n",
       "  </tbody>\n",
       "</table>\n",
       "</div>"
      ],
      "text/plain": [
       "Empty DataFrame\n",
       "Columns: [label, id, text, text_non_hastag]\n",
       "Index: []"
      ]
     },
     "execution_count": 5,
     "metadata": {},
     "output_type": "execute_result"
    }
   ],
   "source": [
    "test_set[test_set['text'].isna()]"
   ]
  },
  {
   "cell_type": "code",
   "execution_count": 6,
   "id": "b1d96362",
   "metadata": {},
   "outputs": [],
   "source": [
    "# df_test = df_test.dropna(subset=['text'])"
   ]
  },
  {
   "cell_type": "code",
   "execution_count": 7,
   "id": "76b2aa4b",
   "metadata": {},
   "outputs": [
    {
     "data": {
      "text/html": [
       "<div>\n",
       "<style scoped>\n",
       "    .dataframe tbody tr th:only-of-type {\n",
       "        vertical-align: middle;\n",
       "    }\n",
       "\n",
       "    .dataframe tbody tr th {\n",
       "        vertical-align: top;\n",
       "    }\n",
       "\n",
       "    .dataframe thead th {\n",
       "        text-align: right;\n",
       "    }\n",
       "</style>\n",
       "<table border=\"1\" class=\"dataframe\">\n",
       "  <thead>\n",
       "    <tr style=\"text-align: right;\">\n",
       "      <th></th>\n",
       "      <th>label</th>\n",
       "      <th>id</th>\n",
       "      <th>text</th>\n",
       "      <th>text_non_hastag</th>\n",
       "    </tr>\n",
       "  </thead>\n",
       "  <tbody>\n",
       "    <tr>\n",
       "      <th>0</th>\n",
       "      <td>1</td>\n",
       "      <td>7070502982655216923</td>\n",
       "      <td>p2 nhé mọi ngườichinhtri xuhuong tỏchấtriêng c...</td>\n",
       "      <td>p2 nhé mọi ngườichinhtri xuhuong tỏchấtriêng c...</td>\n",
       "    </tr>\n",
       "    <tr>\n",
       "      <th>1</th>\n",
       "      <td>0</td>\n",
       "      <td>7005431713895566618</td>\n",
       "      <td>capcut cầulông backhand ycl sanghoang59</td>\n",
       "      <td>capcut cầulông backhand ycl sanghoang59</td>\n",
       "    </tr>\n",
       "    <tr>\n",
       "      <th>2</th>\n",
       "      <td>1</td>\n",
       "      <td>7048453986843675906</td>\n",
       "      <td>capcut nguyenxuanphuc lêloi</td>\n",
       "      <td>capcut nguyenxuanphuc lêloi</td>\n",
       "    </tr>\n",
       "    <tr>\n",
       "      <th>3</th>\n",
       "      <td>0</td>\n",
       "      <td>6863250722155138309</td>\n",
       "      <td>electric love sorry for the subpar audio quali...</td>\n",
       "      <td>electric love sorry for the subpar audio quali...</td>\n",
       "    </tr>\n",
       "    <tr>\n",
       "      <th>4</th>\n",
       "      <td>0</td>\n",
       "      <td>7042150256489925890</td>\n",
       "      <td>tìm đất chính chủ của dân thuanchubds xuhuong ...</td>\n",
       "      <td>tìm đất chính chủ của dân thuanchubds xuhuong ...</td>\n",
       "    </tr>\n",
       "  </tbody>\n",
       "</table>\n",
       "</div>"
      ],
      "text/plain": [
       "   label                   id  \\\n",
       "0      1  7070502982655216923   \n",
       "1      0  7005431713895566618   \n",
       "2      1  7048453986843675906   \n",
       "3      0  6863250722155138309   \n",
       "4      0  7042150256489925890   \n",
       "\n",
       "                                                text  \\\n",
       "0  p2 nhé mọi ngườichinhtri xuhuong tỏchấtriêng c...   \n",
       "1            capcut cầulông backhand ycl sanghoang59   \n",
       "2                        capcut nguyenxuanphuc lêloi   \n",
       "3  electric love sorry for the subpar audio quali...   \n",
       "4  tìm đất chính chủ của dân thuanchubds xuhuong ...   \n",
       "\n",
       "                                     text_non_hastag  \n",
       "0  p2 nhé mọi ngườichinhtri xuhuong tỏchấtriêng c...  \n",
       "1            capcut cầulông backhand ycl sanghoang59  \n",
       "2                        capcut nguyenxuanphuc lêloi  \n",
       "3  electric love sorry for the subpar audio quali...  \n",
       "4  tìm đất chính chủ của dân thuanchubds xuhuong ...  "
      ]
     },
     "execution_count": 7,
     "metadata": {},
     "output_type": "execute_result"
    }
   ],
   "source": [
    "test_set.head()"
   ]
  },
  {
   "cell_type": "markdown",
   "id": "c7e4ef94",
   "metadata": {},
   "source": [
    "# Preprocessing"
   ]
  },
  {
   "cell_type": "code",
   "execution_count": 8,
   "id": "05de5fe9",
   "metadata": {},
   "outputs": [],
   "source": [
    "import re\n",
    "from underthesea import word_tokenize\n",
    "# vncorenlp\n",
    "# from pyvi import ViTokenizer\n",
    "\n",
    "def is_number(text):\n",
    "    try:\n",
    "        float(text)\n",
    "        return True\n",
    "    except ValueError:\n",
    "        return False\n",
    "\n",
    "def preprocess_text(text): \n",
    "    try:\n",
    "        text = re.sub(r'<[^>]*>', '', text)\n",
    "        text = text.lower()\n",
    "        text = word_tokenize(text, format=\"text\")\n",
    "        text = re.sub(r'[^\\s\\wáàảãạăắằẳẵặâấầẩẫậéèẻẽẹêếềểễệóòỏõọôốồổỗộơớờởỡợíìỉĩịúùủũụưứừửữựýỳỷỹỵđ_\\[\\]]',' ', text)\n",
    "        text = re.sub(r'\\s+', ' ', text).strip()\n",
    "        text = ' '.join(map(lambda x: '<number>' if is_number(x) else x, text.split()))\n",
    "        return text\n",
    "    except:\n",
    "        print(text)\n",
    "        return text"
   ]
  },
  {
   "cell_type": "code",
   "execution_count": 9,
   "id": "9cd1c14a",
   "metadata": {},
   "outputs": [],
   "source": [
    "train_set_1['preprocessed_text'] = train_set_1['text'].apply(preprocess_text)\n",
    "train_set_2['preprocessed_text'] = train_set_2['text'].apply(preprocess_text)\n",
    "test_set['preprocessed_text'] = test_set['text'].apply(preprocess_text)\n",
    "\n",
    "train_set_1['preprocessed_text_non_hastag'] = train_set_1['text_non_hastag'].apply(preprocess_text)\n",
    "train_set_2['preprocessed_text_non_hastag'] = train_set_2['text_non_hastag'].apply(preprocess_text)\n",
    "test_set['preprocessed_text_non_hastag'] = test_set['text_non_hastag'].apply(preprocess_text)"
   ]
  },
  {
   "cell_type": "code",
   "execution_count": 10,
   "id": "ccca4085",
   "metadata": {},
   "outputs": [],
   "source": [
    "# test_set"
   ]
  },
  {
   "cell_type": "markdown",
   "id": "144ede07",
   "metadata": {},
   "source": [
    "# Featurize (tf-idf)"
   ]
  },
  {
   "cell_type": "code",
   "execution_count": 11,
   "id": "ec38b582",
   "metadata": {},
   "outputs": [],
   "source": [
    "from sklearn.feature_extraction.text import TfidfVectorizer\n",
    "# https://scikit-learn.org/0.24/modules/generated/sklearn.feature_extraction.text.TfidfVectorizer.html?highlight=tfidf#sklearn.feature_extraction.text.TfidfVectorizer"
   ]
  },
  {
   "cell_type": "code",
   "execution_count": 12,
   "id": "c61507fa",
   "metadata": {},
   "outputs": [],
   "source": [
    "corpus = pd.concat([train_set_1['preprocessed_text'], train_set_2['preprocessed_text'], test_set['preprocessed_text']])"
   ]
  },
  {
   "cell_type": "code",
   "execution_count": 26,
   "id": "4c9e9af7",
   "metadata": {},
   "outputs": [
    {
     "data": {
      "text/html": [
       "<style>#sk-container-id-3 {color: black;background-color: white;}#sk-container-id-3 pre{padding: 0;}#sk-container-id-3 div.sk-toggleable {background-color: white;}#sk-container-id-3 label.sk-toggleable__label {cursor: pointer;display: block;width: 100%;margin-bottom: 0;padding: 0.3em;box-sizing: border-box;text-align: center;}#sk-container-id-3 label.sk-toggleable__label-arrow:before {content: \"▸\";float: left;margin-right: 0.25em;color: #696969;}#sk-container-id-3 label.sk-toggleable__label-arrow:hover:before {color: black;}#sk-container-id-3 div.sk-estimator:hover label.sk-toggleable__label-arrow:before {color: black;}#sk-container-id-3 div.sk-toggleable__content {max-height: 0;max-width: 0;overflow: hidden;text-align: left;background-color: #f0f8ff;}#sk-container-id-3 div.sk-toggleable__content pre {margin: 0.2em;color: black;border-radius: 0.25em;background-color: #f0f8ff;}#sk-container-id-3 input.sk-toggleable__control:checked~div.sk-toggleable__content {max-height: 200px;max-width: 100%;overflow: auto;}#sk-container-id-3 input.sk-toggleable__control:checked~label.sk-toggleable__label-arrow:before {content: \"▾\";}#sk-container-id-3 div.sk-estimator input.sk-toggleable__control:checked~label.sk-toggleable__label {background-color: #d4ebff;}#sk-container-id-3 div.sk-label input.sk-toggleable__control:checked~label.sk-toggleable__label {background-color: #d4ebff;}#sk-container-id-3 input.sk-hidden--visually {border: 0;clip: rect(1px 1px 1px 1px);clip: rect(1px, 1px, 1px, 1px);height: 1px;margin: -1px;overflow: hidden;padding: 0;position: absolute;width: 1px;}#sk-container-id-3 div.sk-estimator {font-family: monospace;background-color: #f0f8ff;border: 1px dotted black;border-radius: 0.25em;box-sizing: border-box;margin-bottom: 0.5em;}#sk-container-id-3 div.sk-estimator:hover {background-color: #d4ebff;}#sk-container-id-3 div.sk-parallel-item::after {content: \"\";width: 100%;border-bottom: 1px solid gray;flex-grow: 1;}#sk-container-id-3 div.sk-label:hover label.sk-toggleable__label {background-color: #d4ebff;}#sk-container-id-3 div.sk-serial::before {content: \"\";position: absolute;border-left: 1px solid gray;box-sizing: border-box;top: 0;bottom: 0;left: 50%;z-index: 0;}#sk-container-id-3 div.sk-serial {display: flex;flex-direction: column;align-items: center;background-color: white;padding-right: 0.2em;padding-left: 0.2em;position: relative;}#sk-container-id-3 div.sk-item {position: relative;z-index: 1;}#sk-container-id-3 div.sk-parallel {display: flex;align-items: stretch;justify-content: center;background-color: white;position: relative;}#sk-container-id-3 div.sk-item::before, #sk-container-id-3 div.sk-parallel-item::before {content: \"\";position: absolute;border-left: 1px solid gray;box-sizing: border-box;top: 0;bottom: 0;left: 50%;z-index: -1;}#sk-container-id-3 div.sk-parallel-item {display: flex;flex-direction: column;z-index: 1;position: relative;background-color: white;}#sk-container-id-3 div.sk-parallel-item:first-child::after {align-self: flex-end;width: 50%;}#sk-container-id-3 div.sk-parallel-item:last-child::after {align-self: flex-start;width: 50%;}#sk-container-id-3 div.sk-parallel-item:only-child::after {width: 0;}#sk-container-id-3 div.sk-dashed-wrapped {border: 1px dashed gray;margin: 0 0.4em 0.5em 0.4em;box-sizing: border-box;padding-bottom: 0.4em;background-color: white;}#sk-container-id-3 div.sk-label label {font-family: monospace;font-weight: bold;display: inline-block;line-height: 1.2em;}#sk-container-id-3 div.sk-label-container {text-align: center;}#sk-container-id-3 div.sk-container {/* jupyter's `normalize.less` sets `[hidden] { display: none; }` but bootstrap.min.css set `[hidden] { display: none !important; }` so we also need the `!important` here to be able to override the default hidden behavior on the sphinx rendered scikit-learn.org. See: https://github.com/scikit-learn/scikit-learn/issues/21755 */display: inline-block !important;position: relative;}#sk-container-id-3 div.sk-text-repr-fallback {display: none;}</style><div id=\"sk-container-id-3\" class=\"sk-top-container\"><div class=\"sk-text-repr-fallback\"><pre>TfidfVectorizer()</pre><b>In a Jupyter environment, please rerun this cell to show the HTML representation or trust the notebook. <br />On GitHub, the HTML representation is unable to render, please try loading this page with nbviewer.org.</b></div><div class=\"sk-container\" hidden><div class=\"sk-item\"><div class=\"sk-estimator sk-toggleable\"><input class=\"sk-toggleable__control sk-hidden--visually\" id=\"sk-estimator-id-3\" type=\"checkbox\" checked><label for=\"sk-estimator-id-3\" class=\"sk-toggleable__label sk-toggleable__label-arrow\">TfidfVectorizer</label><div class=\"sk-toggleable__content\"><pre>TfidfVectorizer()</pre></div></div></div></div></div>"
      ],
      "text/plain": [
       "TfidfVectorizer()"
      ]
     },
     "execution_count": 26,
     "metadata": {},
     "output_type": "execute_result"
    }
   ],
   "source": [
    "vectorizer = TfidfVectorizer()\n",
    "vectorizer.fit(corpus)"
   ]
  },
  {
   "cell_type": "code",
   "execution_count": 17,
   "id": "0307bcb6",
   "metadata": {},
   "outputs": [],
   "source": [
    "# write_pickle(vectorizer, 'tfidfVectorizer')"
   ]
  },
  {
   "cell_type": "code",
   "execution_count": 18,
   "id": "7d1db3a3",
   "metadata": {},
   "outputs": [],
   "source": [
    "x_train_1 = vectorizer.transform(train_set_1['preprocessed_text'])\n",
    "y_train_1 = train_set_1['label']\n",
    "\n",
    "x_train_2 = vectorizer.transform(train_set_2['preprocessed_text'])\n",
    "y_train_2 = train_set_2['label']\n",
    "\n",
    "x_test = vectorizer.transform(test_set['preprocessed_text'])\n",
    "y_test = test_set['label']"
   ]
  },
  {
   "cell_type": "markdown",
   "id": "6ccf8e9d",
   "metadata": {},
   "source": [
    "## Logistic Regression"
   ]
  },
  {
   "cell_type": "code",
   "execution_count": 19,
   "id": "0e81dc13",
   "metadata": {},
   "outputs": [],
   "source": [
    "from sklearn.linear_model import LogisticRegression"
   ]
  },
  {
   "cell_type": "code",
   "execution_count": 20,
   "id": "d25d09e3",
   "metadata": {},
   "outputs": [
    {
     "data": {
      "text/html": [
       "<style>#sk-container-id-2 {color: black;background-color: white;}#sk-container-id-2 pre{padding: 0;}#sk-container-id-2 div.sk-toggleable {background-color: white;}#sk-container-id-2 label.sk-toggleable__label {cursor: pointer;display: block;width: 100%;margin-bottom: 0;padding: 0.3em;box-sizing: border-box;text-align: center;}#sk-container-id-2 label.sk-toggleable__label-arrow:before {content: \"▸\";float: left;margin-right: 0.25em;color: #696969;}#sk-container-id-2 label.sk-toggleable__label-arrow:hover:before {color: black;}#sk-container-id-2 div.sk-estimator:hover label.sk-toggleable__label-arrow:before {color: black;}#sk-container-id-2 div.sk-toggleable__content {max-height: 0;max-width: 0;overflow: hidden;text-align: left;background-color: #f0f8ff;}#sk-container-id-2 div.sk-toggleable__content pre {margin: 0.2em;color: black;border-radius: 0.25em;background-color: #f0f8ff;}#sk-container-id-2 input.sk-toggleable__control:checked~div.sk-toggleable__content {max-height: 200px;max-width: 100%;overflow: auto;}#sk-container-id-2 input.sk-toggleable__control:checked~label.sk-toggleable__label-arrow:before {content: \"▾\";}#sk-container-id-2 div.sk-estimator input.sk-toggleable__control:checked~label.sk-toggleable__label {background-color: #d4ebff;}#sk-container-id-2 div.sk-label input.sk-toggleable__control:checked~label.sk-toggleable__label {background-color: #d4ebff;}#sk-container-id-2 input.sk-hidden--visually {border: 0;clip: rect(1px 1px 1px 1px);clip: rect(1px, 1px, 1px, 1px);height: 1px;margin: -1px;overflow: hidden;padding: 0;position: absolute;width: 1px;}#sk-container-id-2 div.sk-estimator {font-family: monospace;background-color: #f0f8ff;border: 1px dotted black;border-radius: 0.25em;box-sizing: border-box;margin-bottom: 0.5em;}#sk-container-id-2 div.sk-estimator:hover {background-color: #d4ebff;}#sk-container-id-2 div.sk-parallel-item::after {content: \"\";width: 100%;border-bottom: 1px solid gray;flex-grow: 1;}#sk-container-id-2 div.sk-label:hover label.sk-toggleable__label {background-color: #d4ebff;}#sk-container-id-2 div.sk-serial::before {content: \"\";position: absolute;border-left: 1px solid gray;box-sizing: border-box;top: 0;bottom: 0;left: 50%;z-index: 0;}#sk-container-id-2 div.sk-serial {display: flex;flex-direction: column;align-items: center;background-color: white;padding-right: 0.2em;padding-left: 0.2em;position: relative;}#sk-container-id-2 div.sk-item {position: relative;z-index: 1;}#sk-container-id-2 div.sk-parallel {display: flex;align-items: stretch;justify-content: center;background-color: white;position: relative;}#sk-container-id-2 div.sk-item::before, #sk-container-id-2 div.sk-parallel-item::before {content: \"\";position: absolute;border-left: 1px solid gray;box-sizing: border-box;top: 0;bottom: 0;left: 50%;z-index: -1;}#sk-container-id-2 div.sk-parallel-item {display: flex;flex-direction: column;z-index: 1;position: relative;background-color: white;}#sk-container-id-2 div.sk-parallel-item:first-child::after {align-self: flex-end;width: 50%;}#sk-container-id-2 div.sk-parallel-item:last-child::after {align-self: flex-start;width: 50%;}#sk-container-id-2 div.sk-parallel-item:only-child::after {width: 0;}#sk-container-id-2 div.sk-dashed-wrapped {border: 1px dashed gray;margin: 0 0.4em 0.5em 0.4em;box-sizing: border-box;padding-bottom: 0.4em;background-color: white;}#sk-container-id-2 div.sk-label label {font-family: monospace;font-weight: bold;display: inline-block;line-height: 1.2em;}#sk-container-id-2 div.sk-label-container {text-align: center;}#sk-container-id-2 div.sk-container {/* jupyter's `normalize.less` sets `[hidden] { display: none; }` but bootstrap.min.css set `[hidden] { display: none !important; }` so we also need the `!important` here to be able to override the default hidden behavior on the sphinx rendered scikit-learn.org. See: https://github.com/scikit-learn/scikit-learn/issues/21755 */display: inline-block !important;position: relative;}#sk-container-id-2 div.sk-text-repr-fallback {display: none;}</style><div id=\"sk-container-id-2\" class=\"sk-top-container\"><div class=\"sk-text-repr-fallback\"><pre>LogisticRegression(random_state=0)</pre><b>In a Jupyter environment, please rerun this cell to show the HTML representation or trust the notebook. <br />On GitHub, the HTML representation is unable to render, please try loading this page with nbviewer.org.</b></div><div class=\"sk-container\" hidden><div class=\"sk-item\"><div class=\"sk-estimator sk-toggleable\"><input class=\"sk-toggleable__control sk-hidden--visually\" id=\"sk-estimator-id-2\" type=\"checkbox\" checked><label for=\"sk-estimator-id-2\" class=\"sk-toggleable__label sk-toggleable__label-arrow\">LogisticRegression</label><div class=\"sk-toggleable__content\"><pre>LogisticRegression(random_state=0)</pre></div></div></div></div></div>"
      ],
      "text/plain": [
       "LogisticRegression(random_state=0)"
      ]
     },
     "execution_count": 20,
     "metadata": {},
     "output_type": "execute_result"
    }
   ],
   "source": [
    "clf = LogisticRegression(random_state=0)\n",
    "clf.fit(x_train_1, y_train_1)"
   ]
  },
  {
   "cell_type": "code",
   "execution_count": 21,
   "id": "8a0442bc",
   "metadata": {},
   "outputs": [],
   "source": [
    "# write_pickle(clf, 'text_clf')"
   ]
  },
  {
   "cell_type": "markdown",
   "id": "e8746a91",
   "metadata": {},
   "source": [
    "## Evaluation"
   ]
  },
  {
   "cell_type": "code",
   "execution_count": 79,
   "id": "d688ded6",
   "metadata": {},
   "outputs": [],
   "source": [
    "from sklearn.metrics import accuracy_score, confusion_matrix, f1_score\n",
    "# from utils import calculate_accuracy, calculate_f1_score"
   ]
  },
  {
   "cell_type": "markdown",
   "id": "6cc1cf11",
   "metadata": {},
   "source": [
    "### sklearn model"
   ]
  },
  {
   "cell_type": "code",
   "execution_count": 80,
   "id": "5950ab0d",
   "metadata": {},
   "outputs": [],
   "source": [
    "y_prediction = clf.predict(x_train_2)"
   ]
  },
  {
   "cell_type": "code",
   "execution_count": 81,
   "id": "2fa5c827",
   "metadata": {},
   "outputs": [
    {
     "data": {
      "text/plain": [
       "0.9733376164471571"
      ]
     },
     "execution_count": 81,
     "metadata": {},
     "output_type": "execute_result"
    }
   ],
   "source": [
    "accuracy_score(y_train_2, y_prediction)"
   ]
  },
  {
   "cell_type": "code",
   "execution_count": 82,
   "id": "ca6d10e8",
   "metadata": {},
   "outputs": [
    {
     "data": {
      "text/plain": [
       "0.9664375252729479"
      ]
     },
     "execution_count": 82,
     "metadata": {},
     "output_type": "execute_result"
    }
   ],
   "source": [
    "f1_score(y_train_2, y_prediction)"
   ]
  },
  {
   "cell_type": "code",
   "execution_count": 83,
   "id": "bee798fd",
   "metadata": {
    "scrolled": true
   },
   "outputs": [],
   "source": [
    "# tn, fp, fn, tp = confusion_matrix(y_test, y_pred).ravel()\n",
    "# confusion_matrix(y_test, y_pred).ravel()"
   ]
  },
  {
   "cell_type": "code",
   "execution_count": 84,
   "id": "1f4c7b04",
   "metadata": {},
   "outputs": [],
   "source": [
    "y_prediction_test = clf.predict(x_test)"
   ]
  },
  {
   "cell_type": "code",
   "execution_count": 85,
   "id": "cf93d2c6",
   "metadata": {},
   "outputs": [
    {
     "data": {
      "text/plain": [
       "0.9715355805243445"
      ]
     },
     "execution_count": 85,
     "metadata": {},
     "output_type": "execute_result"
    }
   ],
   "source": [
    "accuracy_score(y_test, y_prediction_test)"
   ]
  },
  {
   "cell_type": "code",
   "execution_count": 86,
   "id": "12b92da8",
   "metadata": {},
   "outputs": [
    {
     "data": {
      "text/plain": [
       "0.9641509433962264"
      ]
     },
     "execution_count": 86,
     "metadata": {},
     "output_type": "execute_result"
    }
   ],
   "source": [
    "f1_score(y_test, y_prediction_test)"
   ]
  },
  {
   "cell_type": "code",
   "execution_count": null,
   "id": "a8d40b93",
   "metadata": {},
   "outputs": [],
   "source": []
  },
  {
   "cell_type": "code",
   "execution_count": null,
   "id": "ecc8da3e",
   "metadata": {},
   "outputs": [],
   "source": []
  },
  {
   "cell_type": "code",
   "execution_count": null,
   "id": "f51a6de3",
   "metadata": {},
   "outputs": [],
   "source": []
  },
  {
   "cell_type": "code",
   "execution_count": 22,
   "id": "4b1f53f5",
   "metadata": {},
   "outputs": [],
   "source": [
    "y_predict_score = clf.predict_proba(x_train_2)"
   ]
  },
  {
   "cell_type": "code",
   "execution_count": 97,
   "id": "297b8694",
   "metadata": {},
   "outputs": [],
   "source": [
    "import numpy\n",
    "col_names = np.array(['text_label_0', 'text_label_1'])\n",
    "submission_results = pd.DataFrame(y_predict_score, columns = col_names)\n",
    "submission_results.insert(0, 'label', train_set_2['label'].astype(numpy.int8))\n",
    "submission_results.insert(0, 'id', train_set_2['id'].astype(str))\n",
    "submission_results.insert(0, 'text', train_set_2['text'])\n",
    "# submission_results.insert(0, 'predict', y_pred)"
   ]
  },
  {
   "cell_type": "code",
   "execution_count": 98,
   "id": "af8ec2e7",
   "metadata": {},
   "outputs": [
    {
     "data": {
      "text/html": [
       "<div>\n",
       "<style scoped>\n",
       "    .dataframe tbody tr th:only-of-type {\n",
       "        vertical-align: middle;\n",
       "    }\n",
       "\n",
       "    .dataframe tbody tr th {\n",
       "        vertical-align: top;\n",
       "    }\n",
       "\n",
       "    .dataframe thead th {\n",
       "        text-align: right;\n",
       "    }\n",
       "</style>\n",
       "<table border=\"1\" class=\"dataframe\">\n",
       "  <thead>\n",
       "    <tr style=\"text-align: right;\">\n",
       "      <th></th>\n",
       "      <th>text</th>\n",
       "      <th>id</th>\n",
       "      <th>label</th>\n",
       "      <th>text_label_0</th>\n",
       "      <th>text_label_1</th>\n",
       "    </tr>\n",
       "  </thead>\n",
       "  <tbody>\n",
       "    <tr>\n",
       "      <th>0</th>\n",
       "      <td>việt nam vô địch bóngđá dokimphuc football tik...</td>\n",
       "      <td>6746395734930640129</td>\n",
       "      <td>0</td>\n",
       "      <td>0.952365</td>\n",
       "      <td>0.047635</td>\n",
       "    </tr>\n",
       "    <tr>\n",
       "      <th>1</th>\n",
       "      <td>người mang trọng tội với tổ tiên hồng quân liê...</td>\n",
       "      <td>7071073830848023834</td>\n",
       "      <td>1</td>\n",
       "      <td>0.215492</td>\n",
       "      <td>0.784508</td>\n",
       "    </tr>\n",
       "    <tr>\n",
       "      <th>2</th>\n",
       "      <td>tài sản thì cứ dấu dấu diếm diếm phải công kha...</td>\n",
       "      <td>6954907710366387458</td>\n",
       "      <td>1</td>\n",
       "      <td>0.249647</td>\n",
       "      <td>0.750353</td>\n",
       "    </tr>\n",
       "    <tr>\n",
       "      <th>3</th>\n",
       "      <td>lý do thủ môn không tin pepe pepe football bon...</td>\n",
       "      <td>7066615161271881006</td>\n",
       "      <td>0</td>\n",
       "      <td>0.935591</td>\n",
       "      <td>0.064409</td>\n",
       "    </tr>\n",
       "    <tr>\n",
       "      <th>4</th>\n",
       "      <td>part ii ạxuhuong volleyball bongchuyen</td>\n",
       "      <td>6925795138379713794</td>\n",
       "      <td>0</td>\n",
       "      <td>0.859645</td>\n",
       "      <td>0.140355</td>\n",
       "    </tr>\n",
       "    <tr>\n",
       "      <th>...</th>\n",
       "      <td>...</td>\n",
       "      <td>...</td>\n",
       "      <td>...</td>\n",
       "      <td>...</td>\n",
       "      <td>...</td>\n",
       "    </tr>\n",
       "    <tr>\n",
       "      <th>3108</th>\n",
       "      <td>2021 nhìn lại một năm đầy biến động nhinlai202...</td>\n",
       "      <td>7058856419461795073</td>\n",
       "      <td>1</td>\n",
       "      <td>0.136569</td>\n",
       "      <td>0.863431</td>\n",
       "    </tr>\n",
       "    <tr>\n",
       "      <th>3109</th>\n",
       "      <td>trả lời lng1606 lên luôn cho nóng nè unbox unb...</td>\n",
       "      <td>6974710162594548993</td>\n",
       "      <td>0</td>\n",
       "      <td>0.934135</td>\n",
       "      <td>0.065865</td>\n",
       "    </tr>\n",
       "    <tr>\n",
       "      <th>3110</th>\n",
       "      <td>mua cái áo mà được tặng quá trời luônxuhuong l...</td>\n",
       "      <td>6992891507560713498</td>\n",
       "      <td>0</td>\n",
       "      <td>0.844018</td>\n",
       "      <td>0.155982</td>\n",
       "    </tr>\n",
       "    <tr>\n",
       "      <th>3111</th>\n",
       "      <td>khai trừ đảng bộ trưởng nguyễn thanh long và c...</td>\n",
       "      <td>7106113028952755482</td>\n",
       "      <td>1</td>\n",
       "      <td>0.024934</td>\n",
       "      <td>0.975066</td>\n",
       "    </tr>\n",
       "    <tr>\n",
       "      <th>3112</th>\n",
       "      <td>xatress fyp hoahaiduong9994 kết bạn ăn nhậu nè...</td>\n",
       "      <td>7056792878416137498</td>\n",
       "      <td>0</td>\n",
       "      <td>0.882993</td>\n",
       "      <td>0.117007</td>\n",
       "    </tr>\n",
       "  </tbody>\n",
       "</table>\n",
       "<p>3113 rows × 5 columns</p>\n",
       "</div>"
      ],
      "text/plain": [
       "                                                   text                   id  \\\n",
       "0     việt nam vô địch bóngđá dokimphuc football tik...  6746395734930640129   \n",
       "1     người mang trọng tội với tổ tiên hồng quân liê...  7071073830848023834   \n",
       "2     tài sản thì cứ dấu dấu diếm diếm phải công kha...  6954907710366387458   \n",
       "3     lý do thủ môn không tin pepe pepe football bon...  7066615161271881006   \n",
       "4                part ii ạxuhuong volleyball bongchuyen  6925795138379713794   \n",
       "...                                                 ...                  ...   \n",
       "3108  2021 nhìn lại một năm đầy biến động nhinlai202...  7058856419461795073   \n",
       "3109  trả lời lng1606 lên luôn cho nóng nè unbox unb...  6974710162594548993   \n",
       "3110  mua cái áo mà được tặng quá trời luônxuhuong l...  6992891507560713498   \n",
       "3111  khai trừ đảng bộ trưởng nguyễn thanh long và c...  7106113028952755482   \n",
       "3112  xatress fyp hoahaiduong9994 kết bạn ăn nhậu nè...  7056792878416137498   \n",
       "\n",
       "      label  text_label_0  text_label_1  \n",
       "0         0      0.952365      0.047635  \n",
       "1         1      0.215492      0.784508  \n",
       "2         1      0.249647      0.750353  \n",
       "3         0      0.935591      0.064409  \n",
       "4         0      0.859645      0.140355  \n",
       "...     ...           ...           ...  \n",
       "3108      1      0.136569      0.863431  \n",
       "3109      0      0.934135      0.065865  \n",
       "3110      0      0.844018      0.155982  \n",
       "3111      1      0.024934      0.975066  \n",
       "3112      0      0.882993      0.117007  \n",
       "\n",
       "[3113 rows x 5 columns]"
      ]
     },
     "execution_count": 98,
     "metadata": {},
     "output_type": "execute_result"
    }
   ],
   "source": [
    "submission_results"
   ]
  },
  {
   "cell_type": "code",
   "execution_count": 99,
   "id": "fd56fab2",
   "metadata": {},
   "outputs": [],
   "source": [
    "submission_results.to_csv('train_set_2_text_result.csv', index=False)"
   ]
  },
  {
   "cell_type": "code",
   "execution_count": 28,
   "id": "fd119a17",
   "metadata": {},
   "outputs": [],
   "source": [
    "# submission_results.to_csv('text_prediction_result.csv', index=False)"
   ]
  },
  {
   "cell_type": "code",
   "execution_count": 87,
   "id": "1d95057f",
   "metadata": {},
   "outputs": [],
   "source": [
    "# submission_results[(submission_results['predict'] == 0) & (submission_results['text_label_1'] < 0.5)]"
   ]
  },
  {
   "cell_type": "code",
   "execution_count": null,
   "id": "5f990685",
   "metadata": {},
   "outputs": [],
   "source": []
  },
  {
   "cell_type": "code",
   "execution_count": null,
   "id": "e0e64e28",
   "metadata": {},
   "outputs": [],
   "source": []
  },
  {
   "cell_type": "code",
   "execution_count": 43,
   "id": "85a63e38",
   "metadata": {},
   "outputs": [],
   "source": [
    "preprocessed_text = preprocess_text('nguyen phu trong ha ha')\n",
    "feature_vector = vectorizer.transform([preprocessed_text])\n",
    "a = clf.predict_proba(feature_vector)[:,1][0]"
   ]
  },
  {
   "cell_type": "code",
   "execution_count": 44,
   "id": "58c3691d",
   "metadata": {},
   "outputs": [
    {
     "data": {
      "text/plain": [
       "0.4094707736862613"
      ]
     },
     "execution_count": 44,
     "metadata": {},
     "output_type": "execute_result"
    }
   ],
   "source": [
    "a"
   ]
  },
  {
   "cell_type": "code",
   "execution_count": 45,
   "id": "8716a722",
   "metadata": {},
   "outputs": [
    {
     "data": {
      "text/plain": [
       "numpy.float64"
      ]
     },
     "execution_count": 45,
     "metadata": {},
     "output_type": "execute_result"
    }
   ],
   "source": [
    "type(a)"
   ]
  },
  {
   "cell_type": "code",
   "execution_count": null,
   "id": "58845a28",
   "metadata": {},
   "outputs": [],
   "source": []
  }
 ],
 "metadata": {
  "kernelspec": {
   "display_name": "Python 3 (ipykernel)",
   "language": "python",
   "name": "python3"
  },
  "language_info": {
   "codemirror_mode": {
    "name": "ipython",
    "version": 3
   },
   "file_extension": ".py",
   "mimetype": "text/x-python",
   "name": "python",
   "nbconvert_exporter": "python",
   "pygments_lexer": "ipython3",
   "version": "3.8.13"
  }
 },
 "nbformat": 4,
 "nbformat_minor": 5
}
