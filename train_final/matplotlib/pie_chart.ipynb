{
 "cells": [
  {
   "cell_type": "code",
   "execution_count": 3,
   "metadata": {},
   "outputs": [],
   "source": [
    "import matplotlib.pyplot as plt\n",
    "from matplotlib.pyplot import figure\n",
    "import pandas as pd\n",
    "import numpy as np\n",
    "import datetime"
   ]
  },
  {
   "cell_type": "markdown",
   "metadata": {},
   "source": [
    "# Pie chart"
   ]
  },
  {
   "cell_type": "code",
   "execution_count": 10,
   "metadata": {},
   "outputs": [
    {
     "data": {
      "image/png": "[encoded data removed]",
      "text/plain": [
       "<Figure size 700x500 with 1 Axes>"
      ]
     },
     "metadata": {},
     "output_type": "display_data"
    }
   ],
   "source": [
    "figure(figsize=(7, 5), dpi=100)\n",
    "labels = 'Train set A', 'Train set B', 'Test set'\n",
    "value = [500, 350, 150]\n",
    "explode = (0, 0, 0) \n",
    "\n",
    "def absolute_value(val):\n",
    "    a  = np.round(val/100.*sum(value), 0)\n",
    "    return a\n",
    "\n",
    "plt.pie(x=value, explode=explode, labels=labels, autopct='%1.1f%%',\n",
    "        shadow=True, startangle=90, radius=1)\n",
    "\n",
    "plt.title(\"Split dataset strategy\")\n",
    "plt.show()"
   ]
  },
  {
   "cell_type": "markdown",
   "metadata": {},
   "source": [
    "# Working with dataset"
   ]
  },
  {
   "cell_type": "code",
   "execution_count": 60,
   "metadata": {},
   "outputs": [],
   "source": [
    "df = pd.read_csv(\"data/sale_10m.csv\", usecols = [\"time\", \"amt_novat\", \"vat\", \"quant\"], parse_dates=[\"time\"])\n",
    "df[\"time_1\"] = df[\"time\"].dt.strftime('%Y-%m-%d')"
   ]
  },
  {
   "cell_type": "code",
   "execution_count": 61,
   "metadata": {},
   "outputs": [
    {
     "data": {
      "text/html": [
       "<div>\n",
       "<style scoped>\n",
       "    .dataframe tbody tr th:only-of-type {\n",
       "        vertical-align: middle;\n",
       "    }\n",
       "\n",
       "    .dataframe tbody tr th {\n",
       "        vertical-align: top;\n",
       "    }\n",
       "\n",
       "    .dataframe thead th {\n",
       "        text-align: right;\n",
       "    }\n",
       "</style>\n",
       "<table border=\"1\" class=\"dataframe\">\n",
       "  <thead>\n",
       "    <tr style=\"text-align: right;\">\n",
       "      <th></th>\n",
       "      <th>time</th>\n",
       "      <th>amt_novat</th>\n",
       "      <th>vat</th>\n",
       "      <th>quant</th>\n",
       "      <th>time_1</th>\n",
       "    </tr>\n",
       "  </thead>\n",
       "  <tbody>\n",
       "    <tr>\n",
       "      <th>0</th>\n",
       "      <td>2020-12-31 07:11:00+00:00</td>\n",
       "      <td>-42.4</td>\n",
       "      <td>-2.12</td>\n",
       "      <td>-8.81</td>\n",
       "      <td>2020-12-31</td>\n",
       "    </tr>\n",
       "    <tr>\n",
       "      <th>1</th>\n",
       "      <td>2020-12-31 11:17:00+00:00</td>\n",
       "      <td>-30.8</td>\n",
       "      <td>0.00</td>\n",
       "      <td>-1.70</td>\n",
       "      <td>2020-12-31</td>\n",
       "    </tr>\n",
       "    <tr>\n",
       "      <th>2</th>\n",
       "      <td>2020-12-31 11:17:00+00:00</td>\n",
       "      <td>-67.9</td>\n",
       "      <td>0.00</td>\n",
       "      <td>-17.00</td>\n",
       "      <td>2020-12-31</td>\n",
       "    </tr>\n",
       "    <tr>\n",
       "      <th>3</th>\n",
       "      <td>2020-12-31 11:37:00+00:00</td>\n",
       "      <td>-22.3</td>\n",
       "      <td>-2.23</td>\n",
       "      <td>-17.00</td>\n",
       "      <td>2020-12-31</td>\n",
       "    </tr>\n",
       "    <tr>\n",
       "      <th>4</th>\n",
       "      <td>2020-12-31 11:37:00+00:00</td>\n",
       "      <td>-47.2</td>\n",
       "      <td>-4.72</td>\n",
       "      <td>-34.00</td>\n",
       "      <td>2020-12-31</td>\n",
       "    </tr>\n",
       "    <tr>\n",
       "      <th>...</th>\n",
       "      <td>...</td>\n",
       "      <td>...</td>\n",
       "      <td>...</td>\n",
       "      <td>...</td>\n",
       "      <td>...</td>\n",
       "    </tr>\n",
       "    <tr>\n",
       "      <th>59994</th>\n",
       "      <td>2021-01-05 01:32:00+00:00</td>\n",
       "      <td>21.9</td>\n",
       "      <td>2.19</td>\n",
       "      <td>17.00</td>\n",
       "      <td>2021-01-05</td>\n",
       "    </tr>\n",
       "    <tr>\n",
       "      <th>59995</th>\n",
       "      <td>2021-01-05 01:32:00+00:00</td>\n",
       "      <td>40.4</td>\n",
       "      <td>4.04</td>\n",
       "      <td>17.00</td>\n",
       "      <td>2021-01-05</td>\n",
       "    </tr>\n",
       "    <tr>\n",
       "      <th>59996</th>\n",
       "      <td>2021-01-05 11:38:00+00:00</td>\n",
       "      <td>3.6</td>\n",
       "      <td>0.36</td>\n",
       "      <td>1.70</td>\n",
       "      <td>2021-01-05</td>\n",
       "    </tr>\n",
       "    <tr>\n",
       "      <th>59997</th>\n",
       "      <td>2021-01-05 11:38:00+00:00</td>\n",
       "      <td>3.4</td>\n",
       "      <td>0.34</td>\n",
       "      <td>1.70</td>\n",
       "      <td>2021-01-05</td>\n",
       "    </tr>\n",
       "    <tr>\n",
       "      <th>59998</th>\n",
       "      <td>2021-01-05 11:38:00+00:00</td>\n",
       "      <td>3.9</td>\n",
       "      <td>0.39</td>\n",
       "      <td>1.70</td>\n",
       "      <td>2021-01-05</td>\n",
       "    </tr>\n",
       "  </tbody>\n",
       "</table>\n",
       "<p>59999 rows × 5 columns</p>\n",
       "</div>"
      ],
      "text/plain": [
       "                           time  amt_novat   vat  quant      time_1\n",
       "0     2020-12-31 07:11:00+00:00      -42.4 -2.12  -8.81  2020-12-31\n",
       "1     2020-12-31 11:17:00+00:00      -30.8  0.00  -1.70  2020-12-31\n",
       "2     2020-12-31 11:17:00+00:00      -67.9  0.00 -17.00  2020-12-31\n",
       "3     2020-12-31 11:37:00+00:00      -22.3 -2.23 -17.00  2020-12-31\n",
       "4     2020-12-31 11:37:00+00:00      -47.2 -4.72 -34.00  2020-12-31\n",
       "...                         ...        ...   ...    ...         ...\n",
       "59994 2021-01-05 01:32:00+00:00       21.9  2.19  17.00  2021-01-05\n",
       "59995 2021-01-05 01:32:00+00:00       40.4  4.04  17.00  2021-01-05\n",
       "59996 2021-01-05 11:38:00+00:00        3.6  0.36   1.70  2021-01-05\n",
       "59997 2021-01-05 11:38:00+00:00        3.4  0.34   1.70  2021-01-05\n",
       "59998 2021-01-05 11:38:00+00:00        3.9  0.39   1.70  2021-01-05\n",
       "\n",
       "[59999 rows x 5 columns]"
      ]
     },
     "execution_count": 61,
     "metadata": {},
     "output_type": "execute_result"
    }
   ],
   "source": [
    "df"
   ]
  },
  {
   "cell_type": "code",
   "execution_count": 62,
   "metadata": {},
   "outputs": [
    {
     "name": "stderr",
     "output_type": "stream",
     "text": [
      "/Users/nguyenhuy/Library/Python/3.7/lib/python/site-packages/ipykernel_launcher.py:1: FutureWarning: Indexing with multiple keys (implicitly converted to a tuple of keys) will be deprecated, use a list instead.\n",
      "  \"\"\"Entry point for launching an IPython kernel.\n"
     ]
    }
   ],
   "source": [
    "grouby_result = df.groupby(['time_1'])['amt_novat', \"vat\", \"quant\"].agg('sum')"
   ]
  },
  {
   "cell_type": "code",
   "execution_count": 69,
   "metadata": {},
   "outputs": [
    {
     "data": {
      "text/html": [
       "<div>\n",
       "<style scoped>\n",
       "    .dataframe tbody tr th:only-of-type {\n",
       "        vertical-align: middle;\n",
       "    }\n",
       "\n",
       "    .dataframe tbody tr th {\n",
       "        vertical-align: top;\n",
       "    }\n",
       "\n",
       "    .dataframe thead th {\n",
       "        text-align: right;\n",
       "    }\n",
       "</style>\n",
       "<table border=\"1\" class=\"dataframe\">\n",
       "  <thead>\n",
       "    <tr style=\"text-align: right;\">\n",
       "      <th></th>\n",
       "      <th>amt_novat</th>\n",
       "      <th>vat</th>\n",
       "      <th>quant</th>\n",
       "      <th>time</th>\n",
       "    </tr>\n",
       "    <tr>\n",
       "      <th>time_1</th>\n",
       "      <th></th>\n",
       "      <th></th>\n",
       "      <th></th>\n",
       "      <th></th>\n",
       "    </tr>\n",
       "  </thead>\n",
       "  <tbody>\n",
       "    <tr>\n",
       "      <th>2020-12-30</th>\n",
       "      <td>214733.3</td>\n",
       "      <td>13016.82</td>\n",
       "      <td>67270.67</td>\n",
       "      <td>2020-12-30</td>\n",
       "    </tr>\n",
       "    <tr>\n",
       "      <th>2020-12-31</th>\n",
       "      <td>669073.4</td>\n",
       "      <td>52215.63</td>\n",
       "      <td>159408.00</td>\n",
       "      <td>2020-12-31</td>\n",
       "    </tr>\n",
       "    <tr>\n",
       "      <th>2021-01-01</th>\n",
       "      <td>371364.0</td>\n",
       "      <td>24618.77</td>\n",
       "      <td>99102.98</td>\n",
       "      <td>2021-01-01</td>\n",
       "    </tr>\n",
       "    <tr>\n",
       "      <th>2021-01-02</th>\n",
       "      <td>316410.2</td>\n",
       "      <td>24000.30</td>\n",
       "      <td>80316.21</td>\n",
       "      <td>2021-01-02</td>\n",
       "    </tr>\n",
       "    <tr>\n",
       "      <th>2021-01-04</th>\n",
       "      <td>102348.1</td>\n",
       "      <td>5430.00</td>\n",
       "      <td>39372.81</td>\n",
       "      <td>2021-01-04</td>\n",
       "    </tr>\n",
       "    <tr>\n",
       "      <th>2021-01-05</th>\n",
       "      <td>184900.1</td>\n",
       "      <td>14419.89</td>\n",
       "      <td>55129.69</td>\n",
       "      <td>2021-01-05</td>\n",
       "    </tr>\n",
       "  </tbody>\n",
       "</table>\n",
       "</div>"
      ],
      "text/plain": [
       "            amt_novat       vat      quant        time\n",
       "time_1                                                \n",
       "2020-12-30   214733.3  13016.82   67270.67  2020-12-30\n",
       "2020-12-31   669073.4  52215.63  159408.00  2020-12-31\n",
       "2021-01-01   371364.0  24618.77   99102.98  2021-01-01\n",
       "2021-01-02   316410.2  24000.30   80316.21  2021-01-02\n",
       "2021-01-04   102348.1   5430.00   39372.81  2021-01-04\n",
       "2021-01-05   184900.1  14419.89   55129.69  2021-01-05"
      ]
     },
     "execution_count": 69,
     "metadata": {},
     "output_type": "execute_result"
    }
   ],
   "source": [
    "grouby_result[\"time\"] = grouby_result.index\n",
    "grouby_result = grouby_result.drop(['2020-12-29'], axis=0)\n",
    "grouby_result"
   ]
  },
  {
   "cell_type": "code",
   "execution_count": 70,
   "metadata": {},
   "outputs": [
    {
     "data": {
      "image/png": "[encoded data removed]",
      "text/plain": [
       "<Figure size 700x500 with 1 Axes>"
      ]
     },
     "metadata": {},
     "output_type": "display_data"
    }
   ],
   "source": [
    "figure(figsize=(7, 5), dpi=100)\n",
    "explode = np.zeros(len(grouby_result[\"amt_novat\"]))\n",
    "\n",
    "def absolute_value(val):\n",
    "    a  = np.round(val/100.*sum(value), 0)\n",
    "    return a\n",
    "\n",
    "plt.pie(x=grouby_result[\"amt_novat\"], explode=explode, labels=grouby_result[\"time\"], autopct='%1.1f%%',\n",
    "        shadow=True, startangle=45, radius=1)\n",
    "\n",
    "plt.title(\"Total chart\")\n",
    "plt.show()"
   ]
  },
  {
   "cell_type": "markdown",
   "metadata": {},
   "source": [
    "Reference: https://matplotlib.org/stable/api/_as_gen/matplotlib.pyplot.pie.html#matplotlib.pyplot.pie"
   ]
  },
  {
   "cell_type": "code",
   "execution_count": null,
   "metadata": {},
   "outputs": [],
   "source": []
  },
  {
   "cell_type": "code",
   "execution_count": null,
   "metadata": {},
   "outputs": [],
   "source": []
  }
 ],
 "metadata": {
  "kernelspec": {
   "display_name": "Python 3 (ipykernel)",
   "language": "python",
   "name": "python3"
  },
  "language_info": {
   "codemirror_mode": {
    "name": "ipython",
    "version": 3
   },
   "file_extension": ".py",
   "mimetype": "text/x-python",
   "name": "python",
   "nbconvert_exporter": "python",
   "pygments_lexer": "ipython3",
   "version": "3.8.13"
  }
 },
 "nbformat": 4,
 "nbformat_minor": 4
}
