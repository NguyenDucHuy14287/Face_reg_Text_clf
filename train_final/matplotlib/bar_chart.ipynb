{
 "cells": [
  {
   "cell_type": "code",
   "execution_count": 3,
   "metadata": {},
   "outputs": [],
   "source": [
    "import matplotlib.pyplot as plt\n",
    "from matplotlib.pyplot import figure\n",
    "import pandas as pd\n",
    "import numpy as np\n",
    "import datetime"
   ]
  },
  {
   "cell_type": "code",
   "execution_count": 31,
   "metadata": {},
   "outputs": [],
   "source": [
    "df_train = pd.read_csv('tn1/data_train.csv')\n",
    "df_test = pd.read_csv('tn1/data_test.csv')"
   ]
  },
  {
   "cell_type": "code",
   "execution_count": 37,
   "metadata": {},
   "outputs": [
    {
     "data": {
      "text/plain": [
       "0    4727\n",
       "1    4593\n",
       "Name: label, dtype: int64"
      ]
     },
     "execution_count": 37,
     "metadata": {},
     "output_type": "execute_result"
    }
   ],
   "source": [
    "df_train.label.value_counts()"
   ]
  },
  {
   "cell_type": "code",
   "execution_count": 38,
   "metadata": {},
   "outputs": [
    {
     "data": {
      "text/plain": [
       "0    525\n",
       "1    511\n",
       "Name: label, dtype: int64"
      ]
     },
     "execution_count": 38,
     "metadata": {},
     "output_type": "execute_result"
    }
   ],
   "source": [
    "df_test.label.value_counts()"
   ]
  },
  {
   "cell_type": "code",
   "execution_count": 45,
   "metadata": {},
   "outputs": [
    {
     "data": {
      "text/plain": [
       "5252"
      ]
     },
     "execution_count": 45,
     "metadata": {},
     "output_type": "execute_result"
    }
   ],
   "source": [
    "4727 + 525"
   ]
  },
  {
   "cell_type": "code",
   "execution_count": 46,
   "metadata": {},
   "outputs": [
    {
     "data": {
      "text/plain": [
       "5104"
      ]
     },
     "execution_count": 46,
     "metadata": {},
     "output_type": "execute_result"
    }
   ],
   "source": [
    "4593 + 511 [5252, 5104]"
   ]
  },
  {
   "cell_type": "code",
   "execution_count": 39,
   "metadata": {},
   "outputs": [],
   "source": [
    "df_train_1 = pd.read_csv('tn2/train_set_1.csv')\n",
    "df_train_2 = pd.read_csv('tn2/train_set_2.csv')\n",
    "df_test = pd.read_csv('tn2/test_set.csv')"
   ]
  },
  {
   "cell_type": "code",
   "execution_count": 41,
   "metadata": {},
   "outputs": [
    {
     "data": {
      "text/plain": [
       "0    2626\n",
       "1    1821\n",
       "Name: label, dtype: int64"
      ]
     },
     "execution_count": 41,
     "metadata": {},
     "output_type": "execute_result"
    }
   ],
   "source": [
    "df_train_1.label.value_counts()"
   ]
  },
  {
   "cell_type": "code",
   "execution_count": 42,
   "metadata": {},
   "outputs": [
    {
     "data": {
      "text/plain": [
       "0    1838\n",
       "1    1275\n",
       "Name: label, dtype: int64"
      ]
     },
     "execution_count": 42,
     "metadata": {},
     "output_type": "execute_result"
    }
   ],
   "source": [
    "df_train_2.label.value_counts()"
   ]
  },
  {
   "cell_type": "code",
   "execution_count": 43,
   "metadata": {},
   "outputs": [
    {
     "data": {
      "text/plain": [
       "0    788\n",
       "1    547\n",
       "Name: label, dtype: int64"
      ]
     },
     "execution_count": 43,
     "metadata": {},
     "output_type": "execute_result"
    }
   ],
   "source": [
    "df_test.label.value_counts()"
   ]
  },
  {
   "cell_type": "code",
   "execution_count": 54,
   "metadata": {},
   "outputs": [
    {
     "data": {
      "text/plain": [
       "5252"
      ]
     },
     "execution_count": 54,
     "metadata": {},
     "output_type": "execute_result"
    }
   ],
   "source": [
    "2626 + 1838 + 788"
   ]
  },
  {
   "cell_type": "code",
   "execution_count": 55,
   "metadata": {},
   "outputs": [
    {
     "data": {
      "text/plain": [
       "3643"
      ]
     },
     "execution_count": 55,
     "metadata": {},
     "output_type": "execute_result"
    }
   ],
   "source": [
    "1821 + 1275 + 547"
   ]
  },
  {
   "cell_type": "markdown",
   "metadata": {},
   "source": [
    "# Basic line chart with data"
   ]
  },
  {
   "cell_type": "markdown",
   "metadata": {},
   "source": [
    "### Vertical bar plot\n",
    "\n",
    "The bars are positioned at x with the given alignment. Their dimensions are given by height and width. The vertical baseline is bottom (default 0)."
   ]
  },
  {
   "cell_type": "code",
   "execution_count": 4,
   "metadata": {},
   "outputs": [
    {
     "data": {
      "image/png": "[encoded data removed]",
      "text/plain": [
       "<Figure size 700x500 with 1 Axes>"
      ]
     },
     "metadata": {
      "needs_background": "light"
     },
     "output_type": "display_data"
    }
   ],
   "source": [
    "bar_name = ['a', 'b', 'c', 'd']\n",
    "bar_height = [1, 5, 3, 9]\n",
    "bar_width = [0.5, 0.5, 0.25, 0.1]\n",
    "offset = 0\n",
    "# bar_width = [0.5, 0.5, 0.5, 0.5]\n",
    "figure(figsize=(7, 5), dpi=100)\n",
    "plt.bar(x=bar_name, height=bar_height, width=bar_width, bottom = offset, align=\"center\",\n",
    "       color='blue', edgecolor='red')\n",
    "for index, value in enumerate(bar_height):\n",
    "    plt.text(index, value + 0.1, str(value))\n",
    "plt.xlabel('Bar name')\n",
    "plt.ylabel('Bar value')\n",
    "plt.title('Bar chart')\n",
    "plt.show()"
   ]
  },
  {
   "cell_type": "markdown",
   "metadata": {},
   "source": [
    "### Horizontal bar plot\n",
    "The bars are positioned at y with the given alignment. Their dimensions are given by width and height. The horizontal baseline is left (default 0).\n",
    "\n"
   ]
  },
  {
   "cell_type": "code",
   "execution_count": 30,
   "metadata": {},
   "outputs": [
    {
     "data": {
      "image/png": "[encoded data removed]",
      "text/plain": [
       "<Figure size 560x400 with 1 Axes>"
      ]
     },
     "metadata": {
      "needs_background": "light"
     },
     "output_type": "display_data"
    }
   ],
   "source": [
    "bar_name = ['text_prediction_score', 'image_prediction_score', 'face_prediction']\n",
    "bar_height = 0.5\n",
    "bar_width = [79, 526,  95]\n",
    "offset = 0\n",
    "figure(figsize=(7, 5), dpi=80)\n",
    "plt.barh(y=bar_name, height=bar_height, width=bar_width, left = offset, align=\"center\")\n",
    "for index, value in enumerate(bar_width):\n",
    "    plt.text(value + 1, index , str(value))\n",
    "    \n",
    "plt.xlabel('Information Gain')\n",
    "plt.ylabel('Feature')\n",
    "plt.title('Feature Importance')\n",
    "plt.yticks(rotation=50)\n",
    "plt.show()"
   ]
  },
  {
   "cell_type": "markdown",
   "metadata": {},
   "source": [
    "### Stacked bar chart"
   ]
  },
  {
   "cell_type": "code",
   "execution_count": 5,
   "metadata": {},
   "outputs": [
    {
     "data": {
      "image/png": "[encoded data removed]",
      "text/plain": [
       "<Figure size 700x500 with 1 Axes>"
      ]
     },
     "metadata": {
      "needs_background": "light"
     },
     "output_type": "display_data"
    }
   ],
   "source": [
    "bar_name = ['a', 'b', 'c', 'd']\n",
    "bar_height = [1, 2, 3, 4]\n",
    "bar_height_2 = [1, 4, 2, 5]\n",
    "bar_width = 0.5\n",
    "\n",
    "figure(figsize=(7, 5), dpi=100)\n",
    "plt.bar(x=bar_name, height=bar_height, width=bar_width, label='Stack value 1')\n",
    "plt.bar(x=bar_name, height=bar_height_2, width=bar_width, bottom=bar_height, label='Stack value 2')\n",
    "\n",
    "for index, value in enumerate(bar_height):\n",
    "    plt.text(index, value + 0.1, str(value))\n",
    "for index, value in enumerate(zip(bar_height, bar_height_2)):\n",
    "    plt.text(index, sum(value) + 0.1, str(value[1]))\n",
    "    \n",
    "ax.legend()\n",
    "plt.show()"
   ]
  },
  {
   "cell_type": "markdown",
   "metadata": {},
   "source": [
    "### Grouped bar chart with labels "
   ]
  },
  {
   "cell_type": "code",
   "execution_count": 50,
   "metadata": {},
   "outputs": [
    {
     "ename": "NameError",
     "evalue": "name 'width' is not defined",
     "output_type": "error",
     "traceback": [
      "\u001b[1;31m---------------------------------------------------------------------------\u001b[0m",
      "\u001b[1;31mNameError\u001b[0m                                 Traceback (most recent call last)",
      "Input \u001b[1;32mIn [50]\u001b[0m, in \u001b[0;36m<cell line: 8>\u001b[1;34m()\u001b[0m\n\u001b[0;32m      5\u001b[0m bar_width \u001b[38;5;241m=\u001b[39m \u001b[38;5;241m0.35\u001b[39m\n\u001b[0;32m      7\u001b[0m figure(figsize\u001b[38;5;241m=\u001b[39m(\u001b[38;5;241m7\u001b[39m, \u001b[38;5;241m5\u001b[39m), dpi\u001b[38;5;241m=\u001b[39m\u001b[38;5;241m100\u001b[39m)\n\u001b[1;32m----> 8\u001b[0m plt\u001b[38;5;241m.\u001b[39mbar(x\u001b[38;5;241m=\u001b[39mx \u001b[38;5;241m-\u001b[39m \u001b[43mwidth\u001b[49m\u001b[38;5;241m/\u001b[39m\u001b[38;5;241m2\u001b[39m, height\u001b[38;5;241m=\u001b[39mbar_height, width\u001b[38;5;241m=\u001b[39mbar_width, label\u001b[38;5;241m=\u001b[39m\u001b[38;5;124m'\u001b[39m\u001b[38;5;124mBar value 1\u001b[39m\u001b[38;5;124m'\u001b[39m)\n\u001b[0;32m      9\u001b[0m plt\u001b[38;5;241m.\u001b[39mbar(x\u001b[38;5;241m=\u001b[39mx \u001b[38;5;241m+\u001b[39m width\u001b[38;5;241m/\u001b[39m\u001b[38;5;241m2\u001b[39m, height\u001b[38;5;241m=\u001b[39mbar_height_2, width\u001b[38;5;241m=\u001b[39mbar_width, label\u001b[38;5;241m=\u001b[39m\u001b[38;5;124m'\u001b[39m\u001b[38;5;124mBar value 2\u001b[39m\u001b[38;5;124m'\u001b[39m)\n\u001b[0;32m     11\u001b[0m \u001b[38;5;28;01mfor\u001b[39;00m index, value \u001b[38;5;129;01min\u001b[39;00m \u001b[38;5;28menumerate\u001b[39m(bar_height):\n",
      "\u001b[1;31mNameError\u001b[0m: name 'width' is not defined"
     ]
    },
    {
     "data": {
      "text/plain": [
       "<Figure size 700x500 with 0 Axes>"
      ]
     },
     "metadata": {},
     "output_type": "display_data"
    }
   ],
   "source": [
    "bar_name = ['a', 'b', 'c', 'd']\n",
    "bar_height = [1, 2, 3, 4]\n",
    "bar_height_2 = [1, 4, 2, 5]\n",
    "x = np.arange(len(bar_name))\n",
    "bar_width = 0.35\n",
    "\n",
    "figure(figsize=(7, 5), dpi=100)\n",
    "plt.bar(x=x - width/2, height=bar_height, width=bar_width, label='Bar value 1')\n",
    "plt.bar(x=x + width/2, height=bar_height_2, width=bar_width, label='Bar value 2')\n",
    "\n",
    "for index, value in enumerate(bar_height):\n",
    "    plt.text(index - width/2, value + 0.1, str(value))\n",
    "for index, value in enumerate(bar_height_2):\n",
    "    plt.text(index + width/2, value + 0.1, str(value))\n",
    "\n",
    "plt.xticks(ticks = x, labels = bar_name)\n",
    "plt.legend()\n",
    "plt.show()"
   ]
  },
  {
   "cell_type": "markdown",
   "metadata": {},
   "source": [
    "# Working with dataset"
   ]
  },
  {
   "cell_type": "code",
   "execution_count": 30,
   "metadata": {},
   "outputs": [],
   "source": [
    "df = pd.read_csv(\"data/sale_10m.csv\", usecols = [\"time\", \"amt_novat\", \"vat\", \"quant\"], parse_dates=[\"time\"])\n",
    "df[\"time_1\"] = df[\"time\"].dt.strftime('%Y-%m-%d')"
   ]
  },
  {
   "cell_type": "code",
   "execution_count": 31,
   "metadata": {},
   "outputs": [
    {
     "data": {
      "text/html": [
       "<div>\n",
       "<style scoped>\n",
       "    .dataframe tbody tr th:only-of-type {\n",
       "        vertical-align: middle;\n",
       "    }\n",
       "\n",
       "    .dataframe tbody tr th {\n",
       "        vertical-align: top;\n",
       "    }\n",
       "\n",
       "    .dataframe thead th {\n",
       "        text-align: right;\n",
       "    }\n",
       "</style>\n",
       "<table border=\"1\" class=\"dataframe\">\n",
       "  <thead>\n",
       "    <tr style=\"text-align: right;\">\n",
       "      <th></th>\n",
       "      <th>time</th>\n",
       "      <th>amt_novat</th>\n",
       "      <th>vat</th>\n",
       "      <th>quant</th>\n",
       "      <th>time_1</th>\n",
       "    </tr>\n",
       "  </thead>\n",
       "  <tbody>\n",
       "    <tr>\n",
       "      <th>0</th>\n",
       "      <td>2020-12-31 07:11:00+00:00</td>\n",
       "      <td>-42.4</td>\n",
       "      <td>-2.12</td>\n",
       "      <td>-8.81</td>\n",
       "      <td>2020-12-31</td>\n",
       "    </tr>\n",
       "    <tr>\n",
       "      <th>1</th>\n",
       "      <td>2020-12-31 11:17:00+00:00</td>\n",
       "      <td>-30.8</td>\n",
       "      <td>0.00</td>\n",
       "      <td>-1.70</td>\n",
       "      <td>2020-12-31</td>\n",
       "    </tr>\n",
       "    <tr>\n",
       "      <th>2</th>\n",
       "      <td>2020-12-31 11:17:00+00:00</td>\n",
       "      <td>-67.9</td>\n",
       "      <td>0.00</td>\n",
       "      <td>-17.00</td>\n",
       "      <td>2020-12-31</td>\n",
       "    </tr>\n",
       "    <tr>\n",
       "      <th>3</th>\n",
       "      <td>2020-12-31 11:37:00+00:00</td>\n",
       "      <td>-22.3</td>\n",
       "      <td>-2.23</td>\n",
       "      <td>-17.00</td>\n",
       "      <td>2020-12-31</td>\n",
       "    </tr>\n",
       "    <tr>\n",
       "      <th>4</th>\n",
       "      <td>2020-12-31 11:37:00+00:00</td>\n",
       "      <td>-47.2</td>\n",
       "      <td>-4.72</td>\n",
       "      <td>-34.00</td>\n",
       "      <td>2020-12-31</td>\n",
       "    </tr>\n",
       "    <tr>\n",
       "      <th>...</th>\n",
       "      <td>...</td>\n",
       "      <td>...</td>\n",
       "      <td>...</td>\n",
       "      <td>...</td>\n",
       "      <td>...</td>\n",
       "    </tr>\n",
       "    <tr>\n",
       "      <th>59994</th>\n",
       "      <td>2021-01-05 01:32:00+00:00</td>\n",
       "      <td>21.9</td>\n",
       "      <td>2.19</td>\n",
       "      <td>17.00</td>\n",
       "      <td>2021-01-05</td>\n",
       "    </tr>\n",
       "    <tr>\n",
       "      <th>59995</th>\n",
       "      <td>2021-01-05 01:32:00+00:00</td>\n",
       "      <td>40.4</td>\n",
       "      <td>4.04</td>\n",
       "      <td>17.00</td>\n",
       "      <td>2021-01-05</td>\n",
       "    </tr>\n",
       "    <tr>\n",
       "      <th>59996</th>\n",
       "      <td>2021-01-05 11:38:00+00:00</td>\n",
       "      <td>3.6</td>\n",
       "      <td>0.36</td>\n",
       "      <td>1.70</td>\n",
       "      <td>2021-01-05</td>\n",
       "    </tr>\n",
       "    <tr>\n",
       "      <th>59997</th>\n",
       "      <td>2021-01-05 11:38:00+00:00</td>\n",
       "      <td>3.4</td>\n",
       "      <td>0.34</td>\n",
       "      <td>1.70</td>\n",
       "      <td>2021-01-05</td>\n",
       "    </tr>\n",
       "    <tr>\n",
       "      <th>59998</th>\n",
       "      <td>2021-01-05 11:38:00+00:00</td>\n",
       "      <td>3.9</td>\n",
       "      <td>0.39</td>\n",
       "      <td>1.70</td>\n",
       "      <td>2021-01-05</td>\n",
       "    </tr>\n",
       "  </tbody>\n",
       "</table>\n",
       "<p>59999 rows × 5 columns</p>\n",
       "</div>"
      ],
      "text/plain": [
       "                           time  amt_novat   vat  quant      time_1\n",
       "0     2020-12-31 07:11:00+00:00      -42.4 -2.12  -8.81  2020-12-31\n",
       "1     2020-12-31 11:17:00+00:00      -30.8  0.00  -1.70  2020-12-31\n",
       "2     2020-12-31 11:17:00+00:00      -67.9  0.00 -17.00  2020-12-31\n",
       "3     2020-12-31 11:37:00+00:00      -22.3 -2.23 -17.00  2020-12-31\n",
       "4     2020-12-31 11:37:00+00:00      -47.2 -4.72 -34.00  2020-12-31\n",
       "...                         ...        ...   ...    ...         ...\n",
       "59994 2021-01-05 01:32:00+00:00       21.9  2.19  17.00  2021-01-05\n",
       "59995 2021-01-05 01:32:00+00:00       40.4  4.04  17.00  2021-01-05\n",
       "59996 2021-01-05 11:38:00+00:00        3.6  0.36   1.70  2021-01-05\n",
       "59997 2021-01-05 11:38:00+00:00        3.4  0.34   1.70  2021-01-05\n",
       "59998 2021-01-05 11:38:00+00:00        3.9  0.39   1.70  2021-01-05\n",
       "\n",
       "[59999 rows x 5 columns]"
      ]
     },
     "execution_count": 31,
     "metadata": {},
     "output_type": "execute_result"
    }
   ],
   "source": [
    "df"
   ]
  },
  {
   "cell_type": "code",
   "execution_count": 32,
   "metadata": {},
   "outputs": [
    {
     "name": "stderr",
     "output_type": "stream",
     "text": [
      "/Users/nguyenhuy/Library/Python/3.7/lib/python/site-packages/ipykernel_launcher.py:1: FutureWarning: Indexing with multiple keys (implicitly converted to a tuple of keys) will be deprecated, use a list instead.\n",
      "  \"\"\"Entry point for launching an IPython kernel.\n"
     ]
    }
   ],
   "source": [
    "grouby_result = df.groupby(['time_1'])['amt_novat', \"vat\", \"quant\"].agg('sum')"
   ]
  },
  {
   "cell_type": "code",
   "execution_count": 33,
   "metadata": {},
   "outputs": [
    {
     "data": {
      "text/html": [
       "<div>\n",
       "<style scoped>\n",
       "    .dataframe tbody tr th:only-of-type {\n",
       "        vertical-align: middle;\n",
       "    }\n",
       "\n",
       "    .dataframe tbody tr th {\n",
       "        vertical-align: top;\n",
       "    }\n",
       "\n",
       "    .dataframe thead th {\n",
       "        text-align: right;\n",
       "    }\n",
       "</style>\n",
       "<table border=\"1\" class=\"dataframe\">\n",
       "  <thead>\n",
       "    <tr style=\"text-align: right;\">\n",
       "      <th></th>\n",
       "      <th>amt_novat</th>\n",
       "      <th>vat</th>\n",
       "      <th>quant</th>\n",
       "      <th>time</th>\n",
       "    </tr>\n",
       "    <tr>\n",
       "      <th>time_1</th>\n",
       "      <th></th>\n",
       "      <th></th>\n",
       "      <th></th>\n",
       "      <th></th>\n",
       "    </tr>\n",
       "  </thead>\n",
       "  <tbody>\n",
       "    <tr>\n",
       "      <th>2020-12-30</th>\n",
       "      <td>214733.3</td>\n",
       "      <td>13016.82</td>\n",
       "      <td>67270.67</td>\n",
       "      <td>2020-12-30</td>\n",
       "    </tr>\n",
       "    <tr>\n",
       "      <th>2020-12-31</th>\n",
       "      <td>669073.4</td>\n",
       "      <td>52215.63</td>\n",
       "      <td>159408.00</td>\n",
       "      <td>2020-12-31</td>\n",
       "    </tr>\n",
       "    <tr>\n",
       "      <th>2021-01-01</th>\n",
       "      <td>371364.0</td>\n",
       "      <td>24618.77</td>\n",
       "      <td>99102.98</td>\n",
       "      <td>2021-01-01</td>\n",
       "    </tr>\n",
       "    <tr>\n",
       "      <th>2021-01-02</th>\n",
       "      <td>316410.2</td>\n",
       "      <td>24000.30</td>\n",
       "      <td>80316.21</td>\n",
       "      <td>2021-01-02</td>\n",
       "    </tr>\n",
       "    <tr>\n",
       "      <th>2021-01-04</th>\n",
       "      <td>102348.1</td>\n",
       "      <td>5430.00</td>\n",
       "      <td>39372.81</td>\n",
       "      <td>2021-01-04</td>\n",
       "    </tr>\n",
       "    <tr>\n",
       "      <th>2021-01-05</th>\n",
       "      <td>184900.1</td>\n",
       "      <td>14419.89</td>\n",
       "      <td>55129.69</td>\n",
       "      <td>2021-01-05</td>\n",
       "    </tr>\n",
       "  </tbody>\n",
       "</table>\n",
       "</div>"
      ],
      "text/plain": [
       "            amt_novat       vat      quant        time\n",
       "time_1                                                \n",
       "2020-12-30   214733.3  13016.82   67270.67  2020-12-30\n",
       "2020-12-31   669073.4  52215.63  159408.00  2020-12-31\n",
       "2021-01-01   371364.0  24618.77   99102.98  2021-01-01\n",
       "2021-01-02   316410.2  24000.30   80316.21  2021-01-02\n",
       "2021-01-04   102348.1   5430.00   39372.81  2021-01-04\n",
       "2021-01-05   184900.1  14419.89   55129.69  2021-01-05"
      ]
     },
     "execution_count": 33,
     "metadata": {},
     "output_type": "execute_result"
    }
   ],
   "source": [
    "grouby_result[\"time\"] = grouby_result.index\n",
    "grouby_result = grouby_result.drop(['2020-12-29'], axis=0)\n",
    "grouby_result"
   ]
  },
  {
   "cell_type": "code",
   "execution_count": 19,
   "metadata": {},
   "outputs": [
    {
     "data": {
      "image/png": "[encoded data removed]",
      "text/plain": [
       "<Figure size 700x500 with 1 Axes>"
      ]
     },
     "metadata": {
      "needs_background": "light"
     },
     "output_type": "display_data"
    }
   ],
   "source": [
    "figure(figsize=(7, 5), dpi=100)\n",
    "plt.bar(x=['text_prediction_score', 'image_prediction_score', 'face_prediction'], height=[ 79, 526,  95], width=0.2)\n",
    "plt.xlabel('Date')\n",
    "plt.xticks(rotation=50)\n",
    "plt.ylabel('Total')\n",
    "plt.title(\"Bar chart\")\n",
    "plt.show()"
   ]
  },
  {
   "cell_type": "code",
   "execution_count": 53,
   "metadata": {},
   "outputs": [
    {
     "ename": "TypeError",
     "evalue": "unsupported operand type(s) for -: 'list' and 'float'",
     "output_type": "error",
     "traceback": [
      "\u001b[1;31m---------------------------------------------------------------------------\u001b[0m",
      "\u001b[1;31mTypeError\u001b[0m                                 Traceback (most recent call last)",
      "Input \u001b[1;32mIn [53]\u001b[0m, in \u001b[0;36m<cell line: 8>\u001b[1;34m()\u001b[0m\n\u001b[0;32m      6\u001b[0m width \u001b[38;5;241m=\u001b[39m \u001b[38;5;241m1\u001b[39m\n\u001b[0;32m      7\u001b[0m figure(figsize\u001b[38;5;241m=\u001b[39m(\u001b[38;5;241m7\u001b[39m, \u001b[38;5;241m5\u001b[39m), dpi\u001b[38;5;241m=\u001b[39m\u001b[38;5;241m100\u001b[39m)\n\u001b[1;32m----> 8\u001b[0m plt\u001b[38;5;241m.\u001b[39mbar(x\u001b[38;5;241m=\u001b[39m\u001b[43mx\u001b[49m\u001b[43m \u001b[49m\u001b[38;5;241;43m-\u001b[39;49m\u001b[43m \u001b[49m\u001b[43mwidth\u001b[49m\u001b[38;5;241;43m/\u001b[39;49m\u001b[38;5;241;43m2\u001b[39;49m, height\u001b[38;5;241m=\u001b[39ma, width\u001b[38;5;241m=\u001b[39mbar_width, label\u001b[38;5;241m=\u001b[39m\u001b[38;5;124m'\u001b[39m\u001b[38;5;124mamt_novat\u001b[39m\u001b[38;5;124m'\u001b[39m)\n\u001b[0;32m      9\u001b[0m plt\u001b[38;5;241m.\u001b[39mbar(x\u001b[38;5;241m=\u001b[39mx \u001b[38;5;241m+\u001b[39m width\u001b[38;5;241m/\u001b[39m\u001b[38;5;241m2\u001b[39m, height\u001b[38;5;241m=\u001b[39mb, width\u001b[38;5;241m=\u001b[39mbar_width, label\u001b[38;5;241m=\u001b[39m\u001b[38;5;124m'\u001b[39m\u001b[38;5;124mquant\u001b[39m\u001b[38;5;124m'\u001b[39m)\n\u001b[0;32m     11\u001b[0m \u001b[38;5;28;01mfor\u001b[39;00m index, value \u001b[38;5;129;01min\u001b[39;00m \u001b[38;5;28menumerate\u001b[39m(a):\n",
      "\u001b[1;31mTypeError\u001b[0m: unsupported operand type(s) for -: 'list' and 'float'"
     ]
    },
    {
     "data": {
      "text/plain": [
       "<Figure size 700x500 with 0 Axes>"
      ]
     },
     "metadata": {},
     "output_type": "display_data"
    }
   ],
   "source": [
    "x =['Text', 'Video']\n",
    "bar_width = 0.35\n",
    "\n",
    "a = [3, 4]\n",
    "b = [1,2]\n",
    "width = 1\n",
    "figure(figsize=(7, 5), dpi=100)\n",
    "plt.bar(x=x - width/2, height=a, width=bar_width, label='amt_novat')\n",
    "plt.bar(x=x + width/2, height=b, width=bar_width, label='quant')\n",
    "\n",
    "for index, value in enumerate(a):\n",
    "    plt.text(index - width/2, value + 0.1, round(value, 0))\n",
    "for index, value in enumerate(b):\n",
    "    plt.text(index + width/2, value + 0.1, round(value, 0))\n",
    "\n",
    "plt.xticks(ticks = x, labels = ['Text', 'Video'], rotation=50)\n",
    "plt.xlabel('Feature')\n",
    "plt.ylabel('Quantity')\n",
    "plt.title('Data distribution of Experiment  1')\n",
    "plt.legend()\n",
    "plt.show()"
   ]
  },
  {
   "cell_type": "markdown",
   "metadata": {},
   "source": [
    "Reference: \n",
    "\n",
    "https://matplotlib.org/stable/api/_as_gen/matplotlib.pyplot.bar.html#matplotlib.pyplot.bar\n",
    "https://matplotlib.org/stable/api/_as_gen/matplotlib.pyplot.barh.html#matplotlib.pyplot.barh\n",
    "https://matplotlib.org/stable/gallery/lines_bars_and_markers/barchart.html#sphx-glr-gallery-lines-bars-and-markers-barchart-py"
   ]
  },
  {
   "cell_type": "code",
   "execution_count": null,
   "metadata": {},
   "outputs": [],
   "source": []
  },
  {
   "cell_type": "code",
   "execution_count": null,
   "metadata": {},
   "outputs": [],
   "source": []
  }
 ],
 "metadata": {
  "kernelspec": {
   "display_name": "Python 3 (ipykernel)",
   "language": "python",
   "name": "python3"
  },
  "language_info": {
   "codemirror_mode": {
    "name": "ipython",
    "version": 3
   },
   "file_extension": ".py",
   "mimetype": "text/x-python",
   "name": "python",
   "nbconvert_exporter": "python",
   "pygments_lexer": "ipython3",
   "version": "3.8.13"
  }
 },
 "nbformat": 4,
 "nbformat_minor": 4
}
