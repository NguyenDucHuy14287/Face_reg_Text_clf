{
 "cells": [
  {
   "cell_type": "code",
   "execution_count": 1,
   "id": "7c45fff6",
   "metadata": {},
   "outputs": [],
   "source": [
    "import pandas as pd\n",
    "import numpy as np\n",
    "import pickle"
   ]
  },
  {
   "cell_type": "markdown",
   "id": "23bc429a",
   "metadata": {},
   "source": [
    "# Load df_train_2"
   ]
  },
  {
   "cell_type": "code",
   "execution_count": 2,
   "id": "33a4216e",
   "metadata": {},
   "outputs": [],
   "source": [
    "face_result_df_train_2 = pd.read_csv('train_set_2_face_result.csv', usecols=['id', 'face_detect'], dtype={'id': str}).rename(columns={'face_detect': \"face_prediction\"})\n",
    "text_result_df_train_2 = pd.read_csv('train_set_2_text_result.csv', usecols=['id', 'text_label_1', 'label'], dtype={'id': str}).rename(columns={'text_label_1': \"text_prediction_score\"})\n",
    "image_result_df_train_2 = pd.read_csv('train_set_2_image_result.csv', usecols=['id', '1'], dtype={'id': str}).rename(columns={'1': \"image_prediction_score\"})"
   ]
  },
  {
   "cell_type": "code",
   "execution_count": 3,
   "id": "8d4d7b85",
   "metadata": {},
   "outputs": [
    {
     "data": {
      "text/html": [
       "<div>\n",
       "<style scoped>\n",
       "    .dataframe tbody tr th:only-of-type {\n",
       "        vertical-align: middle;\n",
       "    }\n",
       "\n",
       "    .dataframe tbody tr th {\n",
       "        vertical-align: top;\n",
       "    }\n",
       "\n",
       "    .dataframe thead th {\n",
       "        text-align: right;\n",
       "    }\n",
       "</style>\n",
       "<table border=\"1\" class=\"dataframe\">\n",
       "  <thead>\n",
       "    <tr style=\"text-align: right;\">\n",
       "      <th></th>\n",
       "      <th>id</th>\n",
       "      <th>image_prediction_score</th>\n",
       "    </tr>\n",
       "  </thead>\n",
       "  <tbody>\n",
       "    <tr>\n",
       "      <th>0</th>\n",
       "      <td>7053444957239069978</td>\n",
       "      <td>0.985132</td>\n",
       "    </tr>\n",
       "    <tr>\n",
       "      <th>1</th>\n",
       "      <td>7053444957239069978</td>\n",
       "      <td>0.740242</td>\n",
       "    </tr>\n",
       "    <tr>\n",
       "      <th>2</th>\n",
       "      <td>7053444957239069978</td>\n",
       "      <td>0.859779</td>\n",
       "    </tr>\n",
       "    <tr>\n",
       "      <th>3</th>\n",
       "      <td>7053444957239069978</td>\n",
       "      <td>0.244381</td>\n",
       "    </tr>\n",
       "    <tr>\n",
       "      <th>4</th>\n",
       "      <td>7053444957239069978</td>\n",
       "      <td>0.995782</td>\n",
       "    </tr>\n",
       "  </tbody>\n",
       "</table>\n",
       "</div>"
      ],
      "text/plain": [
       "                    id  image_prediction_score\n",
       "0  7053444957239069978                0.985132\n",
       "1  7053444957239069978                0.740242\n",
       "2  7053444957239069978                0.859779\n",
       "3  7053444957239069978                0.244381\n",
       "4  7053444957239069978                0.995782"
      ]
     },
     "execution_count": 3,
     "metadata": {},
     "output_type": "execute_result"
    }
   ],
   "source": [
    "image_result_df_train_2.head()"
   ]
  },
  {
   "cell_type": "markdown",
   "id": "d88d74cd",
   "metadata": {},
   "source": [
    "Group by 'id':"
   ]
  },
  {
   "cell_type": "code",
   "execution_count": 4,
   "id": "c922fbe2",
   "metadata": {},
   "outputs": [],
   "source": [
    "agg_face_result = face_result_df_train_2.groupby('id').sum().reset_index()\n",
    "agg_face_result['face_prediction'] = agg_face_result['face_prediction'].map(lambda x: 1 if x > 0 else 0)\n",
    "\n",
    "agg_image_result = image_result_df_train_2.groupby('id').mean().reset_index()"
   ]
  },
  {
   "cell_type": "markdown",
   "id": "1fa5c8f3",
   "metadata": {},
   "source": [
    "Make prediction:"
   ]
  },
  {
   "cell_type": "code",
   "execution_count": 5,
   "id": "fcaa6604",
   "metadata": {},
   "outputs": [],
   "source": [
    "threshold = 0.5\n",
    "agg_image_result['image_prediction'] = agg_image_result['image_prediction_score'].map(lambda x: 1 if x >= threshold else 0)\n",
    "text_result_df_train_2['text_prediction'] = text_result_df_train_2['text_prediction_score'].map(lambda x: 1 if x >= threshold else 0)"
   ]
  },
  {
   "cell_type": "code",
   "execution_count": 6,
   "id": "b31dba37",
   "metadata": {},
   "outputs": [
    {
     "data": {
      "text/html": [
       "<div>\n",
       "<style scoped>\n",
       "    .dataframe tbody tr th:only-of-type {\n",
       "        vertical-align: middle;\n",
       "    }\n",
       "\n",
       "    .dataframe tbody tr th {\n",
       "        vertical-align: top;\n",
       "    }\n",
       "\n",
       "    .dataframe thead th {\n",
       "        text-align: right;\n",
       "    }\n",
       "</style>\n",
       "<table border=\"1\" class=\"dataframe\">\n",
       "  <thead>\n",
       "    <tr style=\"text-align: right;\">\n",
       "      <th></th>\n",
       "      <th>id</th>\n",
       "      <th>label</th>\n",
       "      <th>text_prediction_score</th>\n",
       "      <th>text_prediction</th>\n",
       "    </tr>\n",
       "  </thead>\n",
       "  <tbody>\n",
       "    <tr>\n",
       "      <th>0</th>\n",
       "      <td>6746395734930640129</td>\n",
       "      <td>0</td>\n",
       "      <td>0.047635</td>\n",
       "      <td>0</td>\n",
       "    </tr>\n",
       "    <tr>\n",
       "      <th>1</th>\n",
       "      <td>7071073830848023834</td>\n",
       "      <td>1</td>\n",
       "      <td>0.784508</td>\n",
       "      <td>1</td>\n",
       "    </tr>\n",
       "    <tr>\n",
       "      <th>2</th>\n",
       "      <td>6954907710366387458</td>\n",
       "      <td>1</td>\n",
       "      <td>0.750353</td>\n",
       "      <td>1</td>\n",
       "    </tr>\n",
       "    <tr>\n",
       "      <th>3</th>\n",
       "      <td>7066615161271881006</td>\n",
       "      <td>0</td>\n",
       "      <td>0.064409</td>\n",
       "      <td>0</td>\n",
       "    </tr>\n",
       "    <tr>\n",
       "      <th>4</th>\n",
       "      <td>6925795138379713794</td>\n",
       "      <td>0</td>\n",
       "      <td>0.140355</td>\n",
       "      <td>0</td>\n",
       "    </tr>\n",
       "  </tbody>\n",
       "</table>\n",
       "</div>"
      ],
      "text/plain": [
       "                    id  label  text_prediction_score  text_prediction\n",
       "0  6746395734930640129      0               0.047635                0\n",
       "1  7071073830848023834      1               0.784508                1\n",
       "2  6954907710366387458      1               0.750353                1\n",
       "3  7066615161271881006      0               0.064409                0\n",
       "4  6925795138379713794      0               0.140355                0"
      ]
     },
     "execution_count": 6,
     "metadata": {},
     "output_type": "execute_result"
    }
   ],
   "source": [
    "text_result_df_train_2.head()"
   ]
  },
  {
   "cell_type": "code",
   "execution_count": 7,
   "id": "229b9057",
   "metadata": {},
   "outputs": [],
   "source": [
    "# agg_image_result.head()"
   ]
  },
  {
   "cell_type": "code",
   "execution_count": 8,
   "id": "80d318ee",
   "metadata": {},
   "outputs": [],
   "source": [
    "combine_df_train = pd.merge(left=text_result_df_train_2, \n",
    "                    right= pd.merge(left=agg_image_result, \n",
    "                                    right=agg_face_result, \n",
    "                                    how='inner', \n",
    "                                    on='id'), \n",
    "                    how='inner', on='id')\n",
    "combine_df_train['label'] = combine_df_train['label'].astype(int)"
   ]
  },
  {
   "cell_type": "code",
   "execution_count": 9,
   "id": "ece57f85",
   "metadata": {},
   "outputs": [
    {
     "data": {
      "text/html": [
       "<div>\n",
       "<style scoped>\n",
       "    .dataframe tbody tr th:only-of-type {\n",
       "        vertical-align: middle;\n",
       "    }\n",
       "\n",
       "    .dataframe tbody tr th {\n",
       "        vertical-align: top;\n",
       "    }\n",
       "\n",
       "    .dataframe thead th {\n",
       "        text-align: right;\n",
       "    }\n",
       "</style>\n",
       "<table border=\"1\" class=\"dataframe\">\n",
       "  <thead>\n",
       "    <tr style=\"text-align: right;\">\n",
       "      <th></th>\n",
       "      <th>id</th>\n",
       "      <th>label</th>\n",
       "      <th>text_prediction_score</th>\n",
       "      <th>text_prediction</th>\n",
       "      <th>image_prediction_score</th>\n",
       "      <th>image_prediction</th>\n",
       "      <th>face_prediction</th>\n",
       "    </tr>\n",
       "  </thead>\n",
       "  <tbody>\n",
       "    <tr>\n",
       "      <th>0</th>\n",
       "      <td>6746395734930640129</td>\n",
       "      <td>0</td>\n",
       "      <td>0.047635</td>\n",
       "      <td>0</td>\n",
       "      <td>0.314742</td>\n",
       "      <td>0</td>\n",
       "      <td>0</td>\n",
       "    </tr>\n",
       "    <tr>\n",
       "      <th>1</th>\n",
       "      <td>7071073830848023834</td>\n",
       "      <td>1</td>\n",
       "      <td>0.784508</td>\n",
       "      <td>1</td>\n",
       "      <td>0.996597</td>\n",
       "      <td>1</td>\n",
       "      <td>0</td>\n",
       "    </tr>\n",
       "    <tr>\n",
       "      <th>2</th>\n",
       "      <td>6954907710366387458</td>\n",
       "      <td>1</td>\n",
       "      <td>0.750353</td>\n",
       "      <td>1</td>\n",
       "      <td>0.941859</td>\n",
       "      <td>1</td>\n",
       "      <td>1</td>\n",
       "    </tr>\n",
       "    <tr>\n",
       "      <th>3</th>\n",
       "      <td>7066615161271881006</td>\n",
       "      <td>0</td>\n",
       "      <td>0.064409</td>\n",
       "      <td>0</td>\n",
       "      <td>0.013347</td>\n",
       "      <td>0</td>\n",
       "      <td>0</td>\n",
       "    </tr>\n",
       "    <tr>\n",
       "      <th>4</th>\n",
       "      <td>6925795138379713794</td>\n",
       "      <td>0</td>\n",
       "      <td>0.140355</td>\n",
       "      <td>0</td>\n",
       "      <td>0.548625</td>\n",
       "      <td>1</td>\n",
       "      <td>0</td>\n",
       "    </tr>\n",
       "    <tr>\n",
       "      <th>...</th>\n",
       "      <td>...</td>\n",
       "      <td>...</td>\n",
       "      <td>...</td>\n",
       "      <td>...</td>\n",
       "      <td>...</td>\n",
       "      <td>...</td>\n",
       "      <td>...</td>\n",
       "    </tr>\n",
       "    <tr>\n",
       "      <th>3108</th>\n",
       "      <td>7058856419461795073</td>\n",
       "      <td>1</td>\n",
       "      <td>0.863431</td>\n",
       "      <td>1</td>\n",
       "      <td>0.739146</td>\n",
       "      <td>1</td>\n",
       "      <td>0</td>\n",
       "    </tr>\n",
       "    <tr>\n",
       "      <th>3109</th>\n",
       "      <td>6974710162594548993</td>\n",
       "      <td>0</td>\n",
       "      <td>0.065865</td>\n",
       "      <td>0</td>\n",
       "      <td>0.015326</td>\n",
       "      <td>0</td>\n",
       "      <td>0</td>\n",
       "    </tr>\n",
       "    <tr>\n",
       "      <th>3110</th>\n",
       "      <td>6992891507560713498</td>\n",
       "      <td>0</td>\n",
       "      <td>0.155982</td>\n",
       "      <td>0</td>\n",
       "      <td>0.120283</td>\n",
       "      <td>0</td>\n",
       "      <td>0</td>\n",
       "    </tr>\n",
       "    <tr>\n",
       "      <th>3111</th>\n",
       "      <td>7106113028952755482</td>\n",
       "      <td>1</td>\n",
       "      <td>0.975066</td>\n",
       "      <td>1</td>\n",
       "      <td>0.924086</td>\n",
       "      <td>1</td>\n",
       "      <td>1</td>\n",
       "    </tr>\n",
       "    <tr>\n",
       "      <th>3112</th>\n",
       "      <td>7056792878416137498</td>\n",
       "      <td>0</td>\n",
       "      <td>0.117007</td>\n",
       "      <td>0</td>\n",
       "      <td>0.248704</td>\n",
       "      <td>0</td>\n",
       "      <td>0</td>\n",
       "    </tr>\n",
       "  </tbody>\n",
       "</table>\n",
       "<p>3113 rows × 7 columns</p>\n",
       "</div>"
      ],
      "text/plain": [
       "                       id  label  text_prediction_score  text_prediction  \\\n",
       "0     6746395734930640129      0               0.047635                0   \n",
       "1     7071073830848023834      1               0.784508                1   \n",
       "2     6954907710366387458      1               0.750353                1   \n",
       "3     7066615161271881006      0               0.064409                0   \n",
       "4     6925795138379713794      0               0.140355                0   \n",
       "...                   ...    ...                    ...              ...   \n",
       "3108  7058856419461795073      1               0.863431                1   \n",
       "3109  6974710162594548993      0               0.065865                0   \n",
       "3110  6992891507560713498      0               0.155982                0   \n",
       "3111  7106113028952755482      1               0.975066                1   \n",
       "3112  7056792878416137498      0               0.117007                0   \n",
       "\n",
       "      image_prediction_score  image_prediction  face_prediction  \n",
       "0                   0.314742                 0                0  \n",
       "1                   0.996597                 1                0  \n",
       "2                   0.941859                 1                1  \n",
       "3                   0.013347                 0                0  \n",
       "4                   0.548625                 1                0  \n",
       "...                      ...               ...              ...  \n",
       "3108                0.739146                 1                0  \n",
       "3109                0.015326                 0                0  \n",
       "3110                0.120283                 0                0  \n",
       "3111                0.924086                 1                1  \n",
       "3112                0.248704                 0                0  \n",
       "\n",
       "[3113 rows x 7 columns]"
      ]
     },
     "execution_count": 9,
     "metadata": {},
     "output_type": "execute_result"
    }
   ],
   "source": [
    "combine_df_train"
   ]
  },
  {
   "cell_type": "markdown",
   "id": "9469452d",
   "metadata": {},
   "source": [
    "# Load df_test"
   ]
  },
  {
   "cell_type": "code",
   "execution_count": 10,
   "id": "c6ff98b5",
   "metadata": {},
   "outputs": [],
   "source": [
    "face_result_df_test = pd.read_csv('test_set_face_result.csv', usecols=['id', 'face_detect'], dtype={'id': str}).rename(columns={'face_detect': \"face_prediction\"})\n",
    "text_result_df_test = pd.read_csv('test_set_text_result.csv', usecols=['id', 'text_label_1', 'label'], dtype={'id': str}).rename(columns={'text_label_1': \"text_prediction_score\"})\n",
    "image_result_df_test = pd.read_csv('test_set_image_result.csv', usecols=['id', '1'], dtype={'id': str}).rename(columns={'1': \"image_prediction_score\"})"
   ]
  },
  {
   "cell_type": "markdown",
   "id": "9be0a2e7",
   "metadata": {},
   "source": [
    "Group by 'id':"
   ]
  },
  {
   "cell_type": "code",
   "execution_count": 11,
   "id": "6e8d3d0b",
   "metadata": {},
   "outputs": [],
   "source": [
    "agg_face_result_test = face_result_df_test.groupby('id').sum().reset_index()\n",
    "agg_face_result_test['face_prediction'] = agg_face_result_test['face_prediction'].map(lambda x: 1 if x > 0 else 0)\n",
    "\n",
    "agg_image_result_test = image_result_df_test.groupby('id').mean().reset_index() # can using max()"
   ]
  },
  {
   "cell_type": "markdown",
   "id": "1e058db1",
   "metadata": {},
   "source": [
    "Make prediction:"
   ]
  },
  {
   "cell_type": "code",
   "execution_count": 12,
   "id": "9faf6d25",
   "metadata": {},
   "outputs": [],
   "source": [
    "threshold = 0.5\n",
    "agg_image_result_test['image_prediction'] = agg_image_result_test['image_prediction_score'].map(lambda x: 1 if x >= threshold else 0)\n",
    "text_result_df_test['text_prediction'] = text_result_df_test['text_prediction_score'].map(lambda x: 1 if x >= threshold else 0)"
   ]
  },
  {
   "cell_type": "code",
   "execution_count": 13,
   "id": "283c9ccf",
   "metadata": {},
   "outputs": [],
   "source": [
    "combine_df_test = pd.merge(left=text_result_df_test, \n",
    "                    right= pd.merge(left=agg_image_result_test, \n",
    "                                    right=agg_face_result_test, \n",
    "                                    how='inner', \n",
    "                                    on='id'), \n",
    "                    how='inner', on='id')\n",
    "combine_df_test['label'] = combine_df_test['label'].astype(int)"
   ]
  },
  {
   "cell_type": "code",
   "execution_count": 14,
   "id": "593a7fa8",
   "metadata": {},
   "outputs": [
    {
     "data": {
      "text/html": [
       "<div>\n",
       "<style scoped>\n",
       "    .dataframe tbody tr th:only-of-type {\n",
       "        vertical-align: middle;\n",
       "    }\n",
       "\n",
       "    .dataframe tbody tr th {\n",
       "        vertical-align: top;\n",
       "    }\n",
       "\n",
       "    .dataframe thead th {\n",
       "        text-align: right;\n",
       "    }\n",
       "</style>\n",
       "<table border=\"1\" class=\"dataframe\">\n",
       "  <thead>\n",
       "    <tr style=\"text-align: right;\">\n",
       "      <th></th>\n",
       "      <th>id</th>\n",
       "      <th>label</th>\n",
       "      <th>text_prediction_score</th>\n",
       "      <th>text_prediction</th>\n",
       "      <th>image_prediction_score</th>\n",
       "      <th>image_prediction</th>\n",
       "      <th>face_prediction</th>\n",
       "    </tr>\n",
       "  </thead>\n",
       "  <tbody>\n",
       "    <tr>\n",
       "      <th>0</th>\n",
       "      <td>7070502982655216923</td>\n",
       "      <td>1</td>\n",
       "      <td>0.837612</td>\n",
       "      <td>1</td>\n",
       "      <td>0.326651</td>\n",
       "      <td>0</td>\n",
       "      <td>0</td>\n",
       "    </tr>\n",
       "    <tr>\n",
       "      <th>1</th>\n",
       "      <td>7005431713895566618</td>\n",
       "      <td>0</td>\n",
       "      <td>0.143845</td>\n",
       "      <td>0</td>\n",
       "      <td>0.000477</td>\n",
       "      <td>0</td>\n",
       "      <td>0</td>\n",
       "    </tr>\n",
       "    <tr>\n",
       "      <th>2</th>\n",
       "      <td>7048453986843675906</td>\n",
       "      <td>1</td>\n",
       "      <td>0.678705</td>\n",
       "      <td>1</td>\n",
       "      <td>0.180475</td>\n",
       "      <td>0</td>\n",
       "      <td>0</td>\n",
       "    </tr>\n",
       "    <tr>\n",
       "      <th>3</th>\n",
       "      <td>6863250722155138309</td>\n",
       "      <td>0</td>\n",
       "      <td>0.185896</td>\n",
       "      <td>0</td>\n",
       "      <td>0.472381</td>\n",
       "      <td>0</td>\n",
       "      <td>0</td>\n",
       "    </tr>\n",
       "    <tr>\n",
       "      <th>4</th>\n",
       "      <td>7042150256489925890</td>\n",
       "      <td>0</td>\n",
       "      <td>0.124335</td>\n",
       "      <td>0</td>\n",
       "      <td>0.030126</td>\n",
       "      <td>0</td>\n",
       "      <td>0</td>\n",
       "    </tr>\n",
       "    <tr>\n",
       "      <th>...</th>\n",
       "      <td>...</td>\n",
       "      <td>...</td>\n",
       "      <td>...</td>\n",
       "      <td>...</td>\n",
       "      <td>...</td>\n",
       "      <td>...</td>\n",
       "      <td>...</td>\n",
       "    </tr>\n",
       "    <tr>\n",
       "      <th>1330</th>\n",
       "      <td>7055620670448815387</td>\n",
       "      <td>1</td>\n",
       "      <td>0.780432</td>\n",
       "      <td>1</td>\n",
       "      <td>0.768180</td>\n",
       "      <td>1</td>\n",
       "      <td>0</td>\n",
       "    </tr>\n",
       "    <tr>\n",
       "      <th>1331</th>\n",
       "      <td>7050668314317589761</td>\n",
       "      <td>0</td>\n",
       "      <td>0.053739</td>\n",
       "      <td>0</td>\n",
       "      <td>0.661314</td>\n",
       "      <td>1</td>\n",
       "      <td>0</td>\n",
       "    </tr>\n",
       "    <tr>\n",
       "      <th>1332</th>\n",
       "      <td>7107300625355967771</td>\n",
       "      <td>1</td>\n",
       "      <td>0.864828</td>\n",
       "      <td>1</td>\n",
       "      <td>0.978852</td>\n",
       "      <td>1</td>\n",
       "      <td>1</td>\n",
       "    </tr>\n",
       "    <tr>\n",
       "      <th>1333</th>\n",
       "      <td>6950137272515808514</td>\n",
       "      <td>0</td>\n",
       "      <td>0.060117</td>\n",
       "      <td>0</td>\n",
       "      <td>0.004670</td>\n",
       "      <td>0</td>\n",
       "      <td>0</td>\n",
       "    </tr>\n",
       "    <tr>\n",
       "      <th>1334</th>\n",
       "      <td>7077452914200939802</td>\n",
       "      <td>0</td>\n",
       "      <td>0.055777</td>\n",
       "      <td>0</td>\n",
       "      <td>0.131804</td>\n",
       "      <td>0</td>\n",
       "      <td>0</td>\n",
       "    </tr>\n",
       "  </tbody>\n",
       "</table>\n",
       "<p>1335 rows × 7 columns</p>\n",
       "</div>"
      ],
      "text/plain": [
       "                       id  label  text_prediction_score  text_prediction  \\\n",
       "0     7070502982655216923      1               0.837612                1   \n",
       "1     7005431713895566618      0               0.143845                0   \n",
       "2     7048453986843675906      1               0.678705                1   \n",
       "3     6863250722155138309      0               0.185896                0   \n",
       "4     7042150256489925890      0               0.124335                0   \n",
       "...                   ...    ...                    ...              ...   \n",
       "1330  7055620670448815387      1               0.780432                1   \n",
       "1331  7050668314317589761      0               0.053739                0   \n",
       "1332  7107300625355967771      1               0.864828                1   \n",
       "1333  6950137272515808514      0               0.060117                0   \n",
       "1334  7077452914200939802      0               0.055777                0   \n",
       "\n",
       "      image_prediction_score  image_prediction  face_prediction  \n",
       "0                   0.326651                 0                0  \n",
       "1                   0.000477                 0                0  \n",
       "2                   0.180475                 0                0  \n",
       "3                   0.472381                 0                0  \n",
       "4                   0.030126                 0                0  \n",
       "...                      ...               ...              ...  \n",
       "1330                0.768180                 1                0  \n",
       "1331                0.661314                 1                0  \n",
       "1332                0.978852                 1                1  \n",
       "1333                0.004670                 0                0  \n",
       "1334                0.131804                 0                0  \n",
       "\n",
       "[1335 rows x 7 columns]"
      ]
     },
     "execution_count": 14,
     "metadata": {},
     "output_type": "execute_result"
    }
   ],
   "source": [
    "combine_df_test"
   ]
  },
  {
   "cell_type": "code",
   "execution_count": 15,
   "id": "5125205e",
   "metadata": {},
   "outputs": [
    {
     "data": {
      "text/plain": [
       "2.331835205992509"
      ]
     },
     "execution_count": 15,
     "metadata": {},
     "output_type": "execute_result"
    }
   ],
   "source": [
    "3113/1335"
   ]
  },
  {
   "cell_type": "code",
   "execution_count": 16,
   "id": "de5238de",
   "metadata": {},
   "outputs": [
    {
     "data": {
      "text/plain": [
       "2.3333333333333335"
      ]
     },
     "execution_count": 16,
     "metadata": {},
     "output_type": "execute_result"
    }
   ],
   "source": [
    "35/15"
   ]
  },
  {
   "cell_type": "markdown",
   "id": "448f2193",
   "metadata": {},
   "source": [
    "# Evaluation"
   ]
  },
  {
   "cell_type": "code",
   "execution_count": 17,
   "id": "8774d2d7",
   "metadata": {},
   "outputs": [],
   "source": [
    "from sklearn.metrics import accuracy_score, f1_score, roc_auc_score"
   ]
  },
  {
   "cell_type": "code",
   "execution_count": 18,
   "id": "6a312d14",
   "metadata": {},
   "outputs": [],
   "source": [
    "# df_test = combine_df_train\n",
    "df_test = combine_df_test"
   ]
  },
  {
   "cell_type": "markdown",
   "id": "a3a40a6b",
   "metadata": {},
   "source": [
    "### Text"
   ]
  },
  {
   "cell_type": "code",
   "execution_count": 19,
   "id": "72091594",
   "metadata": {},
   "outputs": [
    {
     "data": {
      "text/plain": [
       "0.9715355805243445"
      ]
     },
     "execution_count": 19,
     "metadata": {},
     "output_type": "execute_result"
    }
   ],
   "source": [
    "accuracy_score(df_test['label'], df_test['text_prediction'])"
   ]
  },
  {
   "cell_type": "code",
   "execution_count": 20,
   "id": "d5f1a252",
   "metadata": {},
   "outputs": [
    {
     "data": {
      "text/plain": [
       "0.9641509433962264"
      ]
     },
     "execution_count": 20,
     "metadata": {},
     "output_type": "execute_result"
    }
   ],
   "source": [
    "f1_score(df_test['label'], df_test['text_prediction'])"
   ]
  },
  {
   "cell_type": "code",
   "execution_count": 21,
   "id": "887fee09",
   "metadata": {},
   "outputs": [
    {
     "data": {
      "text/plain": [
       "0.9980778867658386"
      ]
     },
     "execution_count": 21,
     "metadata": {},
     "output_type": "execute_result"
    }
   ],
   "source": [
    "roc_auc_score(df_test['label'], df_test['text_prediction_score'])"
   ]
  },
  {
   "cell_type": "markdown",
   "id": "bd6a0702",
   "metadata": {},
   "source": [
    "### Face"
   ]
  },
  {
   "cell_type": "code",
   "execution_count": 22,
   "id": "98ba5697",
   "metadata": {},
   "outputs": [
    {
     "data": {
      "text/plain": [
       "0.6898876404494382"
      ]
     },
     "execution_count": 22,
     "metadata": {},
     "output_type": "execute_result"
    }
   ],
   "source": [
    "accuracy_score(df_test['label'], df_test['face_prediction'])"
   ]
  },
  {
   "cell_type": "code",
   "execution_count": 23,
   "id": "64025490",
   "metadata": {},
   "outputs": [
    {
     "data": {
      "text/plain": [
       "0.39473684210526316"
      ]
     },
     "execution_count": 23,
     "metadata": {},
     "output_type": "execute_result"
    }
   ],
   "source": [
    "f1_score(df_test['label'], df_test['face_prediction'])"
   ]
  },
  {
   "cell_type": "markdown",
   "id": "879b7ba7",
   "metadata": {},
   "source": [
    "### Image"
   ]
  },
  {
   "cell_type": "code",
   "execution_count": 24,
   "id": "6e5b4d8a",
   "metadata": {},
   "outputs": [
    {
     "data": {
      "text/plain": [
       "0.8898876404494382"
      ]
     },
     "execution_count": 24,
     "metadata": {},
     "output_type": "execute_result"
    }
   ],
   "source": [
    "accuracy_score(df_test['label'], df_test['image_prediction'])"
   ]
  },
  {
   "cell_type": "code",
   "execution_count": 25,
   "id": "0b2b23b5",
   "metadata": {},
   "outputs": [
    {
     "data": {
      "text/plain": [
       "0.8590604026845637"
      ]
     },
     "execution_count": 25,
     "metadata": {},
     "output_type": "execute_result"
    }
   ],
   "source": [
    "f1_score(df_test['label'], df_test['image_prediction'])"
   ]
  },
  {
   "cell_type": "code",
   "execution_count": 26,
   "id": "b6d7eb15",
   "metadata": {},
   "outputs": [
    {
     "data": {
      "text/plain": [
       "0.9512244916897893"
      ]
     },
     "execution_count": 26,
     "metadata": {},
     "output_type": "execute_result"
    }
   ],
   "source": [
    "roc_auc_score(df_test['label'], df_test['image_prediction_score'])"
   ]
  },
  {
   "cell_type": "markdown",
   "id": "d581dcd3",
   "metadata": {},
   "source": [
    "# Fusion model"
   ]
  },
  {
   "cell_type": "markdown",
   "id": "3818f142",
   "metadata": {},
   "source": [
    "#### Logistic Regression"
   ]
  },
  {
   "cell_type": "code",
   "execution_count": 27,
   "id": "8f62a61a",
   "metadata": {},
   "outputs": [],
   "source": [
    "from sklearn.linear_model import LogisticRegression"
   ]
  },
  {
   "cell_type": "code",
   "execution_count": 28,
   "id": "32d54114",
   "metadata": {},
   "outputs": [
    {
     "data": {
      "text/html": [
       "<style>#sk-container-id-1 {color: black;background-color: white;}#sk-container-id-1 pre{padding: 0;}#sk-container-id-1 div.sk-toggleable {background-color: white;}#sk-container-id-1 label.sk-toggleable__label {cursor: pointer;display: block;width: 100%;margin-bottom: 0;padding: 0.3em;box-sizing: border-box;text-align: center;}#sk-container-id-1 label.sk-toggleable__label-arrow:before {content: \"▸\";float: left;margin-right: 0.25em;color: #696969;}#sk-container-id-1 label.sk-toggleable__label-arrow:hover:before {color: black;}#sk-container-id-1 div.sk-estimator:hover label.sk-toggleable__label-arrow:before {color: black;}#sk-container-id-1 div.sk-toggleable__content {max-height: 0;max-width: 0;overflow: hidden;text-align: left;background-color: #f0f8ff;}#sk-container-id-1 div.sk-toggleable__content pre {margin: 0.2em;color: black;border-radius: 0.25em;background-color: #f0f8ff;}#sk-container-id-1 input.sk-toggleable__control:checked~div.sk-toggleable__content {max-height: 200px;max-width: 100%;overflow: auto;}#sk-container-id-1 input.sk-toggleable__control:checked~label.sk-toggleable__label-arrow:before {content: \"▾\";}#sk-container-id-1 div.sk-estimator input.sk-toggleable__control:checked~label.sk-toggleable__label {background-color: #d4ebff;}#sk-container-id-1 div.sk-label input.sk-toggleable__control:checked~label.sk-toggleable__label {background-color: #d4ebff;}#sk-container-id-1 input.sk-hidden--visually {border: 0;clip: rect(1px 1px 1px 1px);clip: rect(1px, 1px, 1px, 1px);height: 1px;margin: -1px;overflow: hidden;padding: 0;position: absolute;width: 1px;}#sk-container-id-1 div.sk-estimator {font-family: monospace;background-color: #f0f8ff;border: 1px dotted black;border-radius: 0.25em;box-sizing: border-box;margin-bottom: 0.5em;}#sk-container-id-1 div.sk-estimator:hover {background-color: #d4ebff;}#sk-container-id-1 div.sk-parallel-item::after {content: \"\";width: 100%;border-bottom: 1px solid gray;flex-grow: 1;}#sk-container-id-1 div.sk-label:hover label.sk-toggleable__label {background-color: #d4ebff;}#sk-container-id-1 div.sk-serial::before {content: \"\";position: absolute;border-left: 1px solid gray;box-sizing: border-box;top: 0;bottom: 0;left: 50%;z-index: 0;}#sk-container-id-1 div.sk-serial {display: flex;flex-direction: column;align-items: center;background-color: white;padding-right: 0.2em;padding-left: 0.2em;position: relative;}#sk-container-id-1 div.sk-item {position: relative;z-index: 1;}#sk-container-id-1 div.sk-parallel {display: flex;align-items: stretch;justify-content: center;background-color: white;position: relative;}#sk-container-id-1 div.sk-item::before, #sk-container-id-1 div.sk-parallel-item::before {content: \"\";position: absolute;border-left: 1px solid gray;box-sizing: border-box;top: 0;bottom: 0;left: 50%;z-index: -1;}#sk-container-id-1 div.sk-parallel-item {display: flex;flex-direction: column;z-index: 1;position: relative;background-color: white;}#sk-container-id-1 div.sk-parallel-item:first-child::after {align-self: flex-end;width: 50%;}#sk-container-id-1 div.sk-parallel-item:last-child::after {align-self: flex-start;width: 50%;}#sk-container-id-1 div.sk-parallel-item:only-child::after {width: 0;}#sk-container-id-1 div.sk-dashed-wrapped {border: 1px dashed gray;margin: 0 0.4em 0.5em 0.4em;box-sizing: border-box;padding-bottom: 0.4em;background-color: white;}#sk-container-id-1 div.sk-label label {font-family: monospace;font-weight: bold;display: inline-block;line-height: 1.2em;}#sk-container-id-1 div.sk-label-container {text-align: center;}#sk-container-id-1 div.sk-container {/* jupyter's `normalize.less` sets `[hidden] { display: none; }` but bootstrap.min.css set `[hidden] { display: none !important; }` so we also need the `!important` here to be able to override the default hidden behavior on the sphinx rendered scikit-learn.org. See: https://github.com/scikit-learn/scikit-learn/issues/21755 */display: inline-block !important;position: relative;}#sk-container-id-1 div.sk-text-repr-fallback {display: none;}</style><div id=\"sk-container-id-1\" class=\"sk-top-container\"><div class=\"sk-text-repr-fallback\"><pre>LogisticRegression(random_state=2022)</pre><b>In a Jupyter environment, please rerun this cell to show the HTML representation or trust the notebook. <br />On GitHub, the HTML representation is unable to render, please try loading this page with nbviewer.org.</b></div><div class=\"sk-container\" hidden><div class=\"sk-item\"><div class=\"sk-estimator sk-toggleable\"><input class=\"sk-toggleable__control sk-hidden--visually\" id=\"sk-estimator-id-1\" type=\"checkbox\" checked><label for=\"sk-estimator-id-1\" class=\"sk-toggleable__label sk-toggleable__label-arrow\">LogisticRegression</label><div class=\"sk-toggleable__content\"><pre>LogisticRegression(random_state=2022)</pre></div></div></div></div></div>"
      ],
      "text/plain": [
       "LogisticRegression(random_state=2022)"
      ]
     },
     "execution_count": 28,
     "metadata": {},
     "output_type": "execute_result"
    }
   ],
   "source": [
    "clf = LogisticRegression(random_state=2022)\n",
    "clf.fit(combine_df_train[['text_prediction_score','image_prediction_score', 'face_prediction']], combine_df_train['label'])"
   ]
  },
  {
   "cell_type": "code",
   "execution_count": 29,
   "id": "73de1610",
   "metadata": {},
   "outputs": [],
   "source": [
    "y_test_pred = clf.predict(df_test[['text_prediction_score','image_prediction_score', 'face_prediction']])"
   ]
  },
  {
   "cell_type": "code",
   "execution_count": 35,
   "id": "84b22e5f",
   "metadata": {},
   "outputs": [],
   "source": [
    "write_pickle(clf, 'model/fusion_clf_lgbm_lr')"
   ]
  },
  {
   "cell_type": "markdown",
   "id": "32323df6",
   "metadata": {},
   "source": [
    "### LightGBM"
   ]
  },
  {
   "cell_type": "code",
   "execution_count": 74,
   "id": "ef2a5494",
   "metadata": {},
   "outputs": [],
   "source": [
    "import lightgbm as lgb"
   ]
  },
  {
   "cell_type": "code",
   "execution_count": 75,
   "id": "c5af009d",
   "metadata": {},
   "outputs": [],
   "source": [
    "params = {\n",
    "    'objective': 'binary',\n",
    "    'metric': 'binary_logloss',\n",
    "    'verbose': -1,\n",
    "    'boosting': 'gbdt',\n",
    "    'learning_rate': 0.1,\n",
    "    'num_leaves': 8,\n",
    "    'min_data_in_leaf': 20,\n",
    "    'bagging_fraction': 0.8,\n",
    "    'feature_fraction': 0.8,\n",
    "    'lambda_l1': 0.0001,\n",
    "    'lambda_l2': 0.0001,\n",
    "    'max_bin': 20,\n",
    "    'num_boost_round': 100,\n",
    "    'n_jobs': 8\n",
    "}"
   ]
  },
  {
   "cell_type": "code",
   "execution_count": 76,
   "id": "9c4ab099",
   "metadata": {},
   "outputs": [
    {
     "name": "stdout",
     "output_type": "stream",
     "text": [
      "[LightGBM] [Warning] boosting is set=gbdt, boosting_type=gbdt will be ignored. Current value: boosting=gbdt\n",
      "[LightGBM] [Warning] feature_fraction is set=0.8, colsample_bytree=1.0 will be ignored. Current value: feature_fraction=0.8\n",
      "[LightGBM] [Warning] min_data_in_leaf is set=20, min_child_samples=20 will be ignored. Current value: min_data_in_leaf=20\n",
      "[LightGBM] [Warning] lambda_l1 is set=0.0001, reg_alpha=0.0 will be ignored. Current value: lambda_l1=0.0001\n",
      "[LightGBM] [Warning] bagging_fraction is set=0.8, subsample=1.0 will be ignored. Current value: bagging_fraction=0.8\n",
      "[LightGBM] [Warning] lambda_l2 is set=0.0001, reg_lambda=0.0 will be ignored. Current value: lambda_l2=0.0001\n",
      "[LightGBM] [Warning] num_iterations is set=100, num_boost_round=100 will be ignored. Current value: num_iterations=100\n"
     ]
    },
    {
     "name": "stderr",
     "output_type": "stream",
     "text": [
      "D:\\Program Files\\anaconda3\\envs\\python_env\\lib\\site-packages\\lightgbm\\engine.py:177: UserWarning: Found `num_boost_round` in params. Will use it instead of argument\n",
      "  _log_warning(f\"Found `{alias}` in params. Will use it instead of argument\")\n"
     ]
    },
    {
     "data": {
      "text/html": [
       "<style>#sk-container-id-2 {color: black;background-color: white;}#sk-container-id-2 pre{padding: 0;}#sk-container-id-2 div.sk-toggleable {background-color: white;}#sk-container-id-2 label.sk-toggleable__label {cursor: pointer;display: block;width: 100%;margin-bottom: 0;padding: 0.3em;box-sizing: border-box;text-align: center;}#sk-container-id-2 label.sk-toggleable__label-arrow:before {content: \"▸\";float: left;margin-right: 0.25em;color: #696969;}#sk-container-id-2 label.sk-toggleable__label-arrow:hover:before {color: black;}#sk-container-id-2 div.sk-estimator:hover label.sk-toggleable__label-arrow:before {color: black;}#sk-container-id-2 div.sk-toggleable__content {max-height: 0;max-width: 0;overflow: hidden;text-align: left;background-color: #f0f8ff;}#sk-container-id-2 div.sk-toggleable__content pre {margin: 0.2em;color: black;border-radius: 0.25em;background-color: #f0f8ff;}#sk-container-id-2 input.sk-toggleable__control:checked~div.sk-toggleable__content {max-height: 200px;max-width: 100%;overflow: auto;}#sk-container-id-2 input.sk-toggleable__control:checked~label.sk-toggleable__label-arrow:before {content: \"▾\";}#sk-container-id-2 div.sk-estimator input.sk-toggleable__control:checked~label.sk-toggleable__label {background-color: #d4ebff;}#sk-container-id-2 div.sk-label input.sk-toggleable__control:checked~label.sk-toggleable__label {background-color: #d4ebff;}#sk-container-id-2 input.sk-hidden--visually {border: 0;clip: rect(1px 1px 1px 1px);clip: rect(1px, 1px, 1px, 1px);height: 1px;margin: -1px;overflow: hidden;padding: 0;position: absolute;width: 1px;}#sk-container-id-2 div.sk-estimator {font-family: monospace;background-color: #f0f8ff;border: 1px dotted black;border-radius: 0.25em;box-sizing: border-box;margin-bottom: 0.5em;}#sk-container-id-2 div.sk-estimator:hover {background-color: #d4ebff;}#sk-container-id-2 div.sk-parallel-item::after {content: \"\";width: 100%;border-bottom: 1px solid gray;flex-grow: 1;}#sk-container-id-2 div.sk-label:hover label.sk-toggleable__label {background-color: #d4ebff;}#sk-container-id-2 div.sk-serial::before {content: \"\";position: absolute;border-left: 1px solid gray;box-sizing: border-box;top: 0;bottom: 0;left: 50%;z-index: 0;}#sk-container-id-2 div.sk-serial {display: flex;flex-direction: column;align-items: center;background-color: white;padding-right: 0.2em;padding-left: 0.2em;position: relative;}#sk-container-id-2 div.sk-item {position: relative;z-index: 1;}#sk-container-id-2 div.sk-parallel {display: flex;align-items: stretch;justify-content: center;background-color: white;position: relative;}#sk-container-id-2 div.sk-item::before, #sk-container-id-2 div.sk-parallel-item::before {content: \"\";position: absolute;border-left: 1px solid gray;box-sizing: border-box;top: 0;bottom: 0;left: 50%;z-index: -1;}#sk-container-id-2 div.sk-parallel-item {display: flex;flex-direction: column;z-index: 1;position: relative;background-color: white;}#sk-container-id-2 div.sk-parallel-item:first-child::after {align-self: flex-end;width: 50%;}#sk-container-id-2 div.sk-parallel-item:last-child::after {align-self: flex-start;width: 50%;}#sk-container-id-2 div.sk-parallel-item:only-child::after {width: 0;}#sk-container-id-2 div.sk-dashed-wrapped {border: 1px dashed gray;margin: 0 0.4em 0.5em 0.4em;box-sizing: border-box;padding-bottom: 0.4em;background-color: white;}#sk-container-id-2 div.sk-label label {font-family: monospace;font-weight: bold;display: inline-block;line-height: 1.2em;}#sk-container-id-2 div.sk-label-container {text-align: center;}#sk-container-id-2 div.sk-container {/* jupyter's `normalize.less` sets `[hidden] { display: none; }` but bootstrap.min.css set `[hidden] { display: none !important; }` so we also need the `!important` here to be able to override the default hidden behavior on the sphinx rendered scikit-learn.org. See: https://github.com/scikit-learn/scikit-learn/issues/21755 */display: inline-block !important;position: relative;}#sk-container-id-2 div.sk-text-repr-fallback {display: none;}</style><div id=\"sk-container-id-2\" class=\"sk-top-container\"><div class=\"sk-text-repr-fallback\"><pre>LGBMClassifier(bagging_fraction=0.8, boosting=&#x27;gbdt&#x27;, feature_fraction=0.8,\n",
       "               lambda_l1=0.0001, lambda_l2=0.0001, max_bin=20,\n",
       "               metric=&#x27;binary_logloss&#x27;, min_data_in_leaf=20, n_jobs=8,\n",
       "               num_boost_round=100, num_leaves=8, objective=&#x27;binary&#x27;,\n",
       "               verbose=-1)</pre><b>In a Jupyter environment, please rerun this cell to show the HTML representation or trust the notebook. <br />On GitHub, the HTML representation is unable to render, please try loading this page with nbviewer.org.</b></div><div class=\"sk-container\" hidden><div class=\"sk-item\"><div class=\"sk-estimator sk-toggleable\"><input class=\"sk-toggleable__control sk-hidden--visually\" id=\"sk-estimator-id-2\" type=\"checkbox\" checked><label for=\"sk-estimator-id-2\" class=\"sk-toggleable__label sk-toggleable__label-arrow\">LGBMClassifier</label><div class=\"sk-toggleable__content\"><pre>LGBMClassifier(bagging_fraction=0.8, boosting=&#x27;gbdt&#x27;, feature_fraction=0.8,\n",
       "               lambda_l1=0.0001, lambda_l2=0.0001, max_bin=20,\n",
       "               metric=&#x27;binary_logloss&#x27;, min_data_in_leaf=20, n_jobs=8,\n",
       "               num_boost_round=100, num_leaves=8, objective=&#x27;binary&#x27;,\n",
       "               verbose=-1)</pre></div></div></div></div></div>"
      ],
      "text/plain": [
       "LGBMClassifier(bagging_fraction=0.8, boosting='gbdt', feature_fraction=0.8,\n",
       "               lambda_l1=0.0001, lambda_l2=0.0001, max_bin=20,\n",
       "               metric='binary_logloss', min_data_in_leaf=20, n_jobs=8,\n",
       "               num_boost_round=100, num_leaves=8, objective='binary',\n",
       "               verbose=-1)"
      ]
     },
     "execution_count": 76,
     "metadata": {},
     "output_type": "execute_result"
    }
   ],
   "source": [
    "model = lgb.LGBMClassifier(**params)\n",
    "model.fit(combine_df_train[['text_prediction_score','image_prediction_score', 'face_prediction']], combine_df_train['label'])"
   ]
  },
  {
   "cell_type": "code",
   "execution_count": 77,
   "id": "42e6ce0f",
   "metadata": {},
   "outputs": [],
   "source": [
    "y_test_pred = model.predict(df_test[['text_prediction_score','image_prediction_score', 'face_prediction']])"
   ]
  },
  {
   "cell_type": "markdown",
   "id": "106915df",
   "metadata": {},
   "source": [
    "#### Eval"
   ]
  },
  {
   "cell_type": "code",
   "execution_count": 30,
   "id": "0e934659",
   "metadata": {},
   "outputs": [
    {
     "data": {
      "text/plain": [
       "0.9778188539741219"
      ]
     },
     "execution_count": 30,
     "metadata": {},
     "output_type": "execute_result"
    }
   ],
   "source": [
    "f1_score(df_test['label'], y_test_pred)"
   ]
  },
  {
   "cell_type": "code",
   "execution_count": 31,
   "id": "3defc6ff",
   "metadata": {},
   "outputs": [
    {
     "data": {
      "text/plain": [
       "0.9820224719101124"
      ]
     },
     "execution_count": 31,
     "metadata": {},
     "output_type": "execute_result"
    }
   ],
   "source": [
    "accuracy_score(df_test['label'], y_test_pred)"
   ]
  },
  {
   "cell_type": "code",
   "execution_count": 32,
   "id": "6bd9d691",
   "metadata": {},
   "outputs": [
    {
     "ename": "NameError",
     "evalue": "name 'model' is not defined",
     "output_type": "error",
     "traceback": [
      "\u001b[1;31m---------------------------------------------------------------------------\u001b[0m",
      "\u001b[1;31mNameError\u001b[0m                                 Traceback (most recent call last)",
      "Input \u001b[1;32mIn [32]\u001b[0m, in \u001b[0;36m<cell line: 1>\u001b[1;34m()\u001b[0m\n\u001b[1;32m----> 1\u001b[0m \u001b[43mmodel\u001b[49m\u001b[38;5;241m.\u001b[39mpredict_proba(np\u001b[38;5;241m.\u001b[39marray([\u001b[38;5;241m0\u001b[39m,\u001b[38;5;241m0.5\u001b[39m,\u001b[38;5;241m1\u001b[39m])\u001b[38;5;241m.\u001b[39mreshape(\u001b[38;5;241m1\u001b[39m, \u001b[38;5;241m-\u001b[39m\u001b[38;5;241m1\u001b[39m))[:,\u001b[38;5;241m1\u001b[39m][\u001b[38;5;241m0\u001b[39m]\n",
      "\u001b[1;31mNameError\u001b[0m: name 'model' is not defined"
     ]
    }
   ],
   "source": [
    "model.predict_proba(np.array([0,0.5,1]).reshape(1, -1))[:,1][0]"
   ]
  },
  {
   "cell_type": "markdown",
   "id": "bcf1837b",
   "metadata": {},
   "source": [
    "# LightGBM feature important"
   ]
  },
  {
   "cell_type": "code",
   "execution_count": 104,
   "id": "d53a5d4a",
   "metadata": {},
   "outputs": [
    {
     "data": {
      "text/html": [
       "<style>#sk-container-id-4 {color: black;background-color: white;}#sk-container-id-4 pre{padding: 0;}#sk-container-id-4 div.sk-toggleable {background-color: white;}#sk-container-id-4 label.sk-toggleable__label {cursor: pointer;display: block;width: 100%;margin-bottom: 0;padding: 0.3em;box-sizing: border-box;text-align: center;}#sk-container-id-4 label.sk-toggleable__label-arrow:before {content: \"▸\";float: left;margin-right: 0.25em;color: #696969;}#sk-container-id-4 label.sk-toggleable__label-arrow:hover:before {color: black;}#sk-container-id-4 div.sk-estimator:hover label.sk-toggleable__label-arrow:before {color: black;}#sk-container-id-4 div.sk-toggleable__content {max-height: 0;max-width: 0;overflow: hidden;text-align: left;background-color: #f0f8ff;}#sk-container-id-4 div.sk-toggleable__content pre {margin: 0.2em;color: black;border-radius: 0.25em;background-color: #f0f8ff;}#sk-container-id-4 input.sk-toggleable__control:checked~div.sk-toggleable__content {max-height: 200px;max-width: 100%;overflow: auto;}#sk-container-id-4 input.sk-toggleable__control:checked~label.sk-toggleable__label-arrow:before {content: \"▾\";}#sk-container-id-4 div.sk-estimator input.sk-toggleable__control:checked~label.sk-toggleable__label {background-color: #d4ebff;}#sk-container-id-4 div.sk-label input.sk-toggleable__control:checked~label.sk-toggleable__label {background-color: #d4ebff;}#sk-container-id-4 input.sk-hidden--visually {border: 0;clip: rect(1px 1px 1px 1px);clip: rect(1px, 1px, 1px, 1px);height: 1px;margin: -1px;overflow: hidden;padding: 0;position: absolute;width: 1px;}#sk-container-id-4 div.sk-estimator {font-family: monospace;background-color: #f0f8ff;border: 1px dotted black;border-radius: 0.25em;box-sizing: border-box;margin-bottom: 0.5em;}#sk-container-id-4 div.sk-estimator:hover {background-color: #d4ebff;}#sk-container-id-4 div.sk-parallel-item::after {content: \"\";width: 100%;border-bottom: 1px solid gray;flex-grow: 1;}#sk-container-id-4 div.sk-label:hover label.sk-toggleable__label {background-color: #d4ebff;}#sk-container-id-4 div.sk-serial::before {content: \"\";position: absolute;border-left: 1px solid gray;box-sizing: border-box;top: 0;bottom: 0;left: 50%;z-index: 0;}#sk-container-id-4 div.sk-serial {display: flex;flex-direction: column;align-items: center;background-color: white;padding-right: 0.2em;padding-left: 0.2em;position: relative;}#sk-container-id-4 div.sk-item {position: relative;z-index: 1;}#sk-container-id-4 div.sk-parallel {display: flex;align-items: stretch;justify-content: center;background-color: white;position: relative;}#sk-container-id-4 div.sk-item::before, #sk-container-id-4 div.sk-parallel-item::before {content: \"\";position: absolute;border-left: 1px solid gray;box-sizing: border-box;top: 0;bottom: 0;left: 50%;z-index: -1;}#sk-container-id-4 div.sk-parallel-item {display: flex;flex-direction: column;z-index: 1;position: relative;background-color: white;}#sk-container-id-4 div.sk-parallel-item:first-child::after {align-self: flex-end;width: 50%;}#sk-container-id-4 div.sk-parallel-item:last-child::after {align-self: flex-start;width: 50%;}#sk-container-id-4 div.sk-parallel-item:only-child::after {width: 0;}#sk-container-id-4 div.sk-dashed-wrapped {border: 1px dashed gray;margin: 0 0.4em 0.5em 0.4em;box-sizing: border-box;padding-bottom: 0.4em;background-color: white;}#sk-container-id-4 div.sk-label label {font-family: monospace;font-weight: bold;display: inline-block;line-height: 1.2em;}#sk-container-id-4 div.sk-label-container {text-align: center;}#sk-container-id-4 div.sk-container {/* jupyter's `normalize.less` sets `[hidden] { display: none; }` but bootstrap.min.css set `[hidden] { display: none !important; }` so we also need the `!important` here to be able to override the default hidden behavior on the sphinx rendered scikit-learn.org. See: https://github.com/scikit-learn/scikit-learn/issues/21755 */display: inline-block !important;position: relative;}#sk-container-id-4 div.sk-text-repr-fallback {display: none;}</style><div id=\"sk-container-id-4\" class=\"sk-top-container\"><div class=\"sk-text-repr-fallback\"><pre>LGBMClassifier(bagging_fraction=0.8, boosting=&#x27;gbdt&#x27;, feature_fraction=0.8,\n",
       "               lambda_l1=0.0001, lambda_l2=0.0001, max_bin=20,\n",
       "               metric=&#x27;binary_logloss&#x27;, min_data_in_leaf=20, n_jobs=8,\n",
       "               num_boost_round=100, num_leaves=8, objective=&#x27;binary&#x27;,\n",
       "               verbose=-1)</pre><b>In a Jupyter environment, please rerun this cell to show the HTML representation or trust the notebook. <br />On GitHub, the HTML representation is unable to render, please try loading this page with nbviewer.org.</b></div><div class=\"sk-container\" hidden><div class=\"sk-item\"><div class=\"sk-estimator sk-toggleable\"><input class=\"sk-toggleable__control sk-hidden--visually\" id=\"sk-estimator-id-4\" type=\"checkbox\" checked><label for=\"sk-estimator-id-4\" class=\"sk-toggleable__label sk-toggleable__label-arrow\">LGBMClassifier</label><div class=\"sk-toggleable__content\"><pre>LGBMClassifier(bagging_fraction=0.8, boosting=&#x27;gbdt&#x27;, feature_fraction=0.8,\n",
       "               lambda_l1=0.0001, lambda_l2=0.0001, max_bin=20,\n",
       "               metric=&#x27;binary_logloss&#x27;, min_data_in_leaf=20, n_jobs=8,\n",
       "               num_boost_round=100, num_leaves=8, objective=&#x27;binary&#x27;,\n",
       "               verbose=-1)</pre></div></div></div></div></div>"
      ],
      "text/plain": [
       "LGBMClassifier(bagging_fraction=0.8, boosting='gbdt', feature_fraction=0.8,\n",
       "               lambda_l1=0.0001, lambda_l2=0.0001, max_bin=20,\n",
       "               metric='binary_logloss', min_data_in_leaf=20, n_jobs=8,\n",
       "               num_boost_round=100, num_leaves=8, objective='binary',\n",
       "               verbose=-1)"
      ]
     },
     "execution_count": 104,
     "metadata": {},
     "output_type": "execute_result"
    }
   ],
   "source": [
    "model"
   ]
  },
  {
   "cell_type": "code",
   "execution_count": null,
   "id": "0d12c1d4",
   "metadata": {},
   "outputs": [],
   "source": []
  },
  {
   "cell_type": "code",
   "execution_count": 99,
   "id": "5310d781",
   "metadata": {},
   "outputs": [],
   "source": [
    "feature_name = model.feature_name_\n",
    "feature_gain = model.feature_importances_"
   ]
  },
  {
   "cell_type": "code",
   "execution_count": 101,
   "id": "5ae9dac0",
   "metadata": {},
   "outputs": [
    {
     "data": {
      "text/plain": [
       "['text_prediction_score', 'image_prediction_score', 'face_prediction']"
      ]
     },
     "execution_count": 101,
     "metadata": {},
     "output_type": "execute_result"
    }
   ],
   "source": [
    "feature_name"
   ]
  },
  {
   "cell_type": "code",
   "execution_count": 102,
   "id": "4c3e696e",
   "metadata": {},
   "outputs": [
    {
     "data": {
      "text/plain": [
       "array([ 79, 526,  95])"
      ]
     },
     "execution_count": 102,
     "metadata": {},
     "output_type": "execute_result"
    }
   ],
   "source": [
    "feature_gain"
   ]
  },
  {
   "cell_type": "code",
   "execution_count": 34,
   "id": "cfffab94",
   "metadata": {},
   "outputs": [],
   "source": [
    "def write_pickle(object, file_name):\n",
    "    with open(file_name, \"wb\") as handle:\n",
    "        pickle.dump(object, handle, protocol=pickle.HIGHEST_PROTOCOL)"
   ]
  },
  {
   "cell_type": "code",
   "execution_count": 106,
   "id": "92a10547",
   "metadata": {},
   "outputs": [],
   "source": [
    "write_pickle(model, 'model/fusion_clf_lgbm')"
   ]
  }
 ],
 "metadata": {
  "kernelspec": {
   "display_name": "Python 3 (ipykernel)",
   "language": "python",
   "name": "python3"
  },
  "language_info": {
   "codemirror_mode": {
    "name": "ipython",
    "version": 3
   },
   "file_extension": ".py",
   "mimetype": "text/x-python",
   "name": "python",
   "nbconvert_exporter": "python",
   "pygments_lexer": "ipython3",
   "version": "3.8.13"
  }
 },
 "nbformat": 4,
 "nbformat_minor": 5
}
