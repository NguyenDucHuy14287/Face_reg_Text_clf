{
 "cells": [
  {
   "cell_type": "code",
   "execution_count": 33,
   "id": "617b51b5",
   "metadata": {},
   "outputs": [],
   "source": [
    "import os\n",
    "import pandas as pd\n",
    "import shutil\n",
    "from sklearn.model_selection import train_test_split"
   ]
  },
  {
   "cell_type": "markdown",
   "id": "0dde9850",
   "metadata": {},
   "source": [
    "# Load and validate data"
   ]
  },
  {
   "cell_type": "markdown",
   "id": "18bfeced",
   "metadata": {},
   "source": [
    "# Split"
   ]
  },
  {
   "cell_type": "code",
   "execution_count": 44,
   "id": "90913b38",
   "metadata": {},
   "outputs": [],
   "source": [
    "df_images = pd.read_csv('images_tiktok.csv', header=None, dtype={0: str}).rename(columns={0: \"id\", 1: 'image_path'})\n",
    "text_tiktok =  pd.read_csv('text_tiktok.csv', header=None, dtype={1: str}).rename(columns={0: \"label\", 1: 'id', 2: 'text'})\n",
    "text_tiktok_none_hashtag = pd.read_csv('text_tiktok.csv', header=None, dtype={1: str}, usecols=[1, 2]).rename(columns={1: 'id', 2: 'text_non_hastag'})"
   ]
  },
  {
   "cell_type": "code",
   "execution_count": 45,
   "id": "7764f10d",
   "metadata": {},
   "outputs": [],
   "source": [
    "raw_dataset = pd.merge(left=text_tiktok, \n",
    "                        right=text_tiktok_none_hashtag, \n",
    "                        how='inner', \n",
    "                        on='id')\n",
    "train_set_1, remain = train_test_split(raw_dataset, test_size=0.5, random_state=2022, stratify=raw_dataset['label'])\n",
    "train_set_2, test_set = train_test_split(remain, test_size=0.3, random_state=2022, stratify=remain['label'])"
   ]
  },
  {
   "cell_type": "code",
   "execution_count": 46,
   "id": "4296d679",
   "metadata": {},
   "outputs": [],
   "source": [
    "train_set_1.to_csv('train_set_1.csv', index=False)\n",
    "train_set_2.to_csv('train_set_2.csv', index=False)\n",
    "test_set.to_csv('test_set.csv', index=False)"
   ]
  },
  {
   "cell_type": "markdown",
   "id": "ecad4db9",
   "metadata": {},
   "source": [
    "# Join with image"
   ]
  },
  {
   "cell_type": "code",
   "execution_count": 52,
   "id": "5aaefdd1",
   "metadata": {},
   "outputs": [],
   "source": [
    "train_set_1_image = pd.merge(left=df_images, \n",
    "                            right=train_set_1[['label', 'id']], \n",
    "                            how='inner', \n",
    "                            on='id')\n",
    "train_set_2_image = pd.merge(left=df_images, \n",
    "                            right=train_set_2[['label', 'id']], \n",
    "                            how='inner', \n",
    "                            on='id')\n",
    "test_set_image = pd.merge(left=df_images, \n",
    "                            right=test_set[['label', 'id']], \n",
    "                            how='inner', \n",
    "                            on='id')"
   ]
  },
  {
   "cell_type": "code",
   "execution_count": 53,
   "id": "3d870d51",
   "metadata": {},
   "outputs": [],
   "source": [
    "train_set_1_image.to_csv('train_set_1_image.csv', index=False)\n",
    "train_set_2_image.to_csv('train_set_2_image.csv', index=False)\n",
    "test_set_image.to_csv('test_set_image.csv', index=False)"
   ]
  },
  {
   "cell_type": "code",
   "execution_count": 54,
   "id": "e41023c1",
   "metadata": {},
   "outputs": [
    {
     "data": {
      "text/plain": [
       "(39913, 3)"
      ]
     },
     "execution_count": 54,
     "metadata": {},
     "output_type": "execute_result"
    }
   ],
   "source": [
    "train_set_1_image.shape"
   ]
  },
  {
   "cell_type": "code",
   "execution_count": 55,
   "id": "ce352ca3",
   "metadata": {},
   "outputs": [
    {
     "data": {
      "text/plain": [
       "(27115, 3)"
      ]
     },
     "execution_count": 55,
     "metadata": {},
     "output_type": "execute_result"
    }
   ],
   "source": [
    "train_set_2_image.shape"
   ]
  },
  {
   "cell_type": "code",
   "execution_count": 56,
   "id": "10b635ce",
   "metadata": {},
   "outputs": [
    {
     "data": {
      "text/plain": [
       "(12643, 3)"
      ]
     },
     "execution_count": 56,
     "metadata": {},
     "output_type": "execute_result"
    }
   ],
   "source": [
    "test_set_image.shape"
   ]
  },
  {
   "cell_type": "code",
   "execution_count": 57,
   "id": "f05add65",
   "metadata": {},
   "outputs": [
    {
     "data": {
      "text/plain": [
       "79671"
      ]
     },
     "execution_count": 57,
     "metadata": {},
     "output_type": "execute_result"
    }
   ],
   "source": [
    "39913+27115+12643"
   ]
  },
  {
   "cell_type": "code",
   "execution_count": 58,
   "id": "3c0ecd26",
   "metadata": {},
   "outputs": [
    {
     "data": {
      "text/plain": [
       "(79671, 2)"
      ]
     },
     "execution_count": 58,
     "metadata": {},
     "output_type": "execute_result"
    }
   ],
   "source": [
    "df_images.shape"
   ]
  },
  {
   "cell_type": "code",
   "execution_count": 59,
   "id": "3554c3db",
   "metadata": {},
   "outputs": [
    {
     "data": {
      "text/html": [
       "<div>\n",
       "<style scoped>\n",
       "    .dataframe tbody tr th:only-of-type {\n",
       "        vertical-align: middle;\n",
       "    }\n",
       "\n",
       "    .dataframe tbody tr th {\n",
       "        vertical-align: top;\n",
       "    }\n",
       "\n",
       "    .dataframe thead th {\n",
       "        text-align: right;\n",
       "    }\n",
       "</style>\n",
       "<table border=\"1\" class=\"dataframe\">\n",
       "  <thead>\n",
       "    <tr style=\"text-align: right;\">\n",
       "      <th></th>\n",
       "      <th>id</th>\n",
       "      <th>image_path</th>\n",
       "      <th>label</th>\n",
       "    </tr>\n",
       "  </thead>\n",
       "  <tbody>\n",
       "    <tr>\n",
       "      <th>0</th>\n",
       "      <td>7068622099056823579</td>\n",
       "      <td>images/7068622099056823579_500.jpeg</td>\n",
       "      <td>1</td>\n",
       "    </tr>\n",
       "    <tr>\n",
       "      <th>1</th>\n",
       "      <td>7068622099056823579</td>\n",
       "      <td>images/7068622099056823579_3576.jpeg</td>\n",
       "      <td>1</td>\n",
       "    </tr>\n",
       "    <tr>\n",
       "      <th>2</th>\n",
       "      <td>7068622099056823579</td>\n",
       "      <td>images/7068622099056823579_1750.jpeg</td>\n",
       "      <td>1</td>\n",
       "    </tr>\n",
       "    <tr>\n",
       "      <th>3</th>\n",
       "      <td>7068622099056823579</td>\n",
       "      <td>images/7068622099056823579_2000.jpeg</td>\n",
       "      <td>1</td>\n",
       "    </tr>\n",
       "    <tr>\n",
       "      <th>4</th>\n",
       "      <td>7068622099056823579</td>\n",
       "      <td>images/7068622099056823579_00.jpeg</td>\n",
       "      <td>1</td>\n",
       "    </tr>\n",
       "    <tr>\n",
       "      <th>...</th>\n",
       "      <td>...</td>\n",
       "      <td>...</td>\n",
       "      <td>...</td>\n",
       "    </tr>\n",
       "    <tr>\n",
       "      <th>39908</th>\n",
       "      <td>6920036645060267265</td>\n",
       "      <td>images/6920036645060267265_250.jpeg</td>\n",
       "      <td>0</td>\n",
       "    </tr>\n",
       "    <tr>\n",
       "      <th>39909</th>\n",
       "      <td>6920036645060267265</td>\n",
       "      <td>images/6920036645060267265_1250.jpeg</td>\n",
       "      <td>0</td>\n",
       "    </tr>\n",
       "    <tr>\n",
       "      <th>39910</th>\n",
       "      <td>6920036645060267265</td>\n",
       "      <td>images/6920036645060267265_750.jpeg</td>\n",
       "      <td>0</td>\n",
       "    </tr>\n",
       "    <tr>\n",
       "      <th>39911</th>\n",
       "      <td>6995479941269802267</td>\n",
       "      <td>images/6995479941269802267_00.jpeg</td>\n",
       "      <td>0</td>\n",
       "    </tr>\n",
       "    <tr>\n",
       "      <th>39912</th>\n",
       "      <td>6995479941269802267</td>\n",
       "      <td>images/6995479941269802267_250.jpeg</td>\n",
       "      <td>0</td>\n",
       "    </tr>\n",
       "  </tbody>\n",
       "</table>\n",
       "<p>39913 rows × 3 columns</p>\n",
       "</div>"
      ],
      "text/plain": [
       "                        id                            image_path  label\n",
       "0      7068622099056823579   images/7068622099056823579_500.jpeg      1\n",
       "1      7068622099056823579  images/7068622099056823579_3576.jpeg      1\n",
       "2      7068622099056823579  images/7068622099056823579_1750.jpeg      1\n",
       "3      7068622099056823579  images/7068622099056823579_2000.jpeg      1\n",
       "4      7068622099056823579    images/7068622099056823579_00.jpeg      1\n",
       "...                    ...                                   ...    ...\n",
       "39908  6920036645060267265   images/6920036645060267265_250.jpeg      0\n",
       "39909  6920036645060267265  images/6920036645060267265_1250.jpeg      0\n",
       "39910  6920036645060267265   images/6920036645060267265_750.jpeg      0\n",
       "39911  6995479941269802267    images/6995479941269802267_00.jpeg      0\n",
       "39912  6995479941269802267   images/6995479941269802267_250.jpeg      0\n",
       "\n",
       "[39913 rows x 3 columns]"
      ]
     },
     "execution_count": 59,
     "metadata": {},
     "output_type": "execute_result"
    }
   ],
   "source": [
    "train_set_1_image"
   ]
  },
  {
   "cell_type": "code",
   "execution_count": null,
   "id": "25b6b26d",
   "metadata": {},
   "outputs": [],
   "source": []
  },
  {
   "cell_type": "code",
   "execution_count": null,
   "id": "8eb65503",
   "metadata": {},
   "outputs": [],
   "source": []
  },
  {
   "cell_type": "code",
   "execution_count": 1,
   "id": "175c6448",
   "metadata": {},
   "outputs": [],
   "source": [
    "index_lst = [(0, 5000), (5000, 10000), (10000, 15000), (15000, 20000), (20000, 25000), (25000, 30000), (30000, 35000), (35000, 39913)]"
   ]
  },
  {
   "cell_type": "code",
   "execution_count": 7,
   "id": "3f891a83",
   "metadata": {},
   "outputs": [
    {
     "name": "stdout",
     "output_type": "stream",
     "text": [
      "model_checkpoint/checkpoint_0_5000.h5\n",
      "model_checkpoint/checkpoint_5000_10000.h5\n",
      "\n",
      "model_checkpoint/checkpoint_5000_10000.h5\n",
      "model_checkpoint/checkpoint_10000_15000.h5\n",
      "\n",
      "model_checkpoint/checkpoint_10000_15000.h5\n",
      "model_checkpoint/checkpoint_15000_20000.h5\n",
      "\n",
      "model_checkpoint/checkpoint_15000_20000.h5\n",
      "model_checkpoint/checkpoint_20000_25000.h5\n",
      "\n",
      "model_checkpoint/checkpoint_20000_25000.h5\n",
      "model_checkpoint/checkpoint_25000_30000.h5\n",
      "\n",
      "model_checkpoint/checkpoint_25000_30000.h5\n",
      "model_checkpoint/checkpoint_30000_35000.h5\n",
      "\n",
      "model_checkpoint/checkpoint_30000_35000.h5\n",
      "model_checkpoint/checkpoint_35000_39913.h5\n",
      "\n"
     ]
    }
   ],
   "source": [
    "for i, tup_idx in enumerate(index_lst):\n",
    "    if i != 0:\n",
    "        checkpoint_path = f'model_checkpoint/checkpoint_{index_lst[i-1][0]}_{index_lst[i-1][1]}.h5'\n",
    "        print(checkpoint_path)\n",
    "        print(f'model_checkpoint/checkpoint_{tup_idx[0]}_{tup_idx[1]}.h5')\n",
    "        print()"
   ]
  },
  {
   "cell_type": "code",
   "execution_count": null,
   "id": "19720c27",
   "metadata": {},
   "outputs": [],
   "source": [
    "import gc\n",
    "\n",
    "for i, tup_idx in enumerate(index_lst):\n",
    "    if i != 0:\n",
    "        start_idx = tup_idx[0]\n",
    "        end_idx = tup_idx[1]\n",
    "        num_ep = 10\n",
    "        steps_per_epoch = 256\n",
    "        validation_steps = 32\n",
    "\n",
    "        trainer = image_binary_classify_keras()\n",
    "        checkpoint_path = f'model_checkpoint/checkpoint_{index_lst[i-1][0]}_{index_lst[i-1][1]}.h5'\n",
    "        trainer.init_model(checkpoint_path=checkpoint_path)\n",
    "#         trainer.init_model()\n",
    "\n",
    "        train_label_df = train_label_raw.iloc[start_idx:end_idx]\n",
    "        trainer.generate_train_valid(img_path_arr=train_label_df['image_path'], label_arr=train_label_df['label'])\n",
    "        trainer.train_model(num_epochs=num_ep, steps_per_epoch=steps_per_epoch, validation_steps=validation_steps)\n",
    "\n",
    "        # save model\n",
    "        os.makedirs('model_checkpoint', exist_ok=True)\n",
    "        trainer.save_model(f'model_checkpoint/checkpoint_{start_idx}_{end_idx}.h5')\n",
    "        gc.collect()"
   ]
  }
 ],
 "metadata": {
  "kernelspec": {
   "display_name": "Python 3 (ipykernel)",
   "language": "python",
   "name": "python3"
  },
  "language_info": {
   "codemirror_mode": {
    "name": "ipython",
    "version": 3
   },
   "file_extension": ".py",
   "mimetype": "text/x-python",
   "name": "python",
   "nbconvert_exporter": "python",
   "pygments_lexer": "ipython3",
   "version": "3.8.13"
  }
 },
 "nbformat": 4,
 "nbformat_minor": 5
}
