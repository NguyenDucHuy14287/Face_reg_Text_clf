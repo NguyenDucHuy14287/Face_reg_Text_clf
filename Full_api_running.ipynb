{
 "cells": [
  {
   "cell_type": "markdown",
   "id": "7dfe68f1",
   "metadata": {},
   "source": [
    "# Fusion prediction"
   ]
  },
  {
   "cell_type": "markdown",
   "id": "40bca577",
   "metadata": {},
   "source": [
    "Require:\n",
    "- class_text_classifier.py\n",
    "- class_image_classify_model.py\n",
    "- class_face_reg.py\n",
    "- fusion_classify_model.py\n",
    "- face_embedding/\n",
    "- model/fusion_clf_lgbm\n",
    "- model/image_clf.h5\n",
    "- model/text_clf\n",
    "- model/tfidfVectorizer"
   ]
  },
  {
   "cell_type": "code",
   "execution_count": 1,
   "id": "42d6f730",
   "metadata": {},
   "outputs": [
    {
     "name": "stdout",
     "output_type": "stream",
     "text": [
      "Version 1.2\n",
      "Device mapping:\n",
      "/job:localhost/replica:0/task:0/device:XLA_CPU:0 -> device: XLA_CPU device\n",
      "/job:localhost/replica:0/task:0/device:XLA_GPU:0 -> device: XLA_GPU device\n",
      "\n",
      "WARNING:tensorflow:From C:\\Users\\LEGION\\Desktop\\train_final\\combine\\class_image_classify_model.py:32: The name tf.keras.backend.set_session is deprecated. Please use tf.compat.v1.keras.backend.set_session instead.\n",
      "\n"
     ]
    }
   ],
   "source": [
    "from class_text_classifier import *\n",
    "from class_image_classify_model import *\n",
    "from class_face_reg import *\n",
    "from fusion_classify_model import *"
   ]
  },
  {
   "cell_type": "code",
   "execution_count": 2,
   "id": "33acce50",
   "metadata": {},
   "outputs": [
    {
     "name": "stdout",
     "output_type": "stream",
     "text": [
      "===== Load model successful from model/image_clf.h5\n"
     ]
    }
   ],
   "source": [
    "text_clf = Text_CLF.getInstance('model/tfidfVectorizer', 'model/text_clf')\n",
    "image_clf = Image_binary_classify_keras.getInstance()\n",
    "image_clf.init_model('model/image_clf.h5')\n",
    "face_reg = Face_reg.getInstance()\n",
    "fusion_clf = Fusion_CLF.getInstance('model/fusion_clf_lgbm')"
   ]
  },
  {
   "cell_type": "code",
   "execution_count": 15,
   "id": "c1212f49",
   "metadata": {},
   "outputs": [],
   "source": [
    "text = 'tham quan đất thực tế thuanchubds bấtđộngsản duet learnontiktok trending'\n",
    "frames_folder_path = './6746395734930640129'"
   ]
  },
  {
   "cell_type": "code",
   "execution_count": 16,
   "id": "d6e02dd1",
   "metadata": {},
   "outputs": [
    {
     "name": "stderr",
     "output_type": "stream",
     "text": [
      "100%|███████████████████████████████████████████████████████████████████████████████████| 3/3 [00:00<00:00, 206.41it/s]"
     ]
    },
    {
     "name": "stdout",
     "output_type": "stream",
     "text": [
      "1/1 - 0s\n"
     ]
    },
    {
     "name": "stderr",
     "output_type": "stream",
     "text": [
      "\n",
      "D:\\Program Files\\anaconda3\\envs\\python_env\\lib\\site-packages\\torch\\nn\\functional.py:780: UserWarning: Note that order of the arguments: ceil_mode and return_indices will changeto match the args list in nn.MaxPool2d in a future release.\n",
      "  warnings.warn(\"Note that order of the arguments: ceil_mode and return_indices will change\"\n"
     ]
    }
   ],
   "source": [
    "text_prediction_score = text_clf.predict_score(text)\n",
    "image_prediction_score = image_clf.predict_video_frames(frames_folder_path)\n",
    "face_regconition = face_reg.predict_video_frames(frames_folder_path)"
   ]
  },
  {
   "cell_type": "code",
   "execution_count": 17,
   "id": "f3361332",
   "metadata": {},
   "outputs": [
    {
     "data": {
      "text/plain": [
       "0.05631903672072428"
      ]
     },
     "execution_count": 17,
     "metadata": {},
     "output_type": "execute_result"
    }
   ],
   "source": [
    "text_prediction_score"
   ]
  },
  {
   "cell_type": "code",
   "execution_count": 18,
   "id": "73e5b8fc",
   "metadata": {},
   "outputs": [
    {
     "data": {
      "text/plain": [
       "0.4927523"
      ]
     },
     "execution_count": 18,
     "metadata": {},
     "output_type": "execute_result"
    }
   ],
   "source": [
    "image_prediction_score"
   ]
  },
  {
   "cell_type": "code",
   "execution_count": 19,
   "id": "501267db",
   "metadata": {},
   "outputs": [
    {
     "data": {
      "text/plain": [
       "0"
      ]
     },
     "execution_count": 19,
     "metadata": {},
     "output_type": "execute_result"
    }
   ],
   "source": [
    "face_regconition"
   ]
  },
  {
   "cell_type": "code",
   "execution_count": 20,
   "id": "16e34fd0",
   "metadata": {},
   "outputs": [
    {
     "data": {
      "text/plain": [
       "0.05333627732656662"
      ]
     },
     "execution_count": 20,
     "metadata": {},
     "output_type": "execute_result"
    }
   ],
   "source": [
    "fusion_clf.predict_score(text_prediction_score, image_prediction_score, face_regconition)"
   ]
  },
  {
   "cell_type": "code",
   "execution_count": null,
   "id": "2b69a550",
   "metadata": {},
   "outputs": [],
   "source": []
  }
 ],
 "metadata": {
  "kernelspec": {
   "display_name": "Python 3 (ipykernel)",
   "language": "python",
   "name": "python3"
  },
  "language_info": {
   "codemirror_mode": {
    "name": "ipython",
    "version": 3
   },
   "file_extension": ".py",
   "mimetype": "text/x-python",
   "name": "python",
   "nbconvert_exporter": "python",
   "pygments_lexer": "ipython3",
   "version": "3.8.13"
  }
 },
 "nbformat": 4,
 "nbformat_minor": 5
}
